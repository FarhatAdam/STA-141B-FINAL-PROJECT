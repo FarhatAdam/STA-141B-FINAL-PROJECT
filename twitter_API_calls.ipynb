{
 "cells": [
  {
   "cell_type": "markdown",
   "metadata": {
    "colab_type": "text",
    "id": "-4aCNU2Wpnia"
   },
   "source": [
    "Twitter API\n",
    "=========================================\n",
    "\n"
   ]
  },
  {
   "cell_type": "markdown",
   "metadata": {
    "colab_type": "text",
    "id": "fVT3_YKPU6Ws"
   },
   "source": [
    "You don't have to understand this code. "
   ]
  },
  {
   "cell_type": "code",
   "execution_count": 1,
   "metadata": {
    "colab": {
     "base_uri": "https://localhost:8080/",
     "height": 187
    },
    "colab_type": "code",
    "id": "9hGWchfJJPo6",
    "outputId": "efa301e4-af86-43d0-eef9-8302c51ca1b5"
   },
   "outputs": [],
   "source": [
    "# !pip install tweepy\n",
    "# install twitter module for python"
   ]
  },
  {
   "cell_type": "code",
   "execution_count": 2,
   "metadata": {
    "colab": {},
    "colab_type": "code",
    "id": "MRD7xpB_LrM2"
   },
   "outputs": [],
   "source": [
    "import os \n",
    "from pprint import pprint\n",
    "import json\n",
    "import tweepy\n",
    "import numpy as np\n",
    "import pandas as pd"
   ]
  },
  {
   "cell_type": "markdown",
   "metadata": {},
   "source": [
    "# Authorization"
   ]
  },
  {
   "cell_type": "code",
   "execution_count": 3,
   "metadata": {
    "colab": {},
    "colab_type": "code",
    "id": "qrMMtEAPh30Z"
   },
   "outputs": [],
   "source": [
    "#api keys\n",
    "CONSUMER_KEY = \"\"\n",
    "CONSUMER_SECRET = \"\"\n",
    "ACCESS_TOKEN = \"\"\n",
    "ACCESS_TOKEN_SECRET = \"\"\n",
    "\n",
    "\n",
    "auth = tweepy.OAuthHandler(CONSUMER_KEY, CONSUMER_SECRET)\n",
    "auth.set_access_token(ACCESS_TOKEN, ACCESS_TOKEN_SECRET)\n",
    "\n",
    "api = tweepy.API(auth,wait_on_rate_limit=True)"
   ]
  },
  {
   "cell_type": "markdown",
   "metadata": {},
   "source": [
    "# Choosing Samples"
   ]
  },
  {
   "cell_type": "markdown",
   "metadata": {},
   "source": [
    "Given the limitations of the free Twitter API, we chose to sample the 5 counties that had the highest proportion of votes for Democratic and Republican parties respectively. Interestingly, all these counties are in close proximity to one another."
   ]
  },
  {
   "cell_type": "code",
   "execution_count": 4,
   "metadata": {},
   "outputs": [],
   "source": [
    "county_data = pd.read_csv(\"county_politics.csv\")"
   ]
  },
  {
   "cell_type": "markdown",
   "metadata": {},
   "source": [
    "## Top 5 Democratic Majority Counties in CA"
   ]
  },
  {
   "cell_type": "code",
   "execution_count": 5,
   "metadata": {},
   "outputs": [
    {
     "data": {
      "text/html": [
       "<div>\n",
       "<style scoped>\n",
       "    .dataframe tbody tr th:only-of-type {\n",
       "        vertical-align: middle;\n",
       "    }\n",
       "\n",
       "    .dataframe tbody tr th {\n",
       "        vertical-align: top;\n",
       "    }\n",
       "\n",
       "    .dataframe thead th {\n",
       "        text-align: right;\n",
       "    }\n",
       "</style>\n",
       "<table border=\"1\" class=\"dataframe\">\n",
       "  <thead>\n",
       "    <tr style=\"text-align: right;\">\n",
       "      <th></th>\n",
       "      <th>county</th>\n",
       "      <th>dem_pct</th>\n",
       "      <th>rep_pct</th>\n",
       "      <th>majority</th>\n",
       "      <th>lat</th>\n",
       "      <th>long</th>\n",
       "    </tr>\n",
       "  </thead>\n",
       "  <tbody>\n",
       "    <tr>\n",
       "      <th>37</th>\n",
       "      <td>San Francisco</td>\n",
       "      <td>85.26%</td>\n",
       "      <td>12.72%</td>\n",
       "      <td>Democrat</td>\n",
       "      <td>37.779026</td>\n",
       "      <td>-122.419906</td>\n",
       "    </tr>\n",
       "    <tr>\n",
       "      <th>20</th>\n",
       "      <td>Marin</td>\n",
       "      <td>82.33%</td>\n",
       "      <td>15.79%</td>\n",
       "      <td>Democrat</td>\n",
       "      <td>38.040914</td>\n",
       "      <td>-122.619964</td>\n",
       "    </tr>\n",
       "    <tr>\n",
       "      <th>0</th>\n",
       "      <td>Alameda</td>\n",
       "      <td>79.83%</td>\n",
       "      <td>17.62%</td>\n",
       "      <td>Democrat</td>\n",
       "      <td>37.609029</td>\n",
       "      <td>-121.899142</td>\n",
       "    </tr>\n",
       "    <tr>\n",
       "      <th>43</th>\n",
       "      <td>Santa Cruz</td>\n",
       "      <td>78.44%</td>\n",
       "      <td>18.49%</td>\n",
       "      <td>Democrat</td>\n",
       "      <td>37.050096</td>\n",
       "      <td>-121.990591</td>\n",
       "    </tr>\n",
       "    <tr>\n",
       "      <th>40</th>\n",
       "      <td>San Mateo</td>\n",
       "      <td>77.89%</td>\n",
       "      <td>20.20%</td>\n",
       "      <td>Democrat</td>\n",
       "      <td>37.496904</td>\n",
       "      <td>-122.333057</td>\n",
       "    </tr>\n",
       "  </tbody>\n",
       "</table>\n",
       "</div>"
      ],
      "text/plain": [
       "           county dem_pct rep_pct  majority        lat        long\n",
       "37  San Francisco  85.26%  12.72%  Democrat  37.779026 -122.419906\n",
       "20          Marin  82.33%  15.79%  Democrat  38.040914 -122.619964\n",
       "0         Alameda  79.83%  17.62%  Democrat  37.609029 -121.899142\n",
       "43     Santa Cruz  78.44%  18.49%  Democrat  37.050096 -121.990591\n",
       "40      San Mateo  77.89%  20.20%  Democrat  37.496904 -122.333057"
      ]
     },
     "execution_count": 5,
     "metadata": {},
     "output_type": "execute_result"
    }
   ],
   "source": [
    "dems = county_data[county_data[\"majority\"]==\"Democrat\"]\n",
    "dem_short = dems.sort_values(\"dem_pct\", ascending= False).head() #find 5 highest proportion democrat voting counties\n",
    "dem_short"
   ]
  },
  {
   "cell_type": "markdown",
   "metadata": {},
   "source": [
    "## Top 5 Republican Majority Counties in CA"
   ]
  },
  {
   "cell_type": "code",
   "execution_count": 9,
   "metadata": {},
   "outputs": [
    {
     "data": {
      "text/html": [
       "<div>\n",
       "<style scoped>\n",
       "    .dataframe tbody tr th:only-of-type {\n",
       "        vertical-align: middle;\n",
       "    }\n",
       "\n",
       "    .dataframe tbody tr th {\n",
       "        vertical-align: top;\n",
       "    }\n",
       "\n",
       "    .dataframe thead th {\n",
       "        text-align: right;\n",
       "    }\n",
       "</style>\n",
       "<table border=\"1\" class=\"dataframe\">\n",
       "  <thead>\n",
       "    <tr style=\"text-align: right;\">\n",
       "      <th></th>\n",
       "      <th>county</th>\n",
       "      <th>dem_pct</th>\n",
       "      <th>rep_pct</th>\n",
       "      <th>majority</th>\n",
       "      <th>lat</th>\n",
       "      <th>long</th>\n",
       "    </tr>\n",
       "  </thead>\n",
       "  <tbody>\n",
       "    <tr>\n",
       "      <th>17</th>\n",
       "      <td>Lassen</td>\n",
       "      <td>23.24%</td>\n",
       "      <td>74.47%</td>\n",
       "      <td>Republican</td>\n",
       "      <td>40.768558</td>\n",
       "      <td>-120.730998</td>\n",
       "    </tr>\n",
       "    <tr>\n",
       "      <th>24</th>\n",
       "      <td>Modoc</td>\n",
       "      <td>26.33%</td>\n",
       "      <td>71.19%</td>\n",
       "      <td>Republican</td>\n",
       "      <td>41.545049</td>\n",
       "      <td>-120.743600</td>\n",
       "    </tr>\n",
       "    <tr>\n",
       "      <th>51</th>\n",
       "      <td>Tehama</td>\n",
       "      <td>31.02%</td>\n",
       "      <td>66.62%</td>\n",
       "      <td>Republican</td>\n",
       "      <td>40.125133</td>\n",
       "      <td>-122.201553</td>\n",
       "    </tr>\n",
       "    <tr>\n",
       "      <th>44</th>\n",
       "      <td>Shasta</td>\n",
       "      <td>32.28%</td>\n",
       "      <td>65.41%</td>\n",
       "      <td>Republican</td>\n",
       "      <td>40.796512</td>\n",
       "      <td>-121.997919</td>\n",
       "    </tr>\n",
       "    <tr>\n",
       "      <th>10</th>\n",
       "      <td>Glenn</td>\n",
       "      <td>35.36%</td>\n",
       "      <td>62.52%</td>\n",
       "      <td>Republican</td>\n",
       "      <td>39.591277</td>\n",
       "      <td>-122.377866</td>\n",
       "    </tr>\n",
       "  </tbody>\n",
       "</table>\n",
       "</div>"
      ],
      "text/plain": [
       "    county dem_pct rep_pct    majority        lat        long\n",
       "17  Lassen  23.24%  74.47%  Republican  40.768558 -120.730998\n",
       "24   Modoc  26.33%  71.19%  Republican  41.545049 -120.743600\n",
       "51  Tehama  31.02%  66.62%  Republican  40.125133 -122.201553\n",
       "44  Shasta  32.28%  65.41%  Republican  40.796512 -121.997919\n",
       "10   Glenn  35.36%  62.52%  Republican  39.591277 -122.377866"
      ]
     },
     "execution_count": 9,
     "metadata": {},
     "output_type": "execute_result"
    }
   ],
   "source": [
    "reps = county_data[county_data[\"majority\"]==\"Republican\"]\n",
    "rep_short = reps.sort_values(\"rep_pct\", ascending= False).head() #find 5 highest proportion democrat voting counties\n",
    "rep_short"
   ]
  },
  {
   "cell_type": "markdown",
   "metadata": {},
   "source": [
    "# Retrieving Tweets"
   ]
  },
  {
   "cell_type": "markdown",
   "metadata": {},
   "source": [
    "We made a function that makes it easier to retrieve Tweets about a topic given a certain location. We believe our version is a bit more readable than the API, especially when we want to carry out these queries for multiple locations. Currently, it is not possible to retrive tweets from multiple coordinates using the Twitter API natively."
   ]
  },
  {
   "cell_type": "code",
   "execution_count": 27,
   "metadata": {},
   "outputs": [],
   "source": [
    "def get_topic_tweets(topic,lat,long):\n",
    "    '''Searches tweets about a topic (in the form of string) given coordinates'''\n",
    "    tweet_list = []\n",
    "    response = api.search_tweets(str(topic),\n",
    "                                geocode = str(lat) + \",\" + str(long) + \",100km\",\n",
    "                                count = 50,\n",
    "                                result_type=\"recent\",\n",
    "                                lang=\"en\")\n",
    "    for i in response: \n",
    "        tweet_list.append(i.text.split(\"https\")[0])\n",
    "    \n",
    "    return tweet_list"
   ]
  },
  {
   "cell_type": "markdown",
   "metadata": {},
   "source": [
    "# Republican County Tweets"
   ]
  },
  {
   "cell_type": "code",
   "execution_count": 29,
   "metadata": {},
   "outputs": [],
   "source": [
    "rep_twt = []\n",
    "\n",
    "for i in range (0,5):\n",
    "    rep_twt += get_topic_tweets(\"covid\",rep_short.iloc[i,4],rep_short.iloc[i,5]) #search each county for covid tweets"
   ]
  },
  {
   "cell_type": "code",
   "execution_count": null,
   "metadata": {},
   "outputs": [],
   "source": [
    "rep_twt_df = pd.DataFrame(rep_twt, columns = [\"tweet\"]).drop_duplicates() #create dataframe for tweets, drops duplicates\n",
    "#rep_twt_df.to_csv(\"republican_tweets.csv\",index = False)"
   ]
  },
  {
   "cell_type": "code",
   "execution_count": 16,
   "metadata": {},
   "outputs": [],
   "source": [
    "rep_twt_df = pd.read_csv(\"republican_tweets.csv\")"
   ]
  },
  {
   "cell_type": "code",
   "execution_count": 17,
   "metadata": {},
   "outputs": [
    {
     "data": {
      "text/html": [
       "<div>\n",
       "<style scoped>\n",
       "    .dataframe tbody tr th:only-of-type {\n",
       "        vertical-align: middle;\n",
       "    }\n",
       "\n",
       "    .dataframe tbody tr th {\n",
       "        vertical-align: top;\n",
       "    }\n",
       "\n",
       "    .dataframe thead th {\n",
       "        text-align: right;\n",
       "    }\n",
       "</style>\n",
       "<table border=\"1\" class=\"dataframe\">\n",
       "  <thead>\n",
       "    <tr style=\"text-align: right;\">\n",
       "      <th></th>\n",
       "      <th>tweet</th>\n",
       "    </tr>\n",
       "  </thead>\n",
       "  <tbody>\n",
       "    <tr>\n",
       "      <th>0</th>\n",
       "      <td>Dems set up clash with GOP by pairing Covid re...</td>\n",
       "    </tr>\n",
       "    <tr>\n",
       "      <th>1</th>\n",
       "      <td>@covid_priest @christogrozev @mod_russia Oh, i...</td>\n",
       "    </tr>\n",
       "    <tr>\n",
       "      <th>2</th>\n",
       "      <td>Trucker convoy laps Washington, DC, beltway to...</td>\n",
       "    </tr>\n",
       "    <tr>\n",
       "      <th>3</th>\n",
       "      <td>Biden’s ‘test to treat’ covid plan draws prais...</td>\n",
       "    </tr>\n",
       "    <tr>\n",
       "      <th>4</th>\n",
       "      <td>@Kenny_Wallace My kids dad for covid pneumonia...</td>\n",
       "    </tr>\n",
       "    <tr>\n",
       "      <th>...</th>\n",
       "      <td>...</td>\n",
       "    </tr>\n",
       "    <tr>\n",
       "      <th>108</th>\n",
       "      <td>19 New Cases of COVID-19 Identified in Mendoci...</td>\n",
       "    </tr>\n",
       "    <tr>\n",
       "      <th>109</th>\n",
       "      <td>19 New Cases of COVID-19 Identified in Mendoci...</td>\n",
       "    </tr>\n",
       "    <tr>\n",
       "      <th>110</th>\n",
       "      <td>19 New Cases of COVID-19 Identified in Mendoci...</td>\n",
       "    </tr>\n",
       "    <tr>\n",
       "      <th>111</th>\n",
       "      <td>All your Covid stimmies used for co-pays for m...</td>\n",
       "    </tr>\n",
       "    <tr>\n",
       "      <th>112</th>\n",
       "      <td>@dmac1043 Mark my words. Covid(new variant mor...</td>\n",
       "    </tr>\n",
       "  </tbody>\n",
       "</table>\n",
       "<p>113 rows × 1 columns</p>\n",
       "</div>"
      ],
      "text/plain": [
       "                                                 tweet\n",
       "0    Dems set up clash with GOP by pairing Covid re...\n",
       "1    @covid_priest @christogrozev @mod_russia Oh, i...\n",
       "2    Trucker convoy laps Washington, DC, beltway to...\n",
       "3    Biden’s ‘test to treat’ covid plan draws prais...\n",
       "4    @Kenny_Wallace My kids dad for covid pneumonia...\n",
       "..                                                 ...\n",
       "108  19 New Cases of COVID-19 Identified in Mendoci...\n",
       "109  19 New Cases of COVID-19 Identified in Mendoci...\n",
       "110  19 New Cases of COVID-19 Identified in Mendoci...\n",
       "111  All your Covid stimmies used for co-pays for m...\n",
       "112  @dmac1043 Mark my words. Covid(new variant mor...\n",
       "\n",
       "[113 rows x 1 columns]"
      ]
     },
     "execution_count": 17,
     "metadata": {},
     "output_type": "execute_result"
    }
   ],
   "source": [
    "rep_twt_df"
   ]
  },
  {
   "cell_type": "code",
   "execution_count": 18,
   "metadata": {},
   "outputs": [
    {
     "name": "stderr",
     "output_type": "stream",
     "text": [
      "[nltk_data] Downloading package stopwords to\n",
      "[nltk_data]     /Users/farhat/nltk_data...\n",
      "[nltk_data]   Package stopwords is already up-to-date!\n",
      "[nltk_data] Downloading package punkt to /Users/farhat/nltk_data...\n",
      "[nltk_data]   Package punkt is already up-to-date!\n",
      "[nltk_data] Downloading package wordnet to /Users/farhat/nltk_data...\n",
      "[nltk_data]   Package wordnet is already up-to-date!\n"
     ]
    }
   ],
   "source": [
    "import text2emotion as te"
   ]
  },
  {
   "cell_type": "code",
   "execution_count": 19,
   "metadata": {},
   "outputs": [],
   "source": [
    "rep_no_dupes = list(rep_twt_df.tweet) #get republican tweets without duplicates in list form"
   ]
  },
  {
   "cell_type": "code",
   "execution_count": 20,
   "metadata": {},
   "outputs": [
    {
     "data": {
      "text/plain": [
       "113"
      ]
     },
     "execution_count": 20,
     "metadata": {},
     "output_type": "execute_result"
    }
   ],
   "source": [
    "len(rep_no_dupes)"
   ]
  },
  {
   "cell_type": "code",
   "execution_count": 21,
   "metadata": {},
   "outputs": [
    {
     "data": {
      "text/plain": [
       "{'Happy': 0.16, 'Angry': 0.04, 'Surprise': 0.22, 'Sad': 0.21, 'Fear': 0.36}"
      ]
     },
     "execution_count": 21,
     "metadata": {},
     "output_type": "execute_result"
    }
   ],
   "source": [
    "rep_twt_master = \" \".join(rep_no_dupes)\n",
    "rep_emotion = te.get_emotion(rep_twt_master)\n",
    "rep_emotion"
   ]
  },
  {
   "cell_type": "markdown",
   "metadata": {},
   "source": [
    "# Democrat County Tweets"
   ]
  },
  {
   "cell_type": "code",
   "execution_count": 10,
   "metadata": {},
   "outputs": [],
   "source": [
    "dem_twt = []\n",
    "\n",
    "#since all the top 5 democratic counties are within close proximity, \n",
    "#I choose to use only one location within 100km radius\n",
    "\n",
    "response = api.search_tweets(\"covid\", geocode = str(37.779026) + \",\" + str(-122.419906) + \",100km\",\n",
    "                    count = 200,\n",
    "                    result_type=\"recent\",\n",
    "                    lang=\"en\")\n",
    "\n",
    "for i in response: \n",
    "    dem_twt.append(i.text.split(\"https\")[0])\n"
   ]
  },
  {
   "cell_type": "code",
   "execution_count": 11,
   "metadata": {},
   "outputs": [
    {
     "data": {
      "text/plain": [
       "100"
      ]
     },
     "execution_count": 11,
     "metadata": {},
     "output_type": "execute_result"
    }
   ],
   "source": [
    "len(dem_twt)"
   ]
  },
  {
   "cell_type": "code",
   "execution_count": 12,
   "metadata": {},
   "outputs": [
    {
     "data": {
      "text/plain": [
       "['Hawaii becomes the final state to drop a mask mandate. Meanwhile in other news 1500 people/day are dying from covid right now. Right NOW!!!',\n",
       " '“She was told by one representative that a ‘young thing’ like her could not be disabled by the virus.”\\n\\n“There were… ',\n",
       " 'Is anyone else just getting decimated by (not covid) sicknesses since starting to do more things recently after a 2… ',\n",
       " 'Fascinating conversation happening now between Alexander Zaitchik and @lmlauramarsh for @newrepublic about missed o… ',\n",
       " 'Four thousand more cases, four deaths related to COVID-19 since Friday. ',\n",
       " 'An incredible and inspiring story indeed! #CorsiRosenthalBox @CorsIAQ @JimRosenthal4 #covid #innovation #impact ',\n",
       " 'California’s COVID positive test rate plunges to the lowest point since July -- but the state is still reporting 17… ',\n",
       " 'How to cope with the anxiety of no longer wearing a mask... ',\n",
       " 'Influence of exercise and vitamin D on the immune system against Covid-19: an integrative review of current literat… ',\n",
       " 'Been thinking about the reopening implications, and if I *have* to impair my brain ... I choose alcohol. ',\n",
       " \"@SouthwestAir can I get some drink coupons reissued? I threw out the old ones and the gate agent just announced y'a… \",\n",
       " 'Thanks #Russia we found that #USA facilities in #Ukraine was  making #biological weapons! Now we knew #Covid-19 was… ',\n",
       " 'Colchicine use in patients with COVID-19: A systematic review and meta-analysis ',\n",
       " 'COVID-19 cases in the Napa school district last week also fell to their lowest level since the new year. ',\n",
       " 'COVID-19 cases in the Napa school district last week also fell to their lowest level since the new year. ',\n",
       " 'COVID-19 cases in the Napa school district last week also fell to their lowest level since the new year. ',\n",
       " \"The LAPD has fired three employees and is in the process of terminating seven more for violating the city's COVID-1… \",\n",
       " 'Facing rejection for a course, @yodifiji told then-dean @RichardFeachem: “This is what I want to do and I am not le… ',\n",
       " 'Facing rejection for a course, @yodifiji told then-dean @RichardFeachem: “This is what I want to do and I am not le… ',\n",
       " 'Michael @Novogradac and Novogradac partner Blair Kincer discuss the effects of the COVID-19 pandemic on low-income… ',\n",
       " 'The drop in the statewide positive test rate comes on the back of the winter COVID-19 surge fueled by the highly in… ',\n",
       " '@BarkMagnet @NoMisinfoToday @PLHartungRN @BeckyJohnson444 @MsTrixter @troydee @handmadekathy @KStateTurk… ',\n",
       " 'Disease in a dish: What mini-hearts and other organs reveal about #LongCOVID\\n\\n@mercnews story by @lisamkrieger… ',\n",
       " 'Me in unherd: \\n\"The proper use of the Covid vaccine in children to offer it so that it can be used — in consultatio… ',\n",
       " \"Suffering from COVID-19 anxiety? Here's what you can do. \",\n",
       " '@field1455 @WMGSW @dbs408 Dude literally missed summer league, training camp and had covid twice. But because he di… ',\n",
       " 'Like gun violence, overdose, extreme heat death, heart disease, and smoking, [COVID] becomes increasingly associate… ',\n",
       " '@KathMLee1 @still_a_nerd Lots of these folks moved out of the cities they were working at due to the cost of living… ',\n",
       " 'well americans seem ok with 2,000 americans dying every day from covid but seem upset when 406 ukrainian civilians… ',\n",
       " \"In Noggin's Work Safety Newsletter this week we discuss the top safety risks to mitigate in the age of endemic covi… \",\n",
       " 'What You Have To Say About Our RT-PCR Test.\\nFor More Information Visit Us Now: ',\n",
       " '@andy741114 @TimHannan Trump! And I\\'m assuming he\\'s referring to covid, that it would \"just disappear.\" Yes, they a… ',\n",
       " '#covid19 #Hawaii on Tuesday became the 50th &amp; final state to announce that it will drop its universal indoor mask m… ',\n",
       " '@kurteichenwald With a plethora of free, widely available vaccines in the U.S., nearly every Covid death is a plann… ',\n",
       " 'Bay Area rents are approaching pre-COVID levels.\\n\\n',\n",
       " 'I hate this week sm all I’m seeing is snap memories from 2 years ago of the last days of living our lives pre covid :/',\n",
       " '@LaurenPelley @AbraarKaran @sfchronicle Also, \"getting COVID eventually\" can mean very different things, depending… ',\n",
       " \"@PoliticAlBor @KevinKileyCA CA's economy WAS strong, now companies are moving HQs elsewhere and CA has had one of t… \",\n",
       " '@nypost Great. Just what the world needs. \\n\\nFirst Covid is unleashed on the world.\\n\\nThen, Russia invades Ukraine.… ',\n",
       " 'DDR darkest timeline:\\n\\nGas prices nearing $6/gal. \\nR1 DDR price increase.\\nNot enough staff to maintain R1 DDR pads.… ',\n",
       " '@HamiltonMorris @bmj_latest several new preprints show more evidence of zoonotic origin: ',\n",
       " '@RzstProgramming Asian countries that already wore masks if they were sick or to avoid getting sick had the lowest… ',\n",
       " 'Exactly. Production is at the same level as in January, yet prices are up almost 20% in some places in the U. S. Mo… ',\n",
       " 'SARS-CoV-2 spike-specific memory B cells express higher levels of T-bet and FcRL5 after non-severe COVID-19 as comp… ',\n",
       " \"If you're vaccinated and had COVID, will you be better protected when the next round of COVID-19 hits the scene? \",\n",
       " \"It's been two years since #Covid_19 first spread into Santa Cruz County. 255 local residents have died.   \",\n",
       " '@WhiteHouse @POTUS Why is the US the last western democracy to end the burdensome  COVID testing for international… ',\n",
       " \"@Givemetheta @covid_clarity They didn't shut down work and school.\",\n",
       " 'Nearly 1000 Florida residents have died of COVID since this tweet. ',\n",
       " '“For me, it’s super important, not only as a health care provider, but because I’m also pregnant and want to make s… ',\n",
       " '@3dogasylum @djconn @SenSanders And to answer your second search it’s an article about Starbucks employees facing c… ',\n",
       " 'Generosity and 21 Days of Abundance During COVID-19 - via @pensignal  ',\n",
       " '@LightskinnedAv1 Exactly. And of course it vastly disproportionately affects POC and other marginalized communities… ',\n",
       " 'Minneapolis public school teachers hit the picket lines today, fighting for “safe and stable schools our students d… ',\n",
       " \"Travel Seekers are viewers who have spent lockdown dreaming of and planning post-covid adventures. \\n\\nTubular's Cons… \",\n",
       " 'My biggest flex is I still haven’t gotten COVID this entire pandemic 🙏🏽✨💪🏽🤷🏽\\u200d♀️',\n",
       " 'Last two years, had to stay home because of Covid. Now we have to stay home unless it’s driving to work or grocery… ',\n",
       " \"Florida's top health official recommends against COVID vaccines for kids \",\n",
       " '@rwang0 Decreasing our Covid death count by more than 95% would seem like a strange definition of \"failure\".',\n",
       " '@jedc Had an easy one yesterday for the same reason, after more than 2 yrs w/o a visit due to covid.',\n",
       " 'It’s safe to say that no industry has remained the same through COVID-19, but healthcare especially so. Kellogg Ins… ',\n",
       " 'Massive trial shows COVID rapid tests excel at detecting silent cases ',\n",
       " '@Matt25921765 @garbageDems @kathleenalice4 @IAGovernor @QTWIQ1 One of the main problems with Covid is that the majo… ',\n",
       " 'Fourth COVID vaccine could soon get FDA approval in U.S. | Fortune ',\n",
       " 'Because of COVID-19, many homeowners have fallen behind on their mortgage payments &amp; turned to relief programs for… ',\n",
       " 'COVID cases will eventually go up\\nWe are not prepared for that moment\\n\\nTurns out there was a negative consequence t… ',\n",
       " 'Closing #maternity units in small towns and under resourced neighborhoods disproportionately impacts those already… ',\n",
       " '@Matt25921765 @garbageDems @kathleenalice4 @IAGovernor Who is the sheep? Why don’t you follow @QTWIQ1 She is like y… ',\n",
       " 'California school mask mandate: Is it ending too soon for little children? Some say yes ',\n",
       " 'California is working with communities to ensure schoolchildren have access to free COVID-19 testing. If your child… ',\n",
       " 'Park officials and the SFMTA recommended that JFK Drive remain closed to vehicles along a 3-mile stretch between Li… ',\n",
       " 'Oh wow, I\\'ve been added to a list of \"COVID 19 COLLABORATORS\"\\n\\nI should be scared now.',\n",
       " 'An expert group convened by the World Health Organization said Tuesday it “strongly supports urgent and broad acces… ',\n",
       " 'Santa Clara County transitioned from indoor mask mandate to a strong recommendation, regardless of vaccination stat… ',\n",
       " 'Covid is still a thing. ',\n",
       " '@kaylajohnson28 @rebeccacherman @adamundefined @KevinDr_ver @MonicaCarmean We discovered MAFS about six months in t… ',\n",
       " 'A recent study, not yet peer-reviewed, found the Pfizer/BioNTech #COVID19 vaccine less effective for children aged… ',\n",
       " 'Is this muscle fatigue or is it #Covid? \\n🤔',\n",
       " 'Another round of free COVID-19 tests are available from the Biden Administration again. Four are available for each… ',\n",
       " 'Another round of free COVID-19 tests are available from the Biden Administration again. Four are available for each… ',\n",
       " '@Matt25921765 @garbageDems @kathleenalice4 @IAGovernor That is so wrong and shows are aren’t a critical thinker. A… ',\n",
       " \"Here's another good one that I just lucked across, from HHS (jointly with DOJ) on long covid:… \",\n",
       " \"It's #InternationalWomensDay! We are raising funds through our #GOMujeres campaign to provide community care for La… \",\n",
       " '@flapdoodle_ @DanCaswil @kaktusbam @Howayed @TheDailyShow To follow up on this point, people who choose not to stay… ',\n",
       " '@KQEDForum @mkimreporter i did NOT get sick at all this year so far but before the pandemic, kids coughed in my fac… ',\n",
       " 'Michigan man on vacation in Florida got COVID. It cost him his legs but he’s still\\xa0fighting ',\n",
       " '@flapdoodle_ @DanCaswil @kaktusbam @Howayed @TheDailyShow All the government “measures” for Covid are intended for… ',\n",
       " '@RossSchumann @Mogulseeker @POTUS The collapse in oil production in 2020 was the result of COVID and a collapse in… ',\n",
       " 'ICYMI: you can now get a second batch of 4 free COVID tests 🧪\\n\\n',\n",
       " 'Recently we just had the following events:\\n\\n1. Covid\\n2. Stock market and crypto market crash in the beginning of Co… ',\n",
       " '@ASBMilitary lol Wuhan scientists literally spread covid and now china is saying this 😂😂 clown shoes',\n",
       " \"@rwang0 New Zealand continues to have 13 dead from Covid per million. That's 227x less than the United States. \\n\\nHa… \",\n",
       " \"International Women's Day shout-out to @Jelliffe_Pawlow for her body of work on preterm birth &amp; how to prevent it,… \",\n",
       " 'You’ve probably attended more than a few #Zoom sales meetings over these past few Covid years. These tips can help… ',\n",
       " 'You can now get up to 8 FREE at-home #COVID tests via @USPS. Details below: \\n\\n',\n",
       " 'Whew ty snap for the Pre Covid mems 🥴',\n",
       " '@brndxix Idc care about covid anymore tbh but pollen season is starting up in the south so Imma keep my mask on for that.',\n",
       " 'God, this story by @OakMorr is brutal ',\n",
       " 'Y didn’t u dummies do this during Covid ',\n",
       " 'Stanford reported 44 new COVID-19 cases among students and 25 new cases among faculty, staff and postdoctoral schol… ']"
      ]
     },
     "execution_count": 12,
     "metadata": {},
     "output_type": "execute_result"
    }
   ],
   "source": [
    "dem_twt"
   ]
  },
  {
   "cell_type": "code",
   "execution_count": 14,
   "metadata": {},
   "outputs": [],
   "source": [
    "#dem_twt_df = pd.DataFrame(dem_twt, columns = [\"tweet\"]).drop_duplicates() #create dataframe for tweets, drops duplicates\n",
    "#dem_twt_df.to_csv(\"dem_tweets.csv\",index = False)"
   ]
  },
  {
   "cell_type": "code",
   "execution_count": 22,
   "metadata": {},
   "outputs": [],
   "source": [
    "rep_twt_df = pd.read_csv(\"dem_tweets.csv\")"
   ]
  },
  {
   "cell_type": "code",
   "execution_count": 23,
   "metadata": {},
   "outputs": [],
   "source": [
    "dem_no_dupes = list(dem_twt_df.tweet)\n",
    "dem_twt_master = \" \".join(dem_no_dupes)"
   ]
  },
  {
   "cell_type": "code",
   "execution_count": 24,
   "metadata": {},
   "outputs": [
    {
     "data": {
      "text/plain": [
       "96"
      ]
     },
     "execution_count": 24,
     "metadata": {},
     "output_type": "execute_result"
    }
   ],
   "source": [
    "len(dem_no_dupes)"
   ]
  },
  {
   "cell_type": "code",
   "execution_count": 25,
   "metadata": {},
   "outputs": [
    {
     "data": {
      "text/plain": [
       "{'Happy': 0.13, 'Angry': 0.07, 'Surprise': 0.2, 'Sad': 0.28, 'Fear': 0.33}"
      ]
     },
     "execution_count": 25,
     "metadata": {},
     "output_type": "execute_result"
    }
   ],
   "source": [
    "dem_emotion = te.get_emotion(dem_twt_master)\n",
    "dem_emotion"
   ]
  },
  {
   "cell_type": "code",
   "execution_count": null,
   "metadata": {},
   "outputs": [],
   "source": [
    "dem_emo_df = pd.DataFrame([list(dem_emotion.keys()),\n",
    "              list(dem_emotion.values())]).T\n",
    "\n",
    "dem_emo_df[\"majority\"] = \"Democrat\"\n",
    "\n",
    "dem_emo_df.columns = [\"Emotion\",\"Value\",\"Majority\"]\n",
    "\n",
    "dem_emo_df"
   ]
  },
  {
   "cell_type": "code",
   "execution_count": null,
   "metadata": {},
   "outputs": [],
   "source": [
    "rep_emo_df = pd.DataFrame([list(rep_emotion.keys()),\n",
    "              list(rep_emotion.values())]).T\n",
    "\n",
    "rep_emo_df[\"majority\"] = \"Republican\"\n",
    "\n",
    "rep_emo_df.columns = [\"Emotion\",\"Value\",\"Majority\"]\n",
    "\n",
    "rep_emo_df"
   ]
  },
  {
   "cell_type": "code",
   "execution_count": null,
   "metadata": {},
   "outputs": [],
   "source": [
    "all_emotes = pd.concat([dem_emo_df,rep_emo_df])\n",
    "all_emotes"
   ]
  },
  {
   "cell_type": "code",
   "execution_count": null,
   "metadata": {},
   "outputs": [],
   "source": [
    "#all_emotes.to_csv(\"tweet_emotions.csv\",index=False)"
   ]
  },
  {
   "cell_type": "code",
   "execution_count": 15,
   "metadata": {},
   "outputs": [
    {
     "ename": "NameError",
     "evalue": "name 'all_emotes' is not defined",
     "output_type": "error",
     "traceback": [
      "\u001b[0;31m---------------------------------------------------------------------------\u001b[0m",
      "\u001b[0;31mNameError\u001b[0m                                 Traceback (most recent call last)",
      "\u001b[0;32m/var/folders/r6/9qzn5nrj5ndb8t25dknr7m0w0000gn/T/ipykernel_2115/2221951499.py\u001b[0m in \u001b[0;36m<module>\u001b[0;34m\u001b[0m\n\u001b[1;32m      1\u001b[0m \u001b[0;32mimport\u001b[0m \u001b[0mplotly\u001b[0m\u001b[0;34m.\u001b[0m\u001b[0mexpress\u001b[0m \u001b[0;32mas\u001b[0m \u001b[0mpx\u001b[0m\u001b[0;34m\u001b[0m\u001b[0;34m\u001b[0m\u001b[0m\n\u001b[0;32m----> 2\u001b[0;31m fig = px.bar(all_emotes, x=\"Emotion\", y=\"Value\", color=\"Majority\", barmode = \"group\",\n\u001b[0m\u001b[1;32m      3\u001b[0m             title = \"Emotions of Tweets Regarding COVID, Democratic Counties (n=99) vs. Republican Counties(n=103)\")\n\u001b[1;32m      4\u001b[0m \u001b[0;34m\u001b[0m\u001b[0m\n\u001b[1;32m      5\u001b[0m \u001b[0mfig\u001b[0m\u001b[0;34m.\u001b[0m\u001b[0mshow\u001b[0m\u001b[0;34m(\u001b[0m\u001b[0;34m)\u001b[0m\u001b[0;34m\u001b[0m\u001b[0;34m\u001b[0m\u001b[0m\n",
      "\u001b[0;31mNameError\u001b[0m: name 'all_emotes' is not defined"
     ]
    }
   ],
   "source": [
    "import plotly.express as px\n",
    "fig = px.bar(all_emotes, x=\"Emotion\", y=\"Value\", color=\"Majority\", barmode = \"group\",\n",
    "            title = \"Emotions of Tweets Regarding COVID, Democratic Counties (n=99) vs. Republican Counties(n=103)\")\n",
    "\n",
    "fig.show()"
   ]
  },
  {
   "cell_type": "code",
   "execution_count": null,
   "metadata": {},
   "outputs": [],
   "source": []
  },
  {
   "cell_type": "code",
   "execution_count": null,
   "metadata": {
    "deletable": false,
    "editable": false,
    "nbgrader": {
     "cell_type": "code",
     "checksum": "9c31a5807b7ab55344ee8cb75e622de2",
     "grade": true,
     "grade_id": "demo3_submitted",
     "locked": true,
     "points": 2,
     "schema_version": 3,
     "solution": false,
     "task": false
    }
   },
   "outputs": [],
   "source": []
  }
 ],
 "metadata": {
  "colab": {
   "collapsed_sections": [
    "7mxZYdbu8x6E",
    "bsP7Cp3EO47o",
    "AYWmceR3eF_W",
    "VC4RRh5oAfaG",
    "uiQ6P6oYeK26",
    "sAEBYzaud9Mn",
    "8P6lvC-a82KA",
    "vxRR1frv82j9",
    "ULoHdecD82tJ",
    "QbrUdV6Tq8mU"
   ],
   "name": "152V_Demos.ipynb",
   "provenance": []
  },
  "kernelspec": {
   "display_name": "Python 3 (ipykernel)",
   "language": "python",
   "name": "python3"
  },
  "language_info": {
   "codemirror_mode": {
    "name": "ipython",
    "version": 3
   },
   "file_extension": ".py",
   "mimetype": "text/x-python",
   "name": "python",
   "nbconvert_exporter": "python",
   "pygments_lexer": "ipython3",
   "version": "3.9.6"
  },
  "nbgrader_fetch": {
   "date": "2021-09-25 12:24:52",
   "student_id": "fabinazn"
  }
 },
 "nbformat": 4,
 "nbformat_minor": 1
}
