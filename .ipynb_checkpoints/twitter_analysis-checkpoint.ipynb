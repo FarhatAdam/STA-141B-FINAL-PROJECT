{
 "cells": [
  {
   "cell_type": "markdown",
   "metadata": {
    "colab_type": "text",
    "id": "-4aCNU2Wpnia"
   },
   "source": [
    "Twitter API\n",
    "=========================================\n",
    "\n"
   ]
  },
  {
   "cell_type": "markdown",
   "metadata": {
    "colab_type": "text",
    "id": "fVT3_YKPU6Ws"
   },
   "source": [
    "You don't have to understand this code. "
   ]
  },
  {
   "cell_type": "code",
   "execution_count": 1,
   "metadata": {
    "colab": {
     "base_uri": "https://localhost:8080/",
     "height": 187
    },
    "colab_type": "code",
    "id": "9hGWchfJJPo6",
    "outputId": "efa301e4-af86-43d0-eef9-8302c51ca1b5"
   },
   "outputs": [],
   "source": [
    "# !pip install tweepy\n",
    "# install twitter module for python"
   ]
  },
  {
   "cell_type": "code",
   "execution_count": 2,
   "metadata": {
    "colab": {},
    "colab_type": "code",
    "id": "MRD7xpB_LrM2"
   },
   "outputs": [],
   "source": [
    "import os \n",
    "from pprint import pprint\n",
    "import json\n",
    "import tweepy\n",
    "import numpy as np\n",
    "import pandas as pd"
   ]
  },
  {
   "cell_type": "code",
   "execution_count": 3,
   "metadata": {
    "colab": {},
    "colab_type": "code",
    "id": "qrMMtEAPh30Z"
   },
   "outputs": [],
   "source": [
    "#api keys\n",
    "CONSUMER_KEY = \"\"\n",
    "CONSUMER_SECRET = \"\"\n",
    "ACCESS_TOKEN = \"\"\n",
    "ACCESS_TOKEN_SECRET = \"\"\n",
    "\n",
    "\n",
    "auth = tweepy.OAuthHandler(CONSUMER_KEY, CONSUMER_SECRET)\n",
    "auth.set_access_token(ACCESS_TOKEN, ACCESS_TOKEN_SECRET)\n",
    "\n",
    "api = tweepy.API(auth,wait_on_rate_limit=True)"
   ]
  },
  {
   "cell_type": "code",
   "execution_count": 4,
   "metadata": {},
   "outputs": [],
   "source": [
    "county_data = pd.read_csv(\"county_politics.csv\")"
   ]
  },
  {
   "cell_type": "code",
   "execution_count": 5,
   "metadata": {},
   "outputs": [
    {
     "data": {
      "text/html": [
       "<div>\n",
       "<style scoped>\n",
       "    .dataframe tbody tr th:only-of-type {\n",
       "        vertical-align: middle;\n",
       "    }\n",
       "\n",
       "    .dataframe tbody tr th {\n",
       "        vertical-align: top;\n",
       "    }\n",
       "\n",
       "    .dataframe thead th {\n",
       "        text-align: right;\n",
       "    }\n",
       "</style>\n",
       "<table border=\"1\" class=\"dataframe\">\n",
       "  <thead>\n",
       "    <tr style=\"text-align: right;\">\n",
       "      <th></th>\n",
       "      <th>county</th>\n",
       "      <th>dem_pct</th>\n",
       "      <th>rep_pct</th>\n",
       "      <th>majority</th>\n",
       "      <th>lat</th>\n",
       "      <th>long</th>\n",
       "    </tr>\n",
       "  </thead>\n",
       "  <tbody>\n",
       "    <tr>\n",
       "      <th>37</th>\n",
       "      <td>San Francisco</td>\n",
       "      <td>85.26%</td>\n",
       "      <td>12.72%</td>\n",
       "      <td>Democrat</td>\n",
       "      <td>37.779026</td>\n",
       "      <td>-122.419906</td>\n",
       "    </tr>\n",
       "    <tr>\n",
       "      <th>20</th>\n",
       "      <td>Marin</td>\n",
       "      <td>82.33%</td>\n",
       "      <td>15.79%</td>\n",
       "      <td>Democrat</td>\n",
       "      <td>38.040914</td>\n",
       "      <td>-122.619964</td>\n",
       "    </tr>\n",
       "    <tr>\n",
       "      <th>0</th>\n",
       "      <td>Alameda</td>\n",
       "      <td>79.83%</td>\n",
       "      <td>17.62%</td>\n",
       "      <td>Democrat</td>\n",
       "      <td>37.609029</td>\n",
       "      <td>-121.899142</td>\n",
       "    </tr>\n",
       "    <tr>\n",
       "      <th>43</th>\n",
       "      <td>Santa Cruz</td>\n",
       "      <td>78.44%</td>\n",
       "      <td>18.49%</td>\n",
       "      <td>Democrat</td>\n",
       "      <td>37.050096</td>\n",
       "      <td>-121.990591</td>\n",
       "    </tr>\n",
       "    <tr>\n",
       "      <th>40</th>\n",
       "      <td>San Mateo</td>\n",
       "      <td>77.89%</td>\n",
       "      <td>20.20%</td>\n",
       "      <td>Democrat</td>\n",
       "      <td>37.496904</td>\n",
       "      <td>-122.333057</td>\n",
       "    </tr>\n",
       "  </tbody>\n",
       "</table>\n",
       "</div>"
      ],
      "text/plain": [
       "           county dem_pct rep_pct  majority        lat        long\n",
       "37  San Francisco  85.26%  12.72%  Democrat  37.779026 -122.419906\n",
       "20          Marin  82.33%  15.79%  Democrat  38.040914 -122.619964\n",
       "0         Alameda  79.83%  17.62%  Democrat  37.609029 -121.899142\n",
       "43     Santa Cruz  78.44%  18.49%  Democrat  37.050096 -121.990591\n",
       "40      San Mateo  77.89%  20.20%  Democrat  37.496904 -122.333057"
      ]
     },
     "execution_count": 5,
     "metadata": {},
     "output_type": "execute_result"
    }
   ],
   "source": [
    "dems = county_data[county_data[\"majority\"]==\"Democrat\"]\n",
    "dem_short = dems.sort_values(\"dem_pct\", ascending= False).head() #find 5 highest proportion democrat voting counties\n",
    "dem_short"
   ]
  },
  {
   "cell_type": "code",
   "execution_count": 6,
   "metadata": {},
   "outputs": [
    {
     "data": {
      "text/html": [
       "<div>\n",
       "<style scoped>\n",
       "    .dataframe tbody tr th:only-of-type {\n",
       "        vertical-align: middle;\n",
       "    }\n",
       "\n",
       "    .dataframe tbody tr th {\n",
       "        vertical-align: top;\n",
       "    }\n",
       "\n",
       "    .dataframe thead th {\n",
       "        text-align: right;\n",
       "    }\n",
       "</style>\n",
       "<table border=\"1\" class=\"dataframe\">\n",
       "  <thead>\n",
       "    <tr style=\"text-align: right;\">\n",
       "      <th></th>\n",
       "      <th>county</th>\n",
       "      <th>dem_pct</th>\n",
       "      <th>rep_pct</th>\n",
       "      <th>majority</th>\n",
       "      <th>lat</th>\n",
       "      <th>long</th>\n",
       "    </tr>\n",
       "  </thead>\n",
       "  <tbody>\n",
       "    <tr>\n",
       "      <th>17</th>\n",
       "      <td>Lassen</td>\n",
       "      <td>23.24%</td>\n",
       "      <td>74.47%</td>\n",
       "      <td>Republican</td>\n",
       "      <td>40.768558</td>\n",
       "      <td>-120.730998</td>\n",
       "    </tr>\n",
       "    <tr>\n",
       "      <th>24</th>\n",
       "      <td>Modoc</td>\n",
       "      <td>26.33%</td>\n",
       "      <td>71.19%</td>\n",
       "      <td>Republican</td>\n",
       "      <td>41.545049</td>\n",
       "      <td>-120.743600</td>\n",
       "    </tr>\n",
       "    <tr>\n",
       "      <th>51</th>\n",
       "      <td>Tehama</td>\n",
       "      <td>31.02%</td>\n",
       "      <td>66.62%</td>\n",
       "      <td>Republican</td>\n",
       "      <td>40.125133</td>\n",
       "      <td>-122.201553</td>\n",
       "    </tr>\n",
       "    <tr>\n",
       "      <th>44</th>\n",
       "      <td>Shasta</td>\n",
       "      <td>32.28%</td>\n",
       "      <td>65.41%</td>\n",
       "      <td>Republican</td>\n",
       "      <td>40.796512</td>\n",
       "      <td>-121.997919</td>\n",
       "    </tr>\n",
       "    <tr>\n",
       "      <th>10</th>\n",
       "      <td>Glenn</td>\n",
       "      <td>35.36%</td>\n",
       "      <td>62.52%</td>\n",
       "      <td>Republican</td>\n",
       "      <td>39.591277</td>\n",
       "      <td>-122.377866</td>\n",
       "    </tr>\n",
       "  </tbody>\n",
       "</table>\n",
       "</div>"
      ],
      "text/plain": [
       "    county dem_pct rep_pct    majority        lat        long\n",
       "17  Lassen  23.24%  74.47%  Republican  40.768558 -120.730998\n",
       "24   Modoc  26.33%  71.19%  Republican  41.545049 -120.743600\n",
       "51  Tehama  31.02%  66.62%  Republican  40.125133 -122.201553\n",
       "44  Shasta  32.28%  65.41%  Republican  40.796512 -121.997919\n",
       "10   Glenn  35.36%  62.52%  Republican  39.591277 -122.377866"
      ]
     },
     "execution_count": 6,
     "metadata": {},
     "output_type": "execute_result"
    }
   ],
   "source": [
    "reps = county_data[county_data[\"majority\"]==\"Republican\"]\n",
    "rep_short = reps.sort_values(\"rep_pct\", ascending= False).head() #find 5 highest proportion democrat voting counties\n",
    "rep_short"
   ]
  },
  {
   "cell_type": "code",
   "execution_count": 7,
   "metadata": {},
   "outputs": [],
   "source": [
    "def get_covid_tweets(lat,long):\n",
    "    tweet_list = []\n",
    "    response = api.search_tweets(\"covid\",\n",
    "                                geocode = str(lat) + \",\" + str(long) + \",100km\",\n",
    "                                count = 50,\n",
    "                                result_type=\"recent\",\n",
    "                                lang=\"en\")\n",
    "    for i in response: \n",
    "        tweet_list.append(i.text.split(\"https\")[0])\n",
    "    \n",
    "    return tweet_list"
   ]
  },
  {
   "cell_type": "markdown",
   "metadata": {},
   "source": [
    "# Republican County Tweets"
   ]
  },
  {
   "cell_type": "code",
   "execution_count": 8,
   "metadata": {},
   "outputs": [],
   "source": [
    "rep_twt = []\n",
    "\n",
    "for i in range (0,5):\n",
    "    rep_twt += get_covid_tweets(rep_short.iloc[i,4],rep_short.iloc[i,5]) #search each county for covid tweets"
   ]
  },
  {
   "cell_type": "code",
   "execution_count": 9,
   "metadata": {},
   "outputs": [],
   "source": [
    "rep_twt_df = pd.DataFrame(rep_twt, columns = [\"tweet\"]).drop_duplicates() #create dataframe for tweets, drops duplicates\n",
    "# rep_twt_df.to_csv(\"republican_tweets\",index = False)"
   ]
  },
  {
   "cell_type": "code",
   "execution_count": 10,
   "metadata": {},
   "outputs": [
    {
     "data": {
      "text/html": [
       "<div>\n",
       "<style scoped>\n",
       "    .dataframe tbody tr th:only-of-type {\n",
       "        vertical-align: middle;\n",
       "    }\n",
       "\n",
       "    .dataframe tbody tr th {\n",
       "        vertical-align: top;\n",
       "    }\n",
       "\n",
       "    .dataframe thead th {\n",
       "        text-align: right;\n",
       "    }\n",
       "</style>\n",
       "<table border=\"1\" class=\"dataframe\">\n",
       "  <thead>\n",
       "    <tr style=\"text-align: right;\">\n",
       "      <th></th>\n",
       "      <th>tweet</th>\n",
       "    </tr>\n",
       "  </thead>\n",
       "  <tbody>\n",
       "    <tr>\n",
       "      <th>0</th>\n",
       "      <td>Dems set up clash with GOP by pairing Covid re...</td>\n",
       "    </tr>\n",
       "    <tr>\n",
       "      <th>1</th>\n",
       "      <td>@covid_priest @christogrozev @mod_russia Oh, i...</td>\n",
       "    </tr>\n",
       "    <tr>\n",
       "      <th>2</th>\n",
       "      <td>Trucker convoy laps Washington, DC, beltway to...</td>\n",
       "    </tr>\n",
       "    <tr>\n",
       "      <th>3</th>\n",
       "      <td>Biden’s ‘test to treat’ covid plan draws prais...</td>\n",
       "    </tr>\n",
       "    <tr>\n",
       "      <th>4</th>\n",
       "      <td>@Kenny_Wallace My kids dad for covid pneumonia...</td>\n",
       "    </tr>\n",
       "    <tr>\n",
       "      <th>...</th>\n",
       "      <td>...</td>\n",
       "    </tr>\n",
       "    <tr>\n",
       "      <th>194</th>\n",
       "      <td>19 New Cases of COVID-19 Identified in Mendoci...</td>\n",
       "    </tr>\n",
       "    <tr>\n",
       "      <th>195</th>\n",
       "      <td>19 New Cases of COVID-19 Identified in Mendoci...</td>\n",
       "    </tr>\n",
       "    <tr>\n",
       "      <th>196</th>\n",
       "      <td>19 New Cases of COVID-19 Identified in Mendoci...</td>\n",
       "    </tr>\n",
       "    <tr>\n",
       "      <th>198</th>\n",
       "      <td>All your Covid stimmies used for co-pays for m...</td>\n",
       "    </tr>\n",
       "    <tr>\n",
       "      <th>199</th>\n",
       "      <td>@dmac1043 Mark my words. Covid(new variant mor...</td>\n",
       "    </tr>\n",
       "  </tbody>\n",
       "</table>\n",
       "<p>113 rows × 1 columns</p>\n",
       "</div>"
      ],
      "text/plain": [
       "                                                 tweet\n",
       "0    Dems set up clash with GOP by pairing Covid re...\n",
       "1    @covid_priest @christogrozev @mod_russia Oh, i...\n",
       "2    Trucker convoy laps Washington, DC, beltway to...\n",
       "3    Biden’s ‘test to treat’ covid plan draws prais...\n",
       "4    @Kenny_Wallace My kids dad for covid pneumonia...\n",
       "..                                                 ...\n",
       "194  19 New Cases of COVID-19 Identified in Mendoci...\n",
       "195  19 New Cases of COVID-19 Identified in Mendoci...\n",
       "196  19 New Cases of COVID-19 Identified in Mendoci...\n",
       "198  All your Covid stimmies used for co-pays for m...\n",
       "199  @dmac1043 Mark my words. Covid(new variant mor...\n",
       "\n",
       "[113 rows x 1 columns]"
      ]
     },
     "execution_count": 10,
     "metadata": {},
     "output_type": "execute_result"
    }
   ],
   "source": [
    "rep_twt_df"
   ]
  },
  {
   "cell_type": "code",
   "execution_count": 11,
   "metadata": {},
   "outputs": [
    {
     "name": "stderr",
     "output_type": "stream",
     "text": [
      "[nltk_data] Downloading package stopwords to\n",
      "[nltk_data]     /Users/farhat/nltk_data...\n",
      "[nltk_data]   Package stopwords is already up-to-date!\n",
      "[nltk_data] Downloading package punkt to /Users/farhat/nltk_data...\n",
      "[nltk_data]   Package punkt is already up-to-date!\n",
      "[nltk_data] Downloading package wordnet to /Users/farhat/nltk_data...\n",
      "[nltk_data]   Package wordnet is already up-to-date!\n"
     ]
    }
   ],
   "source": [
    "import text2emotion as te"
   ]
  },
  {
   "cell_type": "code",
   "execution_count": 12,
   "metadata": {},
   "outputs": [],
   "source": [
    "rep_no_dupes = list(rep_twt_df.tweet) #get republican tweets without duplicates in list form"
   ]
  },
  {
   "cell_type": "code",
   "execution_count": 13,
   "metadata": {},
   "outputs": [
    {
     "data": {
      "text/plain": [
       "113"
      ]
     },
     "execution_count": 13,
     "metadata": {},
     "output_type": "execute_result"
    }
   ],
   "source": [
    "len(rep_no_dupes)"
   ]
  },
  {
   "cell_type": "code",
   "execution_count": 14,
   "metadata": {},
   "outputs": [
    {
     "data": {
      "text/plain": [
       "{'Happy': 0.16, 'Angry': 0.04, 'Surprise': 0.22, 'Sad': 0.21, 'Fear': 0.36}"
      ]
     },
     "execution_count": 14,
     "metadata": {},
     "output_type": "execute_result"
    }
   ],
   "source": [
    "rep_twt_master = \" \".join(rep_no_dupes)\n",
    "rep_emotion = te.get_emotion(rep_twt_master)\n",
    "rep_emotion"
   ]
  },
  {
   "cell_type": "markdown",
   "metadata": {},
   "source": [
    "# Democrat County Tweets"
   ]
  },
  {
   "cell_type": "code",
   "execution_count": 15,
   "metadata": {},
   "outputs": [],
   "source": [
    "dem_twt = []\n",
    "\n",
    "#since all the top 5 democratic counties are within close proximity, \n",
    "#I choose to use only one location within 100km radius\n",
    "\n",
    "response = api.search_tweets(\"covid\", geocode = str(37.779026) + \",\" + str(-122.419906) + \",100km\",\n",
    "                    count = 200,\n",
    "                    result_type=\"recent\",\n",
    "                    lang=\"en\")\n",
    "\n",
    "for i in response: \n",
    "    dem_twt.append(i.text.split(\"https\")[0])\n"
   ]
  },
  {
   "cell_type": "code",
   "execution_count": 16,
   "metadata": {},
   "outputs": [
    {
     "data": {
      "text/plain": [
       "100"
      ]
     },
     "execution_count": 16,
     "metadata": {},
     "output_type": "execute_result"
    }
   ],
   "source": [
    "len(dem_twt)"
   ]
  },
  {
   "cell_type": "code",
   "execution_count": 17,
   "metadata": {},
   "outputs": [
    {
     "data": {
      "text/plain": [
       "[\"@ConversationEDU @DoctorKarl @UNSW @hollyseale It's trivial to remove COVID vaccines from your body:\\n\\nJust wait about 60 days.\",\n",
       " \"@TAniplaylist (2/2) Also, since you've recently filed an appeal, it's possible that we're still reviewing it. Note:… \",\n",
       " 'It is possible to get COVID-19 again. Immunity from initial vaccines and recovering from COVID-19 fades over time,… ',\n",
       " '#AI mines CT, lab results to predict #COVID-19 severity ',\n",
       " '@goldenstate1680 @49ersBBQLover There\\'s that new word again \"long covid\"',\n",
       " '@HeroDividend Awesome list but I’m afraid the way this world is heading we might not survive 10 yrs.\\n\\nFirst they sa… ',\n",
       " \"@zachtratar What's wrong with wanting freedom? I don't think anti-maskers (2 full years into COVID ffs w/ record lo… \",\n",
       " 'On the relation between COVID-19, mobility, and the stock market ',\n",
       " '@Cardinals11in11 @cov_Gretchen What do you mean by “he mysteriously cured covid”? \\n\\nDemand is up bc 1) covid restri… ',\n",
       " \"@AslamKh76148197 (2/2) Also, since you've recently filed an appeal, it's possible that we're still reviewing it. No… \",\n",
       " 'Single deaths from COVID still make the news in Western Australia. Despite high case numbers, the overall death rat… ',\n",
       " \"uhhhh, I'm sorry, nobody needs this right now, but why are the wastewater covid counts going back up again?… \",\n",
       " '@kasza_leslie @AndrewJLowry @DGBassani Neoliberal capitalism, they threw it to states, counties, and cities, basica… ',\n",
       " 'Hadn’t realized until just now that I’m going back to work tomorrow almost exactly 2 years after my first interview… ',\n",
       " '@TradeWithTarren @DisenPepe 2008 recession and COVID shows businesses can absolutely go away',\n",
       " 'Health experts said they’re hopeful that the Bay Area will enter another extended period of relative stability once… ',\n",
       " \"@Sudeshn12454037 Thanks for reaching out – since you've already sent an appeal, it's best to wait for an update via… \",\n",
       " '@Jeffle @MichaelWolters @nytimes @BillHanage @DrSullivanATL @apoorva_nyc @nytimesevents ',\n",
       " '@BrokeAssStuart Or Trudeau faking Covid.',\n",
       " '@VAMcKnight @DarthArzenal FUCK COVID! 😡😡😡😡 ',\n",
       " '@Blind_Joe_Def @bengordonshow \"COVID-19 vaccines reduced risks for SARS-CoV-2 infection and COVID-19–associated dea… ',\n",
       " '@WilsonKPIX @christinevans @Shorttyshorttt Sure hope you addressed this major issue👇 &amp; how the 311 shelter waitlist… ',\n",
       " \"@CZEdwards I think it's wonderful for Her Majesty to set an example about working from home and that there's no nee… \",\n",
       " \"'Urgent' COVID-19 funding hangs in balance amid partisan fight \",\n",
       " 'Covid pandemic sparks steep rise in number of people in UK with long-term illness | Health | The Guardian ',\n",
       " \"If Biden hadn't screwed everything up with his woke anti-covid agenda, you could have been getting paid to gas up your car now.\",\n",
       " 'Top News: Taking UFOs Seriously, DHS Targets COVID-19 Questioners, The Healing Power of Music on Dementia, More - ',\n",
       " 'I really miss the office and normal life, so I’m def on team open when safe. That said, I work from home all the ti… ',\n",
       " '@ParikPatelCFA Oil prices were negative after COVID hit. She isn’t wrong on the long term projection. This is the last hooray for oil.',\n",
       " 'Does anyone have a list of who made money from Covid?',\n",
       " '@UnnaturalMother @ZTPetrizzo Actually more people died under Bidens watch from Covid. He even admitted he had no pl… ',\n",
       " '@Cardinals11in11 @cov_Gretchen First, gas prices rose under Trump and as covid kicked in, prices declined bc demand… ',\n",
       " '@UnnaturalMother @ZTPetrizzo It was never meant to be a take over. Just a lot of middle class folks upset about poo… ',\n",
       " '@DawsonChristen4 To confirm, have you tried appealing the strike: ',\n",
       " \"@Vedhafishfarm If you've recently filed an appeal, it's possible that we're still reviewing it. Note: We also opera… \",\n",
       " 'NEWS: Dems set up clash with GOP by pairing Covid relief with Ukraine aid ',\n",
       " 'so is it to soon to have a covid movie? like super suspenseful, Contagion Part 2 or something',\n",
       " '@TweetsByBritt Anyone can end COVID by dictating that it does not exist subject to 15 years of hard labor.',\n",
       " 'While on this topic…I saw a play last night in East Bay about people shipwrecked w/ no drinking water and the theat… ',\n",
       " '@ClayTravis Imagine being so dense that you think an administration can move international energy prices in 14 mont… ',\n",
       " \"@thebirdmaniac @DavidBahry A lot of the stuff in the thread she references here is no longer true, and I'm not sure… \",\n",
       " '@ThatEricAlper The Society. Only 1 season even though it was supposed to be renewed for a second...then COVID hit. Bummer.',\n",
       " 'Hip Fracture Surgery Volumes Among Individuals 65 Years and Older During the COVID-19 Pandemic ',\n",
       " '@TheLawyerCraig Nice post. And I think the irony is that the majority of people fall in this middle 70%….promote va… ',\n",
       " '@scottdetrow Idk what they marching for… billions to Ukrainian refugees billions to Afghan refugees billion to Asia… ',\n",
       " 'This past January, KFF released more than 40 short videos in English and Spanish featuring a diverse group of healt… ',\n",
       " '@jesflres Yeah me and my loved ones. No Covid and we all got 3 shots and use masks.',\n",
       " 'Spanish Flu (H1N1) killed almost 1% of the global population at the time.\\nWhat a pity COVID couldn’t scourge the en… ',\n",
       " '@JoeBiden Last year covid-19 was the most confirmed death in the United States.',\n",
       " '',\n",
       " '@TheNickFoy They bet on zero COVID… and didn’t even bother to vaccinate their oldest-old… apparently a 15% vax rate… ',\n",
       " 'the CoVid finally got me y’all 😖\\nI feel alright but any tips on feeling better would be greatly appreciated',\n",
       " '@BigBullCap Every other 16 yr old is a Covid expert, War expert,  Oil expert, Inflation expert while managing $300… ',\n",
       " 'I just got shit from a friend today for not wanting to get covid. I ALREADY HAVE LUNG DISEASE, BUT THANKS FOR BEING… ',\n",
       " 'The Key Distinction That Helps Clarify the Path Forward on the Pandemic - The Atlantic ',\n",
       " '@conor64 @johnpavlovitz Cholesterol meds aren’t free. Covid vaccines are free. A booster is free, but many people w… ',\n",
       " 'I’m very proud of the way Vagaro Inc  has handled our COVID policies. We brought employees back in the office and s… ',\n",
       " \"@rdaily @swell Between Covid &amp; Putin's invasion these doctors aren't getting much of a break. Rest in Peace Valentina Pushich.\",\n",
       " \"@DavidSacks *Dead at the finish* Sack's lab-leak theorem RIP \",\n",
       " '@JasonSouthwell @abarber1 Once I got it I stopped thinking about covid, pretty much all I hoped',\n",
       " 'Yes, on 3/9/20 they parked the Death Ship half a mile from my house and DEBOARDED. Americans whose final stop was S… ',\n",
       " '“Inflation is transitory”\\n“Inflation is due to Covid”\\n“Inflation is due to corporate greed”\\n“Inflation is due to war”\\n— Dr. Eli David',\n",
       " '@kathrynsbach conservatively estimates \"that long COVID accounts for about 1.6 million people missing from the U.S.… ',\n",
       " '@jenneraub @Mitch___Lowe My guess is that if you live by yourself (not sure if you do) your chance of getting Covid… ',\n",
       " 'There is hardly any news reports about COVID or Omicron, as if the invasion of Ukraine has eradicated the pandemic.',\n",
       " 'Putin Receives Nobel Prize In Medicine For Ending COVID Pandemic ',\n",
       " '@nicspalate1 But sure lift mask mandates and act like Covid never existed, next thing we know a variant will pop up… ',\n",
       " '@Neurofourier We know many who are double vaxxed, and boosted who have \"caught\" COVID, every single one of those pe… ',\n",
       " '@biello_joseph @VPrasadMDMPH My 8-month-old niece got Covid last week (in Germany). No symptoms, except that she se… ',\n",
       " 'What 2022 has offered me so far: \\n- COVID exposure x 2\\n- root canal x 2\\n- a backyard renovation that was supposed t… ',\n",
       " 'The official global death toll from COVID-19 is on the verge of eclipsing 6 million, and while the pandemic is not… ',\n",
       " '@molavefinds So good to hear that Covid cases are down there. It seems to be going down everywhere, Jessie! People… ',\n",
       " 'LIVING W/COVID EVENT: epidemiologist @BillHanage and the psychologist @DrSullivanATL join @apoorva_nyc on Tuesday,… ',\n",
       " '@hankschulman @EJames342 More casual carpool in the short term!\\n- though we’re probably not ready for that, COVID and all',\n",
       " \"My kid tested positive for covid yesterday. Too young to be vaccinated – she picked it up at daycare; it's been rou… \",\n",
       " '@stonemanwitch Make sure you get a covid test just in case',\n",
       " 'Fuck covid chik fil a not being open on Sundays is the real pandemic',\n",
       " 'Men like Nate Jacobs started Covid',\n",
       " 'Nothing the Biden administration does makes sense. The border. Fossil fuels. Afghanistan. Ukraine. China and COVID.… ',\n",
       " \"This thread right here. 👇I'm not afraid of covid in the office. I just hate going to the office. I prefer working w… \",\n",
       " 'No 3 is: Assessment of Recovery Time, Worsening and Death, among COVID-19 inpatients and outpatients, under treatme… ',\n",
       " 'The top three trending articles today are: Treatment with Ivermectin Is Associated with Decreased Mortality in COVI… ',\n",
       " '@moderna_tx @FDA Yay! Any word on the data for the Covid vaccine for under 5s? 🙏🏼',\n",
       " 'Santa Rita Jail is back to 0 Covid cases. At the height of surge was were at 450+. A credit to our staff and  partn… ',\n",
       " '@hey_rachelray @ashoncrawley @crissles They can protect themselves with n95 masks. But if it makes you feel better… ',\n",
       " '@saunieindiego I see alot of healing potential in those lovely lemons! Dry and save those peels! Citrus peels are g… ',\n",
       " 'COVID-19 testing sites in San Joaquin County. For locations, times, additional County sites and pre-registration, p… ',\n",
       " 'As companies navigate the ongoing impact of COVID-19, audit committees must remain keenly focused on their core ove… ',\n",
       " '@KevinSixx13 Like we did with COVID that killed more people in the US than the atomic bombs the US dropped on Japan?',\n",
       " 'Our colleague, Dr. Asfour quoted here: \"Being an infectious-disease doctor usually allows you to offer a quick fix.… ',\n",
       " '@xauriel @thikkremlindoor @Dave99117584 @JoshuaPotash Doesn’t explain the decline in cases tho. People were mostly… ',\n",
       " 'now why does BevMo have the same Covid test kits I paid $35 for in January for just $10 …',\n",
       " '@10tinyturtles10 @LucasFoxNews And COVID.',\n",
       " 'Having high vitamin D levels helps but they probably will not investigate that \\nAssociation of Vitamin D Status and… ',\n",
       " 'Great conversation with @meghanor on @nprfreshair on why the medical community largely fails at treating &amp; managing… ',\n",
       " '“Covid has been triggering epic rates of #LongCovid” - Terry Gross on @nprfreshair',\n",
       " \"I don't *NOT* believe what US doctors/nurses are telling be about COVID...\\n\\n*HOWEVAH* it's not very useful in my co… \",\n",
       " 'Normalize me, normalize me!!!!\\n\\nIt will take a lot of people a long time to understand that normalizing COVID as a… ',\n",
       " '@quant4crypto Hard to save lives when your age profile doesn’t die from COVID to begin with! Young people don’t die… ',\n",
       " '@GavinNewsom Right! They sure do! Think you, Pelosi, Swallwell, Shiff, Maxine, and the rest of the Dems whose polic… ']"
      ]
     },
     "execution_count": 17,
     "metadata": {},
     "output_type": "execute_result"
    }
   ],
   "source": [
    "dem_twt"
   ]
  },
  {
   "cell_type": "code",
   "execution_count": 18,
   "metadata": {},
   "outputs": [],
   "source": [
    "dem_twt_df = pd.DataFrame(dem_twt, columns = [\"tweet\"]).drop_duplicates() #create dataframe for tweets, drops duplicates\n",
    "#dem_twt_df.to_csv(\"dem_tweets\",index = False)"
   ]
  },
  {
   "cell_type": "code",
   "execution_count": 19,
   "metadata": {},
   "outputs": [],
   "source": [
    "dem_no_dupes = list(dem_twt_df.tweet)\n",
    "dem_twt_master = \" \".join(dem_no_dupes)"
   ]
  },
  {
   "cell_type": "code",
   "execution_count": 20,
   "metadata": {},
   "outputs": [
    {
     "data": {
      "text/plain": [
       "100"
      ]
     },
     "execution_count": 20,
     "metadata": {},
     "output_type": "execute_result"
    }
   ],
   "source": [
    "len(dem_no_dupes)"
   ]
  },
  {
   "cell_type": "code",
   "execution_count": 21,
   "metadata": {},
   "outputs": [
    {
     "data": {
      "text/plain": [
       "{'Happy': 0.1, 'Angry': 0.08, 'Surprise': 0.19, 'Sad': 0.21, 'Fear': 0.42}"
      ]
     },
     "execution_count": 21,
     "metadata": {},
     "output_type": "execute_result"
    }
   ],
   "source": [
    "dem_emotion = te.get_emotion(dem_twt_master)\n",
    "dem_emotion"
   ]
  },
  {
   "cell_type": "code",
   "execution_count": 22,
   "metadata": {},
   "outputs": [
    {
     "data": {
      "text/html": [
       "<div>\n",
       "<style scoped>\n",
       "    .dataframe tbody tr th:only-of-type {\n",
       "        vertical-align: middle;\n",
       "    }\n",
       "\n",
       "    .dataframe tbody tr th {\n",
       "        vertical-align: top;\n",
       "    }\n",
       "\n",
       "    .dataframe thead th {\n",
       "        text-align: right;\n",
       "    }\n",
       "</style>\n",
       "<table border=\"1\" class=\"dataframe\">\n",
       "  <thead>\n",
       "    <tr style=\"text-align: right;\">\n",
       "      <th></th>\n",
       "      <th>Emotion</th>\n",
       "      <th>Value</th>\n",
       "      <th>Majority</th>\n",
       "    </tr>\n",
       "  </thead>\n",
       "  <tbody>\n",
       "    <tr>\n",
       "      <th>0</th>\n",
       "      <td>Happy</td>\n",
       "      <td>0.1</td>\n",
       "      <td>Democrat</td>\n",
       "    </tr>\n",
       "    <tr>\n",
       "      <th>1</th>\n",
       "      <td>Angry</td>\n",
       "      <td>0.08</td>\n",
       "      <td>Democrat</td>\n",
       "    </tr>\n",
       "    <tr>\n",
       "      <th>2</th>\n",
       "      <td>Surprise</td>\n",
       "      <td>0.19</td>\n",
       "      <td>Democrat</td>\n",
       "    </tr>\n",
       "    <tr>\n",
       "      <th>3</th>\n",
       "      <td>Sad</td>\n",
       "      <td>0.21</td>\n",
       "      <td>Democrat</td>\n",
       "    </tr>\n",
       "    <tr>\n",
       "      <th>4</th>\n",
       "      <td>Fear</td>\n",
       "      <td>0.42</td>\n",
       "      <td>Democrat</td>\n",
       "    </tr>\n",
       "  </tbody>\n",
       "</table>\n",
       "</div>"
      ],
      "text/plain": [
       "    Emotion Value  Majority\n",
       "0     Happy   0.1  Democrat\n",
       "1     Angry  0.08  Democrat\n",
       "2  Surprise  0.19  Democrat\n",
       "3       Sad  0.21  Democrat\n",
       "4      Fear  0.42  Democrat"
      ]
     },
     "execution_count": 22,
     "metadata": {},
     "output_type": "execute_result"
    }
   ],
   "source": [
    "dem_emo_df = pd.DataFrame([list(dem_emotion.keys()),\n",
    "              list(dem_emotion.values())]).T\n",
    "\n",
    "dem_emo_df[\"majority\"] = \"Democrat\"\n",
    "\n",
    "dem_emo_df.columns = [\"Emotion\",\"Value\",\"Majority\"]\n",
    "\n",
    "dem_emo_df"
   ]
  },
  {
   "cell_type": "code",
   "execution_count": 23,
   "metadata": {},
   "outputs": [
    {
     "data": {
      "text/html": [
       "<div>\n",
       "<style scoped>\n",
       "    .dataframe tbody tr th:only-of-type {\n",
       "        vertical-align: middle;\n",
       "    }\n",
       "\n",
       "    .dataframe tbody tr th {\n",
       "        vertical-align: top;\n",
       "    }\n",
       "\n",
       "    .dataframe thead th {\n",
       "        text-align: right;\n",
       "    }\n",
       "</style>\n",
       "<table border=\"1\" class=\"dataframe\">\n",
       "  <thead>\n",
       "    <tr style=\"text-align: right;\">\n",
       "      <th></th>\n",
       "      <th>Emotion</th>\n",
       "      <th>Value</th>\n",
       "      <th>Majority</th>\n",
       "    </tr>\n",
       "  </thead>\n",
       "  <tbody>\n",
       "    <tr>\n",
       "      <th>0</th>\n",
       "      <td>Happy</td>\n",
       "      <td>0.16</td>\n",
       "      <td>Republican</td>\n",
       "    </tr>\n",
       "    <tr>\n",
       "      <th>1</th>\n",
       "      <td>Angry</td>\n",
       "      <td>0.04</td>\n",
       "      <td>Republican</td>\n",
       "    </tr>\n",
       "    <tr>\n",
       "      <th>2</th>\n",
       "      <td>Surprise</td>\n",
       "      <td>0.22</td>\n",
       "      <td>Republican</td>\n",
       "    </tr>\n",
       "    <tr>\n",
       "      <th>3</th>\n",
       "      <td>Sad</td>\n",
       "      <td>0.21</td>\n",
       "      <td>Republican</td>\n",
       "    </tr>\n",
       "    <tr>\n",
       "      <th>4</th>\n",
       "      <td>Fear</td>\n",
       "      <td>0.36</td>\n",
       "      <td>Republican</td>\n",
       "    </tr>\n",
       "  </tbody>\n",
       "</table>\n",
       "</div>"
      ],
      "text/plain": [
       "    Emotion Value    Majority\n",
       "0     Happy  0.16  Republican\n",
       "1     Angry  0.04  Republican\n",
       "2  Surprise  0.22  Republican\n",
       "3       Sad  0.21  Republican\n",
       "4      Fear  0.36  Republican"
      ]
     },
     "execution_count": 23,
     "metadata": {},
     "output_type": "execute_result"
    }
   ],
   "source": [
    "rep_emo_df = pd.DataFrame([list(rep_emotion.keys()),\n",
    "              list(rep_emotion.values())]).T\n",
    "\n",
    "rep_emo_df[\"majority\"] = \"Republican\"\n",
    "\n",
    "rep_emo_df.columns = [\"Emotion\",\"Value\",\"Majority\"]\n",
    "\n",
    "rep_emo_df"
   ]
  },
  {
   "cell_type": "code",
   "execution_count": 24,
   "metadata": {},
   "outputs": [
    {
     "data": {
      "text/html": [
       "<div>\n",
       "<style scoped>\n",
       "    .dataframe tbody tr th:only-of-type {\n",
       "        vertical-align: middle;\n",
       "    }\n",
       "\n",
       "    .dataframe tbody tr th {\n",
       "        vertical-align: top;\n",
       "    }\n",
       "\n",
       "    .dataframe thead th {\n",
       "        text-align: right;\n",
       "    }\n",
       "</style>\n",
       "<table border=\"1\" class=\"dataframe\">\n",
       "  <thead>\n",
       "    <tr style=\"text-align: right;\">\n",
       "      <th></th>\n",
       "      <th>Emotion</th>\n",
       "      <th>Value</th>\n",
       "      <th>Majority</th>\n",
       "    </tr>\n",
       "  </thead>\n",
       "  <tbody>\n",
       "    <tr>\n",
       "      <th>0</th>\n",
       "      <td>Happy</td>\n",
       "      <td>0.1</td>\n",
       "      <td>Democrat</td>\n",
       "    </tr>\n",
       "    <tr>\n",
       "      <th>1</th>\n",
       "      <td>Angry</td>\n",
       "      <td>0.08</td>\n",
       "      <td>Democrat</td>\n",
       "    </tr>\n",
       "    <tr>\n",
       "      <th>2</th>\n",
       "      <td>Surprise</td>\n",
       "      <td>0.19</td>\n",
       "      <td>Democrat</td>\n",
       "    </tr>\n",
       "    <tr>\n",
       "      <th>3</th>\n",
       "      <td>Sad</td>\n",
       "      <td>0.21</td>\n",
       "      <td>Democrat</td>\n",
       "    </tr>\n",
       "    <tr>\n",
       "      <th>4</th>\n",
       "      <td>Fear</td>\n",
       "      <td>0.42</td>\n",
       "      <td>Democrat</td>\n",
       "    </tr>\n",
       "    <tr>\n",
       "      <th>0</th>\n",
       "      <td>Happy</td>\n",
       "      <td>0.16</td>\n",
       "      <td>Republican</td>\n",
       "    </tr>\n",
       "    <tr>\n",
       "      <th>1</th>\n",
       "      <td>Angry</td>\n",
       "      <td>0.04</td>\n",
       "      <td>Republican</td>\n",
       "    </tr>\n",
       "    <tr>\n",
       "      <th>2</th>\n",
       "      <td>Surprise</td>\n",
       "      <td>0.22</td>\n",
       "      <td>Republican</td>\n",
       "    </tr>\n",
       "    <tr>\n",
       "      <th>3</th>\n",
       "      <td>Sad</td>\n",
       "      <td>0.21</td>\n",
       "      <td>Republican</td>\n",
       "    </tr>\n",
       "    <tr>\n",
       "      <th>4</th>\n",
       "      <td>Fear</td>\n",
       "      <td>0.36</td>\n",
       "      <td>Republican</td>\n",
       "    </tr>\n",
       "  </tbody>\n",
       "</table>\n",
       "</div>"
      ],
      "text/plain": [
       "    Emotion Value    Majority\n",
       "0     Happy   0.1    Democrat\n",
       "1     Angry  0.08    Democrat\n",
       "2  Surprise  0.19    Democrat\n",
       "3       Sad  0.21    Democrat\n",
       "4      Fear  0.42    Democrat\n",
       "0     Happy  0.16  Republican\n",
       "1     Angry  0.04  Republican\n",
       "2  Surprise  0.22  Republican\n",
       "3       Sad  0.21  Republican\n",
       "4      Fear  0.36  Republican"
      ]
     },
     "execution_count": 24,
     "metadata": {},
     "output_type": "execute_result"
    }
   ],
   "source": [
    "all_emotes = pd.concat([dem_emo_df,rep_emo_df])\n",
    "all_emotes"
   ]
  },
  {
   "cell_type": "code",
   "execution_count": 25,
   "metadata": {},
   "outputs": [],
   "source": [
    "#all_emotes.to_csv(\"tweet_emotions.csv\",index=False)"
   ]
  },
  {
   "cell_type": "code",
   "execution_count": 29,
   "metadata": {},
   "outputs": [
    {
     "data": {
      "application/vnd.plotly.v1+json": {
       "config": {
        "plotlyServerURL": "https://plot.ly"
       },
       "data": [
        {
         "alignmentgroup": "True",
         "hovertemplate": "Majority=Democrat<br>Emotion=%{x}<br>Value=%{y}<extra></extra>",
         "legendgroup": "Democrat",
         "marker": {
          "color": "#636efa",
          "pattern": {
           "shape": ""
          }
         },
         "name": "Democrat",
         "offsetgroup": "Democrat",
         "orientation": "v",
         "showlegend": true,
         "textposition": "auto",
         "type": "bar",
         "x": [
          "Happy",
          "Angry",
          "Surprise",
          "Sad",
          "Fear"
         ],
         "xaxis": "x",
         "y": [
          0.1,
          0.08,
          0.19,
          0.21,
          0.42
         ],
         "yaxis": "y"
        },
        {
         "alignmentgroup": "True",
         "hovertemplate": "Majority=Republican<br>Emotion=%{x}<br>Value=%{y}<extra></extra>",
         "legendgroup": "Republican",
         "marker": {
          "color": "#EF553B",
          "pattern": {
           "shape": ""
          }
         },
         "name": "Republican",
         "offsetgroup": "Republican",
         "orientation": "v",
         "showlegend": true,
         "textposition": "auto",
         "type": "bar",
         "x": [
          "Happy",
          "Angry",
          "Surprise",
          "Sad",
          "Fear"
         ],
         "xaxis": "x",
         "y": [
          0.16,
          0.04,
          0.22,
          0.21,
          0.36
         ],
         "yaxis": "y"
        }
       ],
       "layout": {
        "barmode": "group",
        "legend": {
         "title": {
          "text": "Majority"
         },
         "tracegroupgap": 0
        },
        "template": {
         "data": {
          "bar": [
           {
            "error_x": {
             "color": "#2a3f5f"
            },
            "error_y": {
             "color": "#2a3f5f"
            },
            "marker": {
             "line": {
              "color": "#E5ECF6",
              "width": 0.5
             },
             "pattern": {
              "fillmode": "overlay",
              "size": 10,
              "solidity": 0.2
             }
            },
            "type": "bar"
           }
          ],
          "barpolar": [
           {
            "marker": {
             "line": {
              "color": "#E5ECF6",
              "width": 0.5
             },
             "pattern": {
              "fillmode": "overlay",
              "size": 10,
              "solidity": 0.2
             }
            },
            "type": "barpolar"
           }
          ],
          "carpet": [
           {
            "aaxis": {
             "endlinecolor": "#2a3f5f",
             "gridcolor": "white",
             "linecolor": "white",
             "minorgridcolor": "white",
             "startlinecolor": "#2a3f5f"
            },
            "baxis": {
             "endlinecolor": "#2a3f5f",
             "gridcolor": "white",
             "linecolor": "white",
             "minorgridcolor": "white",
             "startlinecolor": "#2a3f5f"
            },
            "type": "carpet"
           }
          ],
          "choropleth": [
           {
            "colorbar": {
             "outlinewidth": 0,
             "ticks": ""
            },
            "type": "choropleth"
           }
          ],
          "contour": [
           {
            "colorbar": {
             "outlinewidth": 0,
             "ticks": ""
            },
            "colorscale": [
             [
              0,
              "#0d0887"
             ],
             [
              0.1111111111111111,
              "#46039f"
             ],
             [
              0.2222222222222222,
              "#7201a8"
             ],
             [
              0.3333333333333333,
              "#9c179e"
             ],
             [
              0.4444444444444444,
              "#bd3786"
             ],
             [
              0.5555555555555556,
              "#d8576b"
             ],
             [
              0.6666666666666666,
              "#ed7953"
             ],
             [
              0.7777777777777778,
              "#fb9f3a"
             ],
             [
              0.8888888888888888,
              "#fdca26"
             ],
             [
              1,
              "#f0f921"
             ]
            ],
            "type": "contour"
           }
          ],
          "contourcarpet": [
           {
            "colorbar": {
             "outlinewidth": 0,
             "ticks": ""
            },
            "type": "contourcarpet"
           }
          ],
          "heatmap": [
           {
            "colorbar": {
             "outlinewidth": 0,
             "ticks": ""
            },
            "colorscale": [
             [
              0,
              "#0d0887"
             ],
             [
              0.1111111111111111,
              "#46039f"
             ],
             [
              0.2222222222222222,
              "#7201a8"
             ],
             [
              0.3333333333333333,
              "#9c179e"
             ],
             [
              0.4444444444444444,
              "#bd3786"
             ],
             [
              0.5555555555555556,
              "#d8576b"
             ],
             [
              0.6666666666666666,
              "#ed7953"
             ],
             [
              0.7777777777777778,
              "#fb9f3a"
             ],
             [
              0.8888888888888888,
              "#fdca26"
             ],
             [
              1,
              "#f0f921"
             ]
            ],
            "type": "heatmap"
           }
          ],
          "heatmapgl": [
           {
            "colorbar": {
             "outlinewidth": 0,
             "ticks": ""
            },
            "colorscale": [
             [
              0,
              "#0d0887"
             ],
             [
              0.1111111111111111,
              "#46039f"
             ],
             [
              0.2222222222222222,
              "#7201a8"
             ],
             [
              0.3333333333333333,
              "#9c179e"
             ],
             [
              0.4444444444444444,
              "#bd3786"
             ],
             [
              0.5555555555555556,
              "#d8576b"
             ],
             [
              0.6666666666666666,
              "#ed7953"
             ],
             [
              0.7777777777777778,
              "#fb9f3a"
             ],
             [
              0.8888888888888888,
              "#fdca26"
             ],
             [
              1,
              "#f0f921"
             ]
            ],
            "type": "heatmapgl"
           }
          ],
          "histogram": [
           {
            "marker": {
             "pattern": {
              "fillmode": "overlay",
              "size": 10,
              "solidity": 0.2
             }
            },
            "type": "histogram"
           }
          ],
          "histogram2d": [
           {
            "colorbar": {
             "outlinewidth": 0,
             "ticks": ""
            },
            "colorscale": [
             [
              0,
              "#0d0887"
             ],
             [
              0.1111111111111111,
              "#46039f"
             ],
             [
              0.2222222222222222,
              "#7201a8"
             ],
             [
              0.3333333333333333,
              "#9c179e"
             ],
             [
              0.4444444444444444,
              "#bd3786"
             ],
             [
              0.5555555555555556,
              "#d8576b"
             ],
             [
              0.6666666666666666,
              "#ed7953"
             ],
             [
              0.7777777777777778,
              "#fb9f3a"
             ],
             [
              0.8888888888888888,
              "#fdca26"
             ],
             [
              1,
              "#f0f921"
             ]
            ],
            "type": "histogram2d"
           }
          ],
          "histogram2dcontour": [
           {
            "colorbar": {
             "outlinewidth": 0,
             "ticks": ""
            },
            "colorscale": [
             [
              0,
              "#0d0887"
             ],
             [
              0.1111111111111111,
              "#46039f"
             ],
             [
              0.2222222222222222,
              "#7201a8"
             ],
             [
              0.3333333333333333,
              "#9c179e"
             ],
             [
              0.4444444444444444,
              "#bd3786"
             ],
             [
              0.5555555555555556,
              "#d8576b"
             ],
             [
              0.6666666666666666,
              "#ed7953"
             ],
             [
              0.7777777777777778,
              "#fb9f3a"
             ],
             [
              0.8888888888888888,
              "#fdca26"
             ],
             [
              1,
              "#f0f921"
             ]
            ],
            "type": "histogram2dcontour"
           }
          ],
          "mesh3d": [
           {
            "colorbar": {
             "outlinewidth": 0,
             "ticks": ""
            },
            "type": "mesh3d"
           }
          ],
          "parcoords": [
           {
            "line": {
             "colorbar": {
              "outlinewidth": 0,
              "ticks": ""
             }
            },
            "type": "parcoords"
           }
          ],
          "pie": [
           {
            "automargin": true,
            "type": "pie"
           }
          ],
          "scatter": [
           {
            "marker": {
             "colorbar": {
              "outlinewidth": 0,
              "ticks": ""
             }
            },
            "type": "scatter"
           }
          ],
          "scatter3d": [
           {
            "line": {
             "colorbar": {
              "outlinewidth": 0,
              "ticks": ""
             }
            },
            "marker": {
             "colorbar": {
              "outlinewidth": 0,
              "ticks": ""
             }
            },
            "type": "scatter3d"
           }
          ],
          "scattercarpet": [
           {
            "marker": {
             "colorbar": {
              "outlinewidth": 0,
              "ticks": ""
             }
            },
            "type": "scattercarpet"
           }
          ],
          "scattergeo": [
           {
            "marker": {
             "colorbar": {
              "outlinewidth": 0,
              "ticks": ""
             }
            },
            "type": "scattergeo"
           }
          ],
          "scattergl": [
           {
            "marker": {
             "colorbar": {
              "outlinewidth": 0,
              "ticks": ""
             }
            },
            "type": "scattergl"
           }
          ],
          "scattermapbox": [
           {
            "marker": {
             "colorbar": {
              "outlinewidth": 0,
              "ticks": ""
             }
            },
            "type": "scattermapbox"
           }
          ],
          "scatterpolar": [
           {
            "marker": {
             "colorbar": {
              "outlinewidth": 0,
              "ticks": ""
             }
            },
            "type": "scatterpolar"
           }
          ],
          "scatterpolargl": [
           {
            "marker": {
             "colorbar": {
              "outlinewidth": 0,
              "ticks": ""
             }
            },
            "type": "scatterpolargl"
           }
          ],
          "scatterternary": [
           {
            "marker": {
             "colorbar": {
              "outlinewidth": 0,
              "ticks": ""
             }
            },
            "type": "scatterternary"
           }
          ],
          "surface": [
           {
            "colorbar": {
             "outlinewidth": 0,
             "ticks": ""
            },
            "colorscale": [
             [
              0,
              "#0d0887"
             ],
             [
              0.1111111111111111,
              "#46039f"
             ],
             [
              0.2222222222222222,
              "#7201a8"
             ],
             [
              0.3333333333333333,
              "#9c179e"
             ],
             [
              0.4444444444444444,
              "#bd3786"
             ],
             [
              0.5555555555555556,
              "#d8576b"
             ],
             [
              0.6666666666666666,
              "#ed7953"
             ],
             [
              0.7777777777777778,
              "#fb9f3a"
             ],
             [
              0.8888888888888888,
              "#fdca26"
             ],
             [
              1,
              "#f0f921"
             ]
            ],
            "type": "surface"
           }
          ],
          "table": [
           {
            "cells": {
             "fill": {
              "color": "#EBF0F8"
             },
             "line": {
              "color": "white"
             }
            },
            "header": {
             "fill": {
              "color": "#C8D4E3"
             },
             "line": {
              "color": "white"
             }
            },
            "type": "table"
           }
          ]
         },
         "layout": {
          "annotationdefaults": {
           "arrowcolor": "#2a3f5f",
           "arrowhead": 0,
           "arrowwidth": 1
          },
          "autotypenumbers": "strict",
          "coloraxis": {
           "colorbar": {
            "outlinewidth": 0,
            "ticks": ""
           }
          },
          "colorscale": {
           "diverging": [
            [
             0,
             "#8e0152"
            ],
            [
             0.1,
             "#c51b7d"
            ],
            [
             0.2,
             "#de77ae"
            ],
            [
             0.3,
             "#f1b6da"
            ],
            [
             0.4,
             "#fde0ef"
            ],
            [
             0.5,
             "#f7f7f7"
            ],
            [
             0.6,
             "#e6f5d0"
            ],
            [
             0.7,
             "#b8e186"
            ],
            [
             0.8,
             "#7fbc41"
            ],
            [
             0.9,
             "#4d9221"
            ],
            [
             1,
             "#276419"
            ]
           ],
           "sequential": [
            [
             0,
             "#0d0887"
            ],
            [
             0.1111111111111111,
             "#46039f"
            ],
            [
             0.2222222222222222,
             "#7201a8"
            ],
            [
             0.3333333333333333,
             "#9c179e"
            ],
            [
             0.4444444444444444,
             "#bd3786"
            ],
            [
             0.5555555555555556,
             "#d8576b"
            ],
            [
             0.6666666666666666,
             "#ed7953"
            ],
            [
             0.7777777777777778,
             "#fb9f3a"
            ],
            [
             0.8888888888888888,
             "#fdca26"
            ],
            [
             1,
             "#f0f921"
            ]
           ],
           "sequentialminus": [
            [
             0,
             "#0d0887"
            ],
            [
             0.1111111111111111,
             "#46039f"
            ],
            [
             0.2222222222222222,
             "#7201a8"
            ],
            [
             0.3333333333333333,
             "#9c179e"
            ],
            [
             0.4444444444444444,
             "#bd3786"
            ],
            [
             0.5555555555555556,
             "#d8576b"
            ],
            [
             0.6666666666666666,
             "#ed7953"
            ],
            [
             0.7777777777777778,
             "#fb9f3a"
            ],
            [
             0.8888888888888888,
             "#fdca26"
            ],
            [
             1,
             "#f0f921"
            ]
           ]
          },
          "colorway": [
           "#636efa",
           "#EF553B",
           "#00cc96",
           "#ab63fa",
           "#FFA15A",
           "#19d3f3",
           "#FF6692",
           "#B6E880",
           "#FF97FF",
           "#FECB52"
          ],
          "font": {
           "color": "#2a3f5f"
          },
          "geo": {
           "bgcolor": "white",
           "lakecolor": "white",
           "landcolor": "#E5ECF6",
           "showlakes": true,
           "showland": true,
           "subunitcolor": "white"
          },
          "hoverlabel": {
           "align": "left"
          },
          "hovermode": "closest",
          "mapbox": {
           "style": "light"
          },
          "paper_bgcolor": "white",
          "plot_bgcolor": "#E5ECF6",
          "polar": {
           "angularaxis": {
            "gridcolor": "white",
            "linecolor": "white",
            "ticks": ""
           },
           "bgcolor": "#E5ECF6",
           "radialaxis": {
            "gridcolor": "white",
            "linecolor": "white",
            "ticks": ""
           }
          },
          "scene": {
           "xaxis": {
            "backgroundcolor": "#E5ECF6",
            "gridcolor": "white",
            "gridwidth": 2,
            "linecolor": "white",
            "showbackground": true,
            "ticks": "",
            "zerolinecolor": "white"
           },
           "yaxis": {
            "backgroundcolor": "#E5ECF6",
            "gridcolor": "white",
            "gridwidth": 2,
            "linecolor": "white",
            "showbackground": true,
            "ticks": "",
            "zerolinecolor": "white"
           },
           "zaxis": {
            "backgroundcolor": "#E5ECF6",
            "gridcolor": "white",
            "gridwidth": 2,
            "linecolor": "white",
            "showbackground": true,
            "ticks": "",
            "zerolinecolor": "white"
           }
          },
          "shapedefaults": {
           "line": {
            "color": "#2a3f5f"
           }
          },
          "ternary": {
           "aaxis": {
            "gridcolor": "white",
            "linecolor": "white",
            "ticks": ""
           },
           "baxis": {
            "gridcolor": "white",
            "linecolor": "white",
            "ticks": ""
           },
           "bgcolor": "#E5ECF6",
           "caxis": {
            "gridcolor": "white",
            "linecolor": "white",
            "ticks": ""
           }
          },
          "title": {
           "x": 0.05
          },
          "xaxis": {
           "automargin": true,
           "gridcolor": "white",
           "linecolor": "white",
           "ticks": "",
           "title": {
            "standoff": 15
           },
           "zerolinecolor": "white",
           "zerolinewidth": 2
          },
          "yaxis": {
           "automargin": true,
           "gridcolor": "white",
           "linecolor": "white",
           "ticks": "",
           "title": {
            "standoff": 15
           },
           "zerolinecolor": "white",
           "zerolinewidth": 2
          }
         }
        },
        "title": {
         "text": "Emotions of Tweets Regarding COVID, Democratic Counties (n=99) vs. Republican Counties(n=103)"
        },
        "xaxis": {
         "anchor": "y",
         "domain": [
          0,
          1
         ],
         "title": {
          "text": "Emotion"
         }
        },
        "yaxis": {
         "anchor": "x",
         "domain": [
          0,
          1
         ],
         "title": {
          "text": "Value"
         }
        }
       }
      },
      "text/html": [
       "<div>                            <div id=\"6c1d74de-25fe-49cc-815c-9b2eb5d3bf7d\" class=\"plotly-graph-div\" style=\"height:525px; width:100%;\"></div>            <script type=\"text/javascript\">                require([\"plotly\"], function(Plotly) {                    window.PLOTLYENV=window.PLOTLYENV || {};                                    if (document.getElementById(\"6c1d74de-25fe-49cc-815c-9b2eb5d3bf7d\")) {                    Plotly.newPlot(                        \"6c1d74de-25fe-49cc-815c-9b2eb5d3bf7d\",                        [{\"alignmentgroup\":\"True\",\"hovertemplate\":\"Majority=Democrat<br>Emotion=%{x}<br>Value=%{y}<extra></extra>\",\"legendgroup\":\"Democrat\",\"marker\":{\"color\":\"#636efa\",\"pattern\":{\"shape\":\"\"}},\"name\":\"Democrat\",\"offsetgroup\":\"Democrat\",\"orientation\":\"v\",\"showlegend\":true,\"textposition\":\"auto\",\"x\":[\"Happy\",\"Angry\",\"Surprise\",\"Sad\",\"Fear\"],\"xaxis\":\"x\",\"y\":[0.1,0.08,0.19,0.21,0.42],\"yaxis\":\"y\",\"type\":\"bar\"},{\"alignmentgroup\":\"True\",\"hovertemplate\":\"Majority=Republican<br>Emotion=%{x}<br>Value=%{y}<extra></extra>\",\"legendgroup\":\"Republican\",\"marker\":{\"color\":\"#EF553B\",\"pattern\":{\"shape\":\"\"}},\"name\":\"Republican\",\"offsetgroup\":\"Republican\",\"orientation\":\"v\",\"showlegend\":true,\"textposition\":\"auto\",\"x\":[\"Happy\",\"Angry\",\"Surprise\",\"Sad\",\"Fear\"],\"xaxis\":\"x\",\"y\":[0.16,0.04,0.22,0.21,0.36],\"yaxis\":\"y\",\"type\":\"bar\"}],                        {\"template\":{\"data\":{\"bar\":[{\"error_x\":{\"color\":\"#2a3f5f\"},\"error_y\":{\"color\":\"#2a3f5f\"},\"marker\":{\"line\":{\"color\":\"#E5ECF6\",\"width\":0.5},\"pattern\":{\"fillmode\":\"overlay\",\"size\":10,\"solidity\":0.2}},\"type\":\"bar\"}],\"barpolar\":[{\"marker\":{\"line\":{\"color\":\"#E5ECF6\",\"width\":0.5},\"pattern\":{\"fillmode\":\"overlay\",\"size\":10,\"solidity\":0.2}},\"type\":\"barpolar\"}],\"carpet\":[{\"aaxis\":{\"endlinecolor\":\"#2a3f5f\",\"gridcolor\":\"white\",\"linecolor\":\"white\",\"minorgridcolor\":\"white\",\"startlinecolor\":\"#2a3f5f\"},\"baxis\":{\"endlinecolor\":\"#2a3f5f\",\"gridcolor\":\"white\",\"linecolor\":\"white\",\"minorgridcolor\":\"white\",\"startlinecolor\":\"#2a3f5f\"},\"type\":\"carpet\"}],\"choropleth\":[{\"colorbar\":{\"outlinewidth\":0,\"ticks\":\"\"},\"type\":\"choropleth\"}],\"contour\":[{\"colorbar\":{\"outlinewidth\":0,\"ticks\":\"\"},\"colorscale\":[[0.0,\"#0d0887\"],[0.1111111111111111,\"#46039f\"],[0.2222222222222222,\"#7201a8\"],[0.3333333333333333,\"#9c179e\"],[0.4444444444444444,\"#bd3786\"],[0.5555555555555556,\"#d8576b\"],[0.6666666666666666,\"#ed7953\"],[0.7777777777777778,\"#fb9f3a\"],[0.8888888888888888,\"#fdca26\"],[1.0,\"#f0f921\"]],\"type\":\"contour\"}],\"contourcarpet\":[{\"colorbar\":{\"outlinewidth\":0,\"ticks\":\"\"},\"type\":\"contourcarpet\"}],\"heatmap\":[{\"colorbar\":{\"outlinewidth\":0,\"ticks\":\"\"},\"colorscale\":[[0.0,\"#0d0887\"],[0.1111111111111111,\"#46039f\"],[0.2222222222222222,\"#7201a8\"],[0.3333333333333333,\"#9c179e\"],[0.4444444444444444,\"#bd3786\"],[0.5555555555555556,\"#d8576b\"],[0.6666666666666666,\"#ed7953\"],[0.7777777777777778,\"#fb9f3a\"],[0.8888888888888888,\"#fdca26\"],[1.0,\"#f0f921\"]],\"type\":\"heatmap\"}],\"heatmapgl\":[{\"colorbar\":{\"outlinewidth\":0,\"ticks\":\"\"},\"colorscale\":[[0.0,\"#0d0887\"],[0.1111111111111111,\"#46039f\"],[0.2222222222222222,\"#7201a8\"],[0.3333333333333333,\"#9c179e\"],[0.4444444444444444,\"#bd3786\"],[0.5555555555555556,\"#d8576b\"],[0.6666666666666666,\"#ed7953\"],[0.7777777777777778,\"#fb9f3a\"],[0.8888888888888888,\"#fdca26\"],[1.0,\"#f0f921\"]],\"type\":\"heatmapgl\"}],\"histogram\":[{\"marker\":{\"pattern\":{\"fillmode\":\"overlay\",\"size\":10,\"solidity\":0.2}},\"type\":\"histogram\"}],\"histogram2d\":[{\"colorbar\":{\"outlinewidth\":0,\"ticks\":\"\"},\"colorscale\":[[0.0,\"#0d0887\"],[0.1111111111111111,\"#46039f\"],[0.2222222222222222,\"#7201a8\"],[0.3333333333333333,\"#9c179e\"],[0.4444444444444444,\"#bd3786\"],[0.5555555555555556,\"#d8576b\"],[0.6666666666666666,\"#ed7953\"],[0.7777777777777778,\"#fb9f3a\"],[0.8888888888888888,\"#fdca26\"],[1.0,\"#f0f921\"]],\"type\":\"histogram2d\"}],\"histogram2dcontour\":[{\"colorbar\":{\"outlinewidth\":0,\"ticks\":\"\"},\"colorscale\":[[0.0,\"#0d0887\"],[0.1111111111111111,\"#46039f\"],[0.2222222222222222,\"#7201a8\"],[0.3333333333333333,\"#9c179e\"],[0.4444444444444444,\"#bd3786\"],[0.5555555555555556,\"#d8576b\"],[0.6666666666666666,\"#ed7953\"],[0.7777777777777778,\"#fb9f3a\"],[0.8888888888888888,\"#fdca26\"],[1.0,\"#f0f921\"]],\"type\":\"histogram2dcontour\"}],\"mesh3d\":[{\"colorbar\":{\"outlinewidth\":0,\"ticks\":\"\"},\"type\":\"mesh3d\"}],\"parcoords\":[{\"line\":{\"colorbar\":{\"outlinewidth\":0,\"ticks\":\"\"}},\"type\":\"parcoords\"}],\"pie\":[{\"automargin\":true,\"type\":\"pie\"}],\"scatter\":[{\"marker\":{\"colorbar\":{\"outlinewidth\":0,\"ticks\":\"\"}},\"type\":\"scatter\"}],\"scatter3d\":[{\"line\":{\"colorbar\":{\"outlinewidth\":0,\"ticks\":\"\"}},\"marker\":{\"colorbar\":{\"outlinewidth\":0,\"ticks\":\"\"}},\"type\":\"scatter3d\"}],\"scattercarpet\":[{\"marker\":{\"colorbar\":{\"outlinewidth\":0,\"ticks\":\"\"}},\"type\":\"scattercarpet\"}],\"scattergeo\":[{\"marker\":{\"colorbar\":{\"outlinewidth\":0,\"ticks\":\"\"}},\"type\":\"scattergeo\"}],\"scattergl\":[{\"marker\":{\"colorbar\":{\"outlinewidth\":0,\"ticks\":\"\"}},\"type\":\"scattergl\"}],\"scattermapbox\":[{\"marker\":{\"colorbar\":{\"outlinewidth\":0,\"ticks\":\"\"}},\"type\":\"scattermapbox\"}],\"scatterpolar\":[{\"marker\":{\"colorbar\":{\"outlinewidth\":0,\"ticks\":\"\"}},\"type\":\"scatterpolar\"}],\"scatterpolargl\":[{\"marker\":{\"colorbar\":{\"outlinewidth\":0,\"ticks\":\"\"}},\"type\":\"scatterpolargl\"}],\"scatterternary\":[{\"marker\":{\"colorbar\":{\"outlinewidth\":0,\"ticks\":\"\"}},\"type\":\"scatterternary\"}],\"surface\":[{\"colorbar\":{\"outlinewidth\":0,\"ticks\":\"\"},\"colorscale\":[[0.0,\"#0d0887\"],[0.1111111111111111,\"#46039f\"],[0.2222222222222222,\"#7201a8\"],[0.3333333333333333,\"#9c179e\"],[0.4444444444444444,\"#bd3786\"],[0.5555555555555556,\"#d8576b\"],[0.6666666666666666,\"#ed7953\"],[0.7777777777777778,\"#fb9f3a\"],[0.8888888888888888,\"#fdca26\"],[1.0,\"#f0f921\"]],\"type\":\"surface\"}],\"table\":[{\"cells\":{\"fill\":{\"color\":\"#EBF0F8\"},\"line\":{\"color\":\"white\"}},\"header\":{\"fill\":{\"color\":\"#C8D4E3\"},\"line\":{\"color\":\"white\"}},\"type\":\"table\"}]},\"layout\":{\"annotationdefaults\":{\"arrowcolor\":\"#2a3f5f\",\"arrowhead\":0,\"arrowwidth\":1},\"autotypenumbers\":\"strict\",\"coloraxis\":{\"colorbar\":{\"outlinewidth\":0,\"ticks\":\"\"}},\"colorscale\":{\"diverging\":[[0,\"#8e0152\"],[0.1,\"#c51b7d\"],[0.2,\"#de77ae\"],[0.3,\"#f1b6da\"],[0.4,\"#fde0ef\"],[0.5,\"#f7f7f7\"],[0.6,\"#e6f5d0\"],[0.7,\"#b8e186\"],[0.8,\"#7fbc41\"],[0.9,\"#4d9221\"],[1,\"#276419\"]],\"sequential\":[[0.0,\"#0d0887\"],[0.1111111111111111,\"#46039f\"],[0.2222222222222222,\"#7201a8\"],[0.3333333333333333,\"#9c179e\"],[0.4444444444444444,\"#bd3786\"],[0.5555555555555556,\"#d8576b\"],[0.6666666666666666,\"#ed7953\"],[0.7777777777777778,\"#fb9f3a\"],[0.8888888888888888,\"#fdca26\"],[1.0,\"#f0f921\"]],\"sequentialminus\":[[0.0,\"#0d0887\"],[0.1111111111111111,\"#46039f\"],[0.2222222222222222,\"#7201a8\"],[0.3333333333333333,\"#9c179e\"],[0.4444444444444444,\"#bd3786\"],[0.5555555555555556,\"#d8576b\"],[0.6666666666666666,\"#ed7953\"],[0.7777777777777778,\"#fb9f3a\"],[0.8888888888888888,\"#fdca26\"],[1.0,\"#f0f921\"]]},\"colorway\":[\"#636efa\",\"#EF553B\",\"#00cc96\",\"#ab63fa\",\"#FFA15A\",\"#19d3f3\",\"#FF6692\",\"#B6E880\",\"#FF97FF\",\"#FECB52\"],\"font\":{\"color\":\"#2a3f5f\"},\"geo\":{\"bgcolor\":\"white\",\"lakecolor\":\"white\",\"landcolor\":\"#E5ECF6\",\"showlakes\":true,\"showland\":true,\"subunitcolor\":\"white\"},\"hoverlabel\":{\"align\":\"left\"},\"hovermode\":\"closest\",\"mapbox\":{\"style\":\"light\"},\"paper_bgcolor\":\"white\",\"plot_bgcolor\":\"#E5ECF6\",\"polar\":{\"angularaxis\":{\"gridcolor\":\"white\",\"linecolor\":\"white\",\"ticks\":\"\"},\"bgcolor\":\"#E5ECF6\",\"radialaxis\":{\"gridcolor\":\"white\",\"linecolor\":\"white\",\"ticks\":\"\"}},\"scene\":{\"xaxis\":{\"backgroundcolor\":\"#E5ECF6\",\"gridcolor\":\"white\",\"gridwidth\":2,\"linecolor\":\"white\",\"showbackground\":true,\"ticks\":\"\",\"zerolinecolor\":\"white\"},\"yaxis\":{\"backgroundcolor\":\"#E5ECF6\",\"gridcolor\":\"white\",\"gridwidth\":2,\"linecolor\":\"white\",\"showbackground\":true,\"ticks\":\"\",\"zerolinecolor\":\"white\"},\"zaxis\":{\"backgroundcolor\":\"#E5ECF6\",\"gridcolor\":\"white\",\"gridwidth\":2,\"linecolor\":\"white\",\"showbackground\":true,\"ticks\":\"\",\"zerolinecolor\":\"white\"}},\"shapedefaults\":{\"line\":{\"color\":\"#2a3f5f\"}},\"ternary\":{\"aaxis\":{\"gridcolor\":\"white\",\"linecolor\":\"white\",\"ticks\":\"\"},\"baxis\":{\"gridcolor\":\"white\",\"linecolor\":\"white\",\"ticks\":\"\"},\"bgcolor\":\"#E5ECF6\",\"caxis\":{\"gridcolor\":\"white\",\"linecolor\":\"white\",\"ticks\":\"\"}},\"title\":{\"x\":0.05},\"xaxis\":{\"automargin\":true,\"gridcolor\":\"white\",\"linecolor\":\"white\",\"ticks\":\"\",\"title\":{\"standoff\":15},\"zerolinecolor\":\"white\",\"zerolinewidth\":2},\"yaxis\":{\"automargin\":true,\"gridcolor\":\"white\",\"linecolor\":\"white\",\"ticks\":\"\",\"title\":{\"standoff\":15},\"zerolinecolor\":\"white\",\"zerolinewidth\":2}}},\"xaxis\":{\"anchor\":\"y\",\"domain\":[0.0,1.0],\"title\":{\"text\":\"Emotion\"}},\"yaxis\":{\"anchor\":\"x\",\"domain\":[0.0,1.0],\"title\":{\"text\":\"Value\"}},\"legend\":{\"title\":{\"text\":\"Majority\"},\"tracegroupgap\":0},\"title\":{\"text\":\"Emotions of Tweets Regarding COVID, Democratic Counties (n=99) vs. Republican Counties(n=103)\"},\"barmode\":\"group\"},                        {\"responsive\": true}                    ).then(function(){\n",
       "                            \n",
       "var gd = document.getElementById('6c1d74de-25fe-49cc-815c-9b2eb5d3bf7d');\n",
       "var x = new MutationObserver(function (mutations, observer) {{\n",
       "        var display = window.getComputedStyle(gd).display;\n",
       "        if (!display || display === 'none') {{\n",
       "            console.log([gd, 'removed!']);\n",
       "            Plotly.purge(gd);\n",
       "            observer.disconnect();\n",
       "        }}\n",
       "}});\n",
       "\n",
       "// Listen for the removal of the full notebook cells\n",
       "var notebookContainer = gd.closest('#notebook-container');\n",
       "if (notebookContainer) {{\n",
       "    x.observe(notebookContainer, {childList: true});\n",
       "}}\n",
       "\n",
       "// Listen for the clearing of the current output cell\n",
       "var outputEl = gd.closest('.output');\n",
       "if (outputEl) {{\n",
       "    x.observe(outputEl, {childList: true});\n",
       "}}\n",
       "\n",
       "                        })                };                });            </script>        </div>"
      ]
     },
     "metadata": {},
     "output_type": "display_data"
    }
   ],
   "source": [
    "import plotly.express as px\n",
    "fig = px.bar(all_emotes, x=\"Emotion\", y=\"Value\", color=\"Majority\", barmode = \"group\",\n",
    "            title = \"Emotions of Tweets Regarding COVID, Democratic Counties (n=99) vs. Republican Counties(n=103)\")\n",
    "\n",
    "fig.show()"
   ]
  },
  {
   "cell_type": "code",
   "execution_count": null,
   "metadata": {},
   "outputs": [],
   "source": []
  },
  {
   "cell_type": "code",
   "execution_count": null,
   "metadata": {
    "deletable": false,
    "editable": false,
    "nbgrader": {
     "cell_type": "code",
     "checksum": "9c31a5807b7ab55344ee8cb75e622de2",
     "grade": true,
     "grade_id": "demo3_submitted",
     "locked": true,
     "points": 2,
     "schema_version": 3,
     "solution": false,
     "task": false
    }
   },
   "outputs": [],
   "source": []
  }
 ],
 "metadata": {
  "colab": {
   "collapsed_sections": [
    "7mxZYdbu8x6E",
    "bsP7Cp3EO47o",
    "AYWmceR3eF_W",
    "VC4RRh5oAfaG",
    "uiQ6P6oYeK26",
    "sAEBYzaud9Mn",
    "8P6lvC-a82KA",
    "vxRR1frv82j9",
    "ULoHdecD82tJ",
    "QbrUdV6Tq8mU"
   ],
   "name": "152V_Demos.ipynb",
   "provenance": []
  },
  "kernelspec": {
   "display_name": "Python 3 (ipykernel)",
   "language": "python",
   "name": "python3"
  },
  "language_info": {
   "codemirror_mode": {
    "name": "ipython",
    "version": 3
   },
   "file_extension": ".py",
   "mimetype": "text/x-python",
   "name": "python",
   "nbconvert_exporter": "python",
   "pygments_lexer": "ipython3",
   "version": "3.9.6"
  },
  "nbgrader_fetch": {
   "date": "2021-09-25 12:24:52",
   "student_id": "fabinazn"
  }
 },
 "nbformat": 4,
 "nbformat_minor": 1
}
