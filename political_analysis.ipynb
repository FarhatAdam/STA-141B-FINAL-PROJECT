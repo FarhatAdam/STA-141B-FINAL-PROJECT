{
 "cells": [
  {
   "cell_type": "code",
   "execution_count": 1,
   "id": "847cca6e",
   "metadata": {},
   "outputs": [],
   "source": [
    "import pandas as pd\n",
    "import plotly.express as px"
   ]
  },
  {
   "cell_type": "code",
   "execution_count": 2,
   "id": "62a8580f",
   "metadata": {},
   "outputs": [],
   "source": [
    "rep_counties = ['Amador',\n",
    " 'Calaveras',\n",
    " 'Colusa',\n",
    " 'Del Norte',\n",
    " 'El Dorado',\n",
    " 'Glenn',\n",
    " 'Kern',\n",
    " 'Kings',\n",
    " 'Lassen',\n",
    " 'Madera',\n",
    " 'Mariposa',\n",
    " 'Modoc',\n",
    " 'Placer',\n",
    " 'Plumas',\n",
    " 'Shasta',\n",
    " 'Sierra',\n",
    " 'Siskiyou',\n",
    " 'Sutter',\n",
    " 'Tehama',\n",
    " 'Trinity',\n",
    " 'Tulare',\n",
    " 'Tuolumne',\n",
    " 'Yuba'] #from earlier analysis"
   ]
  },
  {
   "cell_type": "code",
   "execution_count": 3,
   "id": "7df22c0c",
   "metadata": {},
   "outputs": [],
   "source": [
    "dem_counties = ['Alameda',\n",
    " 'Alpine',\n",
    " 'Butte',\n",
    " 'Contra Costa',\n",
    " 'Fresno',\n",
    " 'Humboldt',\n",
    " 'Imperial',\n",
    " 'Inyo',\n",
    " 'Lake',\n",
    " 'Los Angeles',\n",
    " 'Marin',\n",
    " 'Mendocino',\n",
    " 'Merced',\n",
    " 'Mono',\n",
    " 'Monterey',\n",
    " 'Napa',\n",
    " 'Nevada',\n",
    " 'Orange',\n",
    " 'Riverside',\n",
    " 'Sacramento',\n",
    " 'San Benito',\n",
    " 'San Bernardino',\n",
    " 'San Diego',\n",
    " 'San Francisco',\n",
    " 'San Joaquin',\n",
    " 'San Luis Obispo',\n",
    " 'San Mateo',\n",
    " 'Santa Barbara',\n",
    " 'Santa Clara',\n",
    " 'Santa Cruz',\n",
    " 'Solano',\n",
    " 'Sonoma',\n",
    " 'Stanislaus',\n",
    " 'Ventura',\n",
    " 'Yolo'] #from earlier analysis"
   ]
  },
  {
   "cell_type": "code",
   "execution_count": 4,
   "id": "56eca8c7",
   "metadata": {},
   "outputs": [],
   "source": [
    "def political_majority(area):\n",
    "    if area in dem_counties:\n",
    "        return \"Democrat\"\n",
    "    elif area in rep_counties:\n",
    "        return \"Republican\""
   ]
  },
  {
   "cell_type": "code",
   "execution_count": 5,
   "id": "4f119393",
   "metadata": {},
   "outputs": [],
   "source": [
    "#fig.write_html(\"vaccine_rates_by_political.html\")"
   ]
  },
  {
   "cell_type": "markdown",
   "id": "84396a2c",
   "metadata": {},
   "source": [
    "# Cases By County"
   ]
  },
  {
   "cell_type": "code",
   "execution_count": 6,
   "id": "45c6f42c",
   "metadata": {},
   "outputs": [],
   "source": [
    "CA_counties = dem_counties + rep_counties\n",
    "county = pd.DataFrame(CA_counties, columns = [\"area\"])"
   ]
  },
  {
   "cell_type": "code",
   "execution_count": 7,
   "id": "d0b1241a",
   "metadata": {},
   "outputs": [],
   "source": [
    "cases = pd.read_csv(\"covid_cases_county.csv\")[[\"date\",\"area\",\"population\",\"cumulative_cases\",\"cumulative_deaths\"]]\n",
    "cases[\"date\"] = pd.to_datetime(cases[\"date\"]).dropna()\n",
    "latest_cases = cases[cases[\"date\"] == \"2022-02-22 00:00:00\"]\n",
    "\n",
    "CA_cases_only = pd.merge(latest_cases,county, on=\"area\")\n",
    "CA_cases_only.rename(columns = {\"area\":\"county\"}, inplace =True) \n",
    "#rename area to county so that we can merge to vaccine data later"
   ]
  },
  {
   "cell_type": "code",
   "execution_count": 8,
   "id": "8594b6ba",
   "metadata": {},
   "outputs": [],
   "source": [
    "vax_counties = pd.read_csv(\"vax_counties.csv\")[[\"county\",\"administered_date\",\"cumulative_fully_vaccinated\"]]\n",
    "#choose only relevant cols"
   ]
  },
  {
   "cell_type": "code",
   "execution_count": 9,
   "id": "ddcfa53b",
   "metadata": {},
   "outputs": [],
   "source": [
    "vax_counties[\"administered_date\"] = pd.to_datetime(vax_counties[\"administered_date\"]) #convert to datetime format"
   ]
  },
  {
   "cell_type": "code",
   "execution_count": 10,
   "id": "ca9c457d",
   "metadata": {},
   "outputs": [
    {
     "data": {
      "text/html": [
       "<div>\n",
       "<style scoped>\n",
       "    .dataframe tbody tr th:only-of-type {\n",
       "        vertical-align: middle;\n",
       "    }\n",
       "\n",
       "    .dataframe tbody tr th {\n",
       "        vertical-align: top;\n",
       "    }\n",
       "\n",
       "    .dataframe thead th {\n",
       "        text-align: right;\n",
       "    }\n",
       "</style>\n",
       "<table border=\"1\" class=\"dataframe\">\n",
       "  <thead>\n",
       "    <tr style=\"text-align: right;\">\n",
       "      <th></th>\n",
       "      <th>date</th>\n",
       "      <th>county</th>\n",
       "      <th>population</th>\n",
       "      <th>cumulative_cases</th>\n",
       "      <th>cumulative_deaths</th>\n",
       "      <th>cumulative_fully_vaccinated</th>\n",
       "      <th>case_prop</th>\n",
       "      <th>death_prop</th>\n",
       "      <th>vax_prop</th>\n",
       "      <th>majority</th>\n",
       "    </tr>\n",
       "  </thead>\n",
       "  <tbody>\n",
       "    <tr>\n",
       "      <th>0</th>\n",
       "      <td>2022-02-22</td>\n",
       "      <td>Alameda</td>\n",
       "      <td>1685886.0</td>\n",
       "      <td>250792.0</td>\n",
       "      <td>1751.0</td>\n",
       "      <td>1344161</td>\n",
       "      <td>0.148760</td>\n",
       "      <td>0.001039</td>\n",
       "      <td>0.797302</td>\n",
       "      <td>Democrat</td>\n",
       "    </tr>\n",
       "    <tr>\n",
       "      <th>1</th>\n",
       "      <td>2022-02-22</td>\n",
       "      <td>Alpine</td>\n",
       "      <td>1117.0</td>\n",
       "      <td>125.0</td>\n",
       "      <td>0.0</td>\n",
       "      <td>717</td>\n",
       "      <td>0.111907</td>\n",
       "      <td>0.000000</td>\n",
       "      <td>0.641898</td>\n",
       "      <td>Democrat</td>\n",
       "    </tr>\n",
       "    <tr>\n",
       "      <th>2</th>\n",
       "      <td>2022-02-22</td>\n",
       "      <td>Amador</td>\n",
       "      <td>38531.0</td>\n",
       "      <td>8311.0</td>\n",
       "      <td>83.0</td>\n",
       "      <td>20602</td>\n",
       "      <td>0.215696</td>\n",
       "      <td>0.002154</td>\n",
       "      <td>0.534686</td>\n",
       "      <td>Republican</td>\n",
       "    </tr>\n",
       "    <tr>\n",
       "      <th>3</th>\n",
       "      <td>2022-02-22</td>\n",
       "      <td>Butte</td>\n",
       "      <td>217769.0</td>\n",
       "      <td>32523.0</td>\n",
       "      <td>371.0</td>\n",
       "      <td>114774</td>\n",
       "      <td>0.149346</td>\n",
       "      <td>0.001704</td>\n",
       "      <td>0.527045</td>\n",
       "      <td>Democrat</td>\n",
       "    </tr>\n",
       "    <tr>\n",
       "      <th>4</th>\n",
       "      <td>2022-02-22</td>\n",
       "      <td>Calaveras</td>\n",
       "      <td>44289.0</td>\n",
       "      <td>7198.0</td>\n",
       "      <td>115.0</td>\n",
       "      <td>24108</td>\n",
       "      <td>0.162523</td>\n",
       "      <td>0.002597</td>\n",
       "      <td>0.544334</td>\n",
       "      <td>Republican</td>\n",
       "    </tr>\n",
       "    <tr>\n",
       "      <th>5</th>\n",
       "      <td>2022-02-22</td>\n",
       "      <td>Colusa</td>\n",
       "      <td>22593.0</td>\n",
       "      <td>3421.0</td>\n",
       "      <td>21.0</td>\n",
       "      <td>12746</td>\n",
       "      <td>0.151419</td>\n",
       "      <td>0.000929</td>\n",
       "      <td>0.564157</td>\n",
       "      <td>Republican</td>\n",
       "    </tr>\n",
       "    <tr>\n",
       "      <th>6</th>\n",
       "      <td>2022-02-22</td>\n",
       "      <td>Contra Costa</td>\n",
       "      <td>1160099.0</td>\n",
       "      <td>185073.0</td>\n",
       "      <td>1231.0</td>\n",
       "      <td>936053</td>\n",
       "      <td>0.159532</td>\n",
       "      <td>0.001061</td>\n",
       "      <td>0.806873</td>\n",
       "      <td>Democrat</td>\n",
       "    </tr>\n",
       "    <tr>\n",
       "      <th>7</th>\n",
       "      <td>2022-02-22</td>\n",
       "      <td>Del Norte</td>\n",
       "      <td>27558.0</td>\n",
       "      <td>5671.0</td>\n",
       "      <td>41.0</td>\n",
       "      <td>12973</td>\n",
       "      <td>0.205784</td>\n",
       "      <td>0.001488</td>\n",
       "      <td>0.470753</td>\n",
       "      <td>Republican</td>\n",
       "    </tr>\n",
       "    <tr>\n",
       "      <th>8</th>\n",
       "      <td>2022-02-22</td>\n",
       "      <td>El Dorado</td>\n",
       "      <td>193098.0</td>\n",
       "      <td>26377.0</td>\n",
       "      <td>193.0</td>\n",
       "      <td>116107</td>\n",
       "      <td>0.136599</td>\n",
       "      <td>0.000999</td>\n",
       "      <td>0.601285</td>\n",
       "      <td>Republican</td>\n",
       "    </tr>\n",
       "    <tr>\n",
       "      <th>9</th>\n",
       "      <td>2022-02-22</td>\n",
       "      <td>Fresno</td>\n",
       "      <td>1032227.0</td>\n",
       "      <td>226048.0</td>\n",
       "      <td>2635.0</td>\n",
       "      <td>597328</td>\n",
       "      <td>0.218991</td>\n",
       "      <td>0.002553</td>\n",
       "      <td>0.578679</td>\n",
       "      <td>Democrat</td>\n",
       "    </tr>\n",
       "    <tr>\n",
       "      <th>10</th>\n",
       "      <td>2022-02-22</td>\n",
       "      <td>Glenn</td>\n",
       "      <td>29348.0</td>\n",
       "      <td>4913.0</td>\n",
       "      <td>35.0</td>\n",
       "      <td>15349</td>\n",
       "      <td>0.167405</td>\n",
       "      <td>0.001193</td>\n",
       "      <td>0.523000</td>\n",
       "      <td>Republican</td>\n",
       "    </tr>\n",
       "    <tr>\n",
       "      <th>11</th>\n",
       "      <td>2022-02-22</td>\n",
       "      <td>Humboldt</td>\n",
       "      <td>134098.0</td>\n",
       "      <td>16671.0</td>\n",
       "      <td>133.0</td>\n",
       "      <td>88374</td>\n",
       "      <td>0.124320</td>\n",
       "      <td>0.000992</td>\n",
       "      <td>0.659025</td>\n",
       "      <td>Democrat</td>\n",
       "    </tr>\n",
       "    <tr>\n",
       "      <th>12</th>\n",
       "      <td>2022-02-22</td>\n",
       "      <td>Imperial</td>\n",
       "      <td>191649.0</td>\n",
       "      <td>54442.0</td>\n",
       "      <td>880.0</td>\n",
       "      <td>161856</td>\n",
       "      <td>0.284071</td>\n",
       "      <td>0.004592</td>\n",
       "      <td>0.844544</td>\n",
       "      <td>Democrat</td>\n",
       "    </tr>\n",
       "    <tr>\n",
       "      <th>13</th>\n",
       "      <td>2022-02-22</td>\n",
       "      <td>Inyo</td>\n",
       "      <td>18453.0</td>\n",
       "      <td>4039.0</td>\n",
       "      <td>56.0</td>\n",
       "      <td>11069</td>\n",
       "      <td>0.218880</td>\n",
       "      <td>0.003035</td>\n",
       "      <td>0.599848</td>\n",
       "      <td>Democrat</td>\n",
       "    </tr>\n",
       "    <tr>\n",
       "      <th>14</th>\n",
       "      <td>2022-02-22</td>\n",
       "      <td>Kern</td>\n",
       "      <td>927251.0</td>\n",
       "      <td>189239.0</td>\n",
       "      <td>2115.0</td>\n",
       "      <td>471309</td>\n",
       "      <td>0.204086</td>\n",
       "      <td>0.002281</td>\n",
       "      <td>0.508286</td>\n",
       "      <td>Republican</td>\n",
       "    </tr>\n",
       "    <tr>\n",
       "      <th>15</th>\n",
       "      <td>2022-02-22</td>\n",
       "      <td>Kings</td>\n",
       "      <td>156444.0</td>\n",
       "      <td>50726.0</td>\n",
       "      <td>430.0</td>\n",
       "      <td>67303</td>\n",
       "      <td>0.324244</td>\n",
       "      <td>0.002749</td>\n",
       "      <td>0.430205</td>\n",
       "      <td>Republican</td>\n",
       "    </tr>\n",
       "    <tr>\n",
       "      <th>16</th>\n",
       "      <td>2022-02-22</td>\n",
       "      <td>Lake</td>\n",
       "      <td>64871.0</td>\n",
       "      <td>10434.0</td>\n",
       "      <td>129.0</td>\n",
       "      <td>34696</td>\n",
       "      <td>0.160842</td>\n",
       "      <td>0.001989</td>\n",
       "      <td>0.534846</td>\n",
       "      <td>Democrat</td>\n",
       "    </tr>\n",
       "    <tr>\n",
       "      <th>17</th>\n",
       "      <td>2022-02-22</td>\n",
       "      <td>Lassen</td>\n",
       "      <td>30065.0</td>\n",
       "      <td>8780.0</td>\n",
       "      <td>59.0</td>\n",
       "      <td>8697</td>\n",
       "      <td>0.292034</td>\n",
       "      <td>0.001962</td>\n",
       "      <td>0.289273</td>\n",
       "      <td>Republican</td>\n",
       "    </tr>\n",
       "    <tr>\n",
       "      <th>18</th>\n",
       "      <td>2022-02-22</td>\n",
       "      <td>Los Angeles</td>\n",
       "      <td>10257557.0</td>\n",
       "      <td>2665929.0</td>\n",
       "      <td>30527.0</td>\n",
       "      <td>7231174</td>\n",
       "      <td>0.259899</td>\n",
       "      <td>0.002976</td>\n",
       "      <td>0.704961</td>\n",
       "      <td>Democrat</td>\n",
       "    </tr>\n",
       "    <tr>\n",
       "      <th>19</th>\n",
       "      <td>2022-02-22</td>\n",
       "      <td>Madera</td>\n",
       "      <td>160089.0</td>\n",
       "      <td>36965.0</td>\n",
       "      <td>352.0</td>\n",
       "      <td>83534</td>\n",
       "      <td>0.230903</td>\n",
       "      <td>0.002199</td>\n",
       "      <td>0.521797</td>\n",
       "      <td>Republican</td>\n",
       "    </tr>\n",
       "    <tr>\n",
       "      <th>20</th>\n",
       "      <td>2022-02-22</td>\n",
       "      <td>Marin</td>\n",
       "      <td>260800.0</td>\n",
       "      <td>32678.0</td>\n",
       "      <td>272.0</td>\n",
       "      <td>223749</td>\n",
       "      <td>0.125299</td>\n",
       "      <td>0.001043</td>\n",
       "      <td>0.857933</td>\n",
       "      <td>Democrat</td>\n",
       "    </tr>\n",
       "    <tr>\n",
       "      <th>21</th>\n",
       "      <td>2022-02-22</td>\n",
       "      <td>Mariposa</td>\n",
       "      <td>17795.0</td>\n",
       "      <td>2336.0</td>\n",
       "      <td>3.0</td>\n",
       "      <td>7532</td>\n",
       "      <td>0.131273</td>\n",
       "      <td>0.000169</td>\n",
       "      <td>0.423265</td>\n",
       "      <td>Republican</td>\n",
       "    </tr>\n",
       "    <tr>\n",
       "      <th>22</th>\n",
       "      <td>2022-02-22</td>\n",
       "      <td>Mendocino</td>\n",
       "      <td>88439.0</td>\n",
       "      <td>12787.0</td>\n",
       "      <td>112.0</td>\n",
       "      <td>58676</td>\n",
       "      <td>0.144586</td>\n",
       "      <td>0.001266</td>\n",
       "      <td>0.663463</td>\n",
       "      <td>Democrat</td>\n",
       "    </tr>\n",
       "    <tr>\n",
       "      <th>23</th>\n",
       "      <td>2022-02-22</td>\n",
       "      <td>Merced</td>\n",
       "      <td>287420.0</td>\n",
       "      <td>61424.0</td>\n",
       "      <td>786.0</td>\n",
       "      <td>139283</td>\n",
       "      <td>0.213708</td>\n",
       "      <td>0.002735</td>\n",
       "      <td>0.484597</td>\n",
       "      <td>Democrat</td>\n",
       "    </tr>\n",
       "    <tr>\n",
       "      <th>24</th>\n",
       "      <td>2022-02-22</td>\n",
       "      <td>Modoc</td>\n",
       "      <td>9475.0</td>\n",
       "      <td>724.0</td>\n",
       "      <td>6.0</td>\n",
       "      <td>3656</td>\n",
       "      <td>0.076412</td>\n",
       "      <td>0.000633</td>\n",
       "      <td>0.385858</td>\n",
       "      <td>Republican</td>\n",
       "    </tr>\n",
       "    <tr>\n",
       "      <th>25</th>\n",
       "      <td>2022-02-22</td>\n",
       "      <td>Mono</td>\n",
       "      <td>13961.0</td>\n",
       "      <td>2957.0</td>\n",
       "      <td>5.0</td>\n",
       "      <td>8972</td>\n",
       "      <td>0.211804</td>\n",
       "      <td>0.000358</td>\n",
       "      <td>0.642647</td>\n",
       "      <td>Democrat</td>\n",
       "    </tr>\n",
       "    <tr>\n",
       "      <th>26</th>\n",
       "      <td>2022-02-22</td>\n",
       "      <td>Monterey</td>\n",
       "      <td>448732.0</td>\n",
       "      <td>77835.0</td>\n",
       "      <td>700.0</td>\n",
       "      <td>307802</td>\n",
       "      <td>0.173455</td>\n",
       "      <td>0.001560</td>\n",
       "      <td>0.685937</td>\n",
       "      <td>Democrat</td>\n",
       "    </tr>\n",
       "    <tr>\n",
       "      <th>27</th>\n",
       "      <td>2022-02-22</td>\n",
       "      <td>Napa</td>\n",
       "      <td>139652.0</td>\n",
       "      <td>25232.0</td>\n",
       "      <td>130.0</td>\n",
       "      <td>107350</td>\n",
       "      <td>0.180678</td>\n",
       "      <td>0.000931</td>\n",
       "      <td>0.768696</td>\n",
       "      <td>Democrat</td>\n",
       "    </tr>\n",
       "    <tr>\n",
       "      <th>28</th>\n",
       "      <td>2022-02-22</td>\n",
       "      <td>Nevada</td>\n",
       "      <td>98710.0</td>\n",
       "      <td>15844.0</td>\n",
       "      <td>122.0</td>\n",
       "      <td>62123</td>\n",
       "      <td>0.160511</td>\n",
       "      <td>0.001236</td>\n",
       "      <td>0.629349</td>\n",
       "      <td>Democrat</td>\n",
       "    </tr>\n",
       "    <tr>\n",
       "      <th>29</th>\n",
       "      <td>2022-02-22</td>\n",
       "      <td>Orange</td>\n",
       "      <td>3228519.0</td>\n",
       "      <td>540069.0</td>\n",
       "      <td>6638.0</td>\n",
       "      <td>2274123</td>\n",
       "      <td>0.167281</td>\n",
       "      <td>0.002056</td>\n",
       "      <td>0.704386</td>\n",
       "      <td>Democrat</td>\n",
       "    </tr>\n",
       "    <tr>\n",
       "      <th>30</th>\n",
       "      <td>2022-02-22</td>\n",
       "      <td>Placer</td>\n",
       "      <td>400434.0</td>\n",
       "      <td>61922.0</td>\n",
       "      <td>591.0</td>\n",
       "      <td>263524</td>\n",
       "      <td>0.154637</td>\n",
       "      <td>0.001476</td>\n",
       "      <td>0.658096</td>\n",
       "      <td>Republican</td>\n",
       "    </tr>\n",
       "    <tr>\n",
       "      <th>31</th>\n",
       "      <td>2022-02-22</td>\n",
       "      <td>Plumas</td>\n",
       "      <td>18997.0</td>\n",
       "      <td>2680.0</td>\n",
       "      <td>13.0</td>\n",
       "      <td>10218</td>\n",
       "      <td>0.141075</td>\n",
       "      <td>0.000684</td>\n",
       "      <td>0.537874</td>\n",
       "      <td>Republican</td>\n",
       "    </tr>\n",
       "    <tr>\n",
       "      <th>32</th>\n",
       "      <td>2022-02-22</td>\n",
       "      <td>Riverside</td>\n",
       "      <td>2468145.0</td>\n",
       "      <td>585482.0</td>\n",
       "      <td>6201.0</td>\n",
       "      <td>1420154</td>\n",
       "      <td>0.237215</td>\n",
       "      <td>0.002512</td>\n",
       "      <td>0.575393</td>\n",
       "      <td>Democrat</td>\n",
       "    </tr>\n",
       "    <tr>\n",
       "      <th>33</th>\n",
       "      <td>2022-02-22</td>\n",
       "      <td>Sacramento</td>\n",
       "      <td>1567975.0</td>\n",
       "      <td>272570.0</td>\n",
       "      <td>2839.0</td>\n",
       "      <td>1028438</td>\n",
       "      <td>0.173836</td>\n",
       "      <td>0.001811</td>\n",
       "      <td>0.655902</td>\n",
       "      <td>Democrat</td>\n",
       "    </tr>\n",
       "    <tr>\n",
       "      <th>34</th>\n",
       "      <td>2022-02-22</td>\n",
       "      <td>San Benito</td>\n",
       "      <td>64022.0</td>\n",
       "      <td>12772.0</td>\n",
       "      <td>81.0</td>\n",
       "      <td>44392</td>\n",
       "      <td>0.199494</td>\n",
       "      <td>0.001265</td>\n",
       "      <td>0.693387</td>\n",
       "      <td>Democrat</td>\n",
       "    </tr>\n",
       "    <tr>\n",
       "      <th>35</th>\n",
       "      <td>2022-02-22</td>\n",
       "      <td>San Bernardino</td>\n",
       "      <td>2217398.0</td>\n",
       "      <td>556465.0</td>\n",
       "      <td>6571.0</td>\n",
       "      <td>1214499</td>\n",
       "      <td>0.250954</td>\n",
       "      <td>0.002963</td>\n",
       "      <td>0.547714</td>\n",
       "      <td>Democrat</td>\n",
       "    </tr>\n",
       "    <tr>\n",
       "      <th>36</th>\n",
       "      <td>2022-02-22</td>\n",
       "      <td>San Diego</td>\n",
       "      <td>3370418.0</td>\n",
       "      <td>738676.0</td>\n",
       "      <td>5038.0</td>\n",
       "      <td>2463146</td>\n",
       "      <td>0.219165</td>\n",
       "      <td>0.001495</td>\n",
       "      <td>0.730813</td>\n",
       "      <td>Democrat</td>\n",
       "    </tr>\n",
       "    <tr>\n",
       "      <th>37</th>\n",
       "      <td>2022-02-22</td>\n",
       "      <td>San Francisco</td>\n",
       "      <td>892280.0</td>\n",
       "      <td>122849.0</td>\n",
       "      <td>798.0</td>\n",
       "      <td>729738</td>\n",
       "      <td>0.137680</td>\n",
       "      <td>0.000894</td>\n",
       "      <td>0.817835</td>\n",
       "      <td>Democrat</td>\n",
       "    </tr>\n",
       "    <tr>\n",
       "      <th>38</th>\n",
       "      <td>2022-02-22</td>\n",
       "      <td>San Joaquin</td>\n",
       "      <td>782545.0</td>\n",
       "      <td>164566.0</td>\n",
       "      <td>2068.0</td>\n",
       "      <td>455646</td>\n",
       "      <td>0.210296</td>\n",
       "      <td>0.002643</td>\n",
       "      <td>0.582262</td>\n",
       "      <td>Democrat</td>\n",
       "    </tr>\n",
       "    <tr>\n",
       "      <th>39</th>\n",
       "      <td>2022-02-22</td>\n",
       "      <td>San Luis Obispo</td>\n",
       "      <td>278862.0</td>\n",
       "      <td>51402.0</td>\n",
       "      <td>444.0</td>\n",
       "      <td>179203</td>\n",
       "      <td>0.184328</td>\n",
       "      <td>0.001592</td>\n",
       "      <td>0.642623</td>\n",
       "      <td>Democrat</td>\n",
       "    </tr>\n",
       "    <tr>\n",
       "      <th>40</th>\n",
       "      <td>2022-02-22</td>\n",
       "      <td>San Mateo</td>\n",
       "      <td>778001.0</td>\n",
       "      <td>118122.0</td>\n",
       "      <td>614.0</td>\n",
       "      <td>639449</td>\n",
       "      <td>0.151828</td>\n",
       "      <td>0.000789</td>\n",
       "      <td>0.821913</td>\n",
       "      <td>Democrat</td>\n",
       "    </tr>\n",
       "    <tr>\n",
       "      <th>41</th>\n",
       "      <td>2022-02-22</td>\n",
       "      <td>Santa Barbara</td>\n",
       "      <td>456373.0</td>\n",
       "      <td>84938.0</td>\n",
       "      <td>650.0</td>\n",
       "      <td>303964</td>\n",
       "      <td>0.186115</td>\n",
       "      <td>0.001424</td>\n",
       "      <td>0.666043</td>\n",
       "      <td>Democrat</td>\n",
       "    </tr>\n",
       "    <tr>\n",
       "      <th>42</th>\n",
       "      <td>2022-02-22</td>\n",
       "      <td>Santa Clara</td>\n",
       "      <td>1967585.0</td>\n",
       "      <td>306197.0</td>\n",
       "      <td>2167.0</td>\n",
       "      <td>1631216</td>\n",
       "      <td>0.155621</td>\n",
       "      <td>0.001101</td>\n",
       "      <td>0.829045</td>\n",
       "      <td>Democrat</td>\n",
       "    </tr>\n",
       "    <tr>\n",
       "      <th>43</th>\n",
       "      <td>2022-02-22</td>\n",
       "      <td>Santa Cruz</td>\n",
       "      <td>273999.0</td>\n",
       "      <td>46245.0</td>\n",
       "      <td>253.0</td>\n",
       "      <td>202717</td>\n",
       "      <td>0.168778</td>\n",
       "      <td>0.000923</td>\n",
       "      <td>0.739846</td>\n",
       "      <td>Democrat</td>\n",
       "    </tr>\n",
       "    <tr>\n",
       "      <th>44</th>\n",
       "      <td>2022-02-22</td>\n",
       "      <td>Shasta</td>\n",
       "      <td>177925.0</td>\n",
       "      <td>30161.0</td>\n",
       "      <td>481.0</td>\n",
       "      <td>82482</td>\n",
       "      <td>0.169515</td>\n",
       "      <td>0.002703</td>\n",
       "      <td>0.463577</td>\n",
       "      <td>Republican</td>\n",
       "    </tr>\n",
       "    <tr>\n",
       "      <th>45</th>\n",
       "      <td>2022-02-22</td>\n",
       "      <td>Sierra</td>\n",
       "      <td>3115.0</td>\n",
       "      <td>273.0</td>\n",
       "      <td>1.0</td>\n",
       "      <td>1560</td>\n",
       "      <td>0.087640</td>\n",
       "      <td>0.000321</td>\n",
       "      <td>0.500803</td>\n",
       "      <td>Republican</td>\n",
       "    </tr>\n",
       "    <tr>\n",
       "      <th>46</th>\n",
       "      <td>2022-02-22</td>\n",
       "      <td>Siskiyou</td>\n",
       "      <td>43956.0</td>\n",
       "      <td>4376.0</td>\n",
       "      <td>74.0</td>\n",
       "      <td>20787</td>\n",
       "      <td>0.099554</td>\n",
       "      <td>0.001684</td>\n",
       "      <td>0.472905</td>\n",
       "      <td>Republican</td>\n",
       "    </tr>\n",
       "    <tr>\n",
       "      <th>47</th>\n",
       "      <td>2022-02-22</td>\n",
       "      <td>Solano</td>\n",
       "      <td>444255.0</td>\n",
       "      <td>80297.0</td>\n",
       "      <td>422.0</td>\n",
       "      <td>294146</td>\n",
       "      <td>0.180745</td>\n",
       "      <td>0.000950</td>\n",
       "      <td>0.662111</td>\n",
       "      <td>Democrat</td>\n",
       "    </tr>\n",
       "    <tr>\n",
       "      <th>48</th>\n",
       "      <td>2022-02-22</td>\n",
       "      <td>Sonoma</td>\n",
       "      <td>496668.0</td>\n",
       "      <td>81981.0</td>\n",
       "      <td>473.0</td>\n",
       "      <td>382108</td>\n",
       "      <td>0.165062</td>\n",
       "      <td>0.000952</td>\n",
       "      <td>0.769343</td>\n",
       "      <td>Democrat</td>\n",
       "    </tr>\n",
       "    <tr>\n",
       "      <th>49</th>\n",
       "      <td>2022-02-22</td>\n",
       "      <td>Stanislaus</td>\n",
       "      <td>562303.0</td>\n",
       "      <td>117108.0</td>\n",
       "      <td>1526.0</td>\n",
       "      <td>306419</td>\n",
       "      <td>0.208265</td>\n",
       "      <td>0.002714</td>\n",
       "      <td>0.544936</td>\n",
       "      <td>Democrat</td>\n",
       "    </tr>\n",
       "    <tr>\n",
       "      <th>50</th>\n",
       "      <td>2022-02-22</td>\n",
       "      <td>Sutter</td>\n",
       "      <td>105747.0</td>\n",
       "      <td>20235.0</td>\n",
       "      <td>207.0</td>\n",
       "      <td>57426</td>\n",
       "      <td>0.191353</td>\n",
       "      <td>0.001958</td>\n",
       "      <td>0.543051</td>\n",
       "      <td>Republican</td>\n",
       "    </tr>\n",
       "    <tr>\n",
       "      <th>51</th>\n",
       "      <td>2022-02-22</td>\n",
       "      <td>Tehama</td>\n",
       "      <td>65885.0</td>\n",
       "      <td>11896.0</td>\n",
       "      <td>158.0</td>\n",
       "      <td>27533</td>\n",
       "      <td>0.180557</td>\n",
       "      <td>0.002398</td>\n",
       "      <td>0.417895</td>\n",
       "      <td>Republican</td>\n",
       "    </tr>\n",
       "    <tr>\n",
       "      <th>52</th>\n",
       "      <td>2022-02-22</td>\n",
       "      <td>Trinity</td>\n",
       "      <td>13354.0</td>\n",
       "      <td>1167.0</td>\n",
       "      <td>20.0</td>\n",
       "      <td>5929</td>\n",
       "      <td>0.087390</td>\n",
       "      <td>0.001498</td>\n",
       "      <td>0.443987</td>\n",
       "      <td>Republican</td>\n",
       "    </tr>\n",
       "    <tr>\n",
       "      <th>53</th>\n",
       "      <td>2022-02-22</td>\n",
       "      <td>Tulare</td>\n",
       "      <td>484423.0</td>\n",
       "      <td>103189.0</td>\n",
       "      <td>1291.0</td>\n",
       "      <td>247454</td>\n",
       "      <td>0.213014</td>\n",
       "      <td>0.002665</td>\n",
       "      <td>0.510822</td>\n",
       "      <td>Republican</td>\n",
       "    </tr>\n",
       "    <tr>\n",
       "      <th>54</th>\n",
       "      <td>2022-02-22</td>\n",
       "      <td>Tuolumne</td>\n",
       "      <td>52351.0</td>\n",
       "      <td>12256.0</td>\n",
       "      <td>172.0</td>\n",
       "      <td>28055</td>\n",
       "      <td>0.234112</td>\n",
       "      <td>0.003286</td>\n",
       "      <td>0.535902</td>\n",
       "      <td>Republican</td>\n",
       "    </tr>\n",
       "    <tr>\n",
       "      <th>55</th>\n",
       "      <td>2022-02-22</td>\n",
       "      <td>Ventura</td>\n",
       "      <td>852747.0</td>\n",
       "      <td>171253.0</td>\n",
       "      <td>1420.0</td>\n",
       "      <td>599588</td>\n",
       "      <td>0.200825</td>\n",
       "      <td>0.001665</td>\n",
       "      <td>0.703125</td>\n",
       "      <td>Democrat</td>\n",
       "    </tr>\n",
       "    <tr>\n",
       "      <th>56</th>\n",
       "      <td>2022-02-22</td>\n",
       "      <td>Yolo</td>\n",
       "      <td>223612.0</td>\n",
       "      <td>35682.0</td>\n",
       "      <td>305.0</td>\n",
       "      <td>152986</td>\n",
       "      <td>0.159571</td>\n",
       "      <td>0.001364</td>\n",
       "      <td>0.684158</td>\n",
       "      <td>Democrat</td>\n",
       "    </tr>\n",
       "    <tr>\n",
       "      <th>57</th>\n",
       "      <td>2022-02-22</td>\n",
       "      <td>Yuba</td>\n",
       "      <td>79290.0</td>\n",
       "      <td>15601.0</td>\n",
       "      <td>88.0</td>\n",
       "      <td>37697</td>\n",
       "      <td>0.196759</td>\n",
       "      <td>0.001110</td>\n",
       "      <td>0.475432</td>\n",
       "      <td>Republican</td>\n",
       "    </tr>\n",
       "  </tbody>\n",
       "</table>\n",
       "</div>"
      ],
      "text/plain": [
       "         date           county  population  cumulative_cases  \\\n",
       "0  2022-02-22          Alameda   1685886.0          250792.0   \n",
       "1  2022-02-22           Alpine      1117.0             125.0   \n",
       "2  2022-02-22           Amador     38531.0            8311.0   \n",
       "3  2022-02-22            Butte    217769.0           32523.0   \n",
       "4  2022-02-22        Calaveras     44289.0            7198.0   \n",
       "5  2022-02-22           Colusa     22593.0            3421.0   \n",
       "6  2022-02-22     Contra Costa   1160099.0          185073.0   \n",
       "7  2022-02-22        Del Norte     27558.0            5671.0   \n",
       "8  2022-02-22        El Dorado    193098.0           26377.0   \n",
       "9  2022-02-22           Fresno   1032227.0          226048.0   \n",
       "10 2022-02-22            Glenn     29348.0            4913.0   \n",
       "11 2022-02-22         Humboldt    134098.0           16671.0   \n",
       "12 2022-02-22         Imperial    191649.0           54442.0   \n",
       "13 2022-02-22             Inyo     18453.0            4039.0   \n",
       "14 2022-02-22             Kern    927251.0          189239.0   \n",
       "15 2022-02-22            Kings    156444.0           50726.0   \n",
       "16 2022-02-22             Lake     64871.0           10434.0   \n",
       "17 2022-02-22           Lassen     30065.0            8780.0   \n",
       "18 2022-02-22      Los Angeles  10257557.0         2665929.0   \n",
       "19 2022-02-22           Madera    160089.0           36965.0   \n",
       "20 2022-02-22            Marin    260800.0           32678.0   \n",
       "21 2022-02-22         Mariposa     17795.0            2336.0   \n",
       "22 2022-02-22        Mendocino     88439.0           12787.0   \n",
       "23 2022-02-22           Merced    287420.0           61424.0   \n",
       "24 2022-02-22            Modoc      9475.0             724.0   \n",
       "25 2022-02-22             Mono     13961.0            2957.0   \n",
       "26 2022-02-22         Monterey    448732.0           77835.0   \n",
       "27 2022-02-22             Napa    139652.0           25232.0   \n",
       "28 2022-02-22           Nevada     98710.0           15844.0   \n",
       "29 2022-02-22           Orange   3228519.0          540069.0   \n",
       "30 2022-02-22           Placer    400434.0           61922.0   \n",
       "31 2022-02-22           Plumas     18997.0            2680.0   \n",
       "32 2022-02-22        Riverside   2468145.0          585482.0   \n",
       "33 2022-02-22       Sacramento   1567975.0          272570.0   \n",
       "34 2022-02-22       San Benito     64022.0           12772.0   \n",
       "35 2022-02-22   San Bernardino   2217398.0          556465.0   \n",
       "36 2022-02-22        San Diego   3370418.0          738676.0   \n",
       "37 2022-02-22    San Francisco    892280.0          122849.0   \n",
       "38 2022-02-22      San Joaquin    782545.0          164566.0   \n",
       "39 2022-02-22  San Luis Obispo    278862.0           51402.0   \n",
       "40 2022-02-22        San Mateo    778001.0          118122.0   \n",
       "41 2022-02-22    Santa Barbara    456373.0           84938.0   \n",
       "42 2022-02-22      Santa Clara   1967585.0          306197.0   \n",
       "43 2022-02-22       Santa Cruz    273999.0           46245.0   \n",
       "44 2022-02-22           Shasta    177925.0           30161.0   \n",
       "45 2022-02-22           Sierra      3115.0             273.0   \n",
       "46 2022-02-22         Siskiyou     43956.0            4376.0   \n",
       "47 2022-02-22           Solano    444255.0           80297.0   \n",
       "48 2022-02-22           Sonoma    496668.0           81981.0   \n",
       "49 2022-02-22       Stanislaus    562303.0          117108.0   \n",
       "50 2022-02-22           Sutter    105747.0           20235.0   \n",
       "51 2022-02-22           Tehama     65885.0           11896.0   \n",
       "52 2022-02-22          Trinity     13354.0            1167.0   \n",
       "53 2022-02-22           Tulare    484423.0          103189.0   \n",
       "54 2022-02-22         Tuolumne     52351.0           12256.0   \n",
       "55 2022-02-22          Ventura    852747.0          171253.0   \n",
       "56 2022-02-22             Yolo    223612.0           35682.0   \n",
       "57 2022-02-22             Yuba     79290.0           15601.0   \n",
       "\n",
       "    cumulative_deaths  cumulative_fully_vaccinated  case_prop  death_prop  \\\n",
       "0              1751.0                      1344161   0.148760    0.001039   \n",
       "1                 0.0                          717   0.111907    0.000000   \n",
       "2                83.0                        20602   0.215696    0.002154   \n",
       "3               371.0                       114774   0.149346    0.001704   \n",
       "4               115.0                        24108   0.162523    0.002597   \n",
       "5                21.0                        12746   0.151419    0.000929   \n",
       "6              1231.0                       936053   0.159532    0.001061   \n",
       "7                41.0                        12973   0.205784    0.001488   \n",
       "8               193.0                       116107   0.136599    0.000999   \n",
       "9              2635.0                       597328   0.218991    0.002553   \n",
       "10               35.0                        15349   0.167405    0.001193   \n",
       "11              133.0                        88374   0.124320    0.000992   \n",
       "12              880.0                       161856   0.284071    0.004592   \n",
       "13               56.0                        11069   0.218880    0.003035   \n",
       "14             2115.0                       471309   0.204086    0.002281   \n",
       "15              430.0                        67303   0.324244    0.002749   \n",
       "16              129.0                        34696   0.160842    0.001989   \n",
       "17               59.0                         8697   0.292034    0.001962   \n",
       "18            30527.0                      7231174   0.259899    0.002976   \n",
       "19              352.0                        83534   0.230903    0.002199   \n",
       "20              272.0                       223749   0.125299    0.001043   \n",
       "21                3.0                         7532   0.131273    0.000169   \n",
       "22              112.0                        58676   0.144586    0.001266   \n",
       "23              786.0                       139283   0.213708    0.002735   \n",
       "24                6.0                         3656   0.076412    0.000633   \n",
       "25                5.0                         8972   0.211804    0.000358   \n",
       "26              700.0                       307802   0.173455    0.001560   \n",
       "27              130.0                       107350   0.180678    0.000931   \n",
       "28              122.0                        62123   0.160511    0.001236   \n",
       "29             6638.0                      2274123   0.167281    0.002056   \n",
       "30              591.0                       263524   0.154637    0.001476   \n",
       "31               13.0                        10218   0.141075    0.000684   \n",
       "32             6201.0                      1420154   0.237215    0.002512   \n",
       "33             2839.0                      1028438   0.173836    0.001811   \n",
       "34               81.0                        44392   0.199494    0.001265   \n",
       "35             6571.0                      1214499   0.250954    0.002963   \n",
       "36             5038.0                      2463146   0.219165    0.001495   \n",
       "37              798.0                       729738   0.137680    0.000894   \n",
       "38             2068.0                       455646   0.210296    0.002643   \n",
       "39              444.0                       179203   0.184328    0.001592   \n",
       "40              614.0                       639449   0.151828    0.000789   \n",
       "41              650.0                       303964   0.186115    0.001424   \n",
       "42             2167.0                      1631216   0.155621    0.001101   \n",
       "43              253.0                       202717   0.168778    0.000923   \n",
       "44              481.0                        82482   0.169515    0.002703   \n",
       "45                1.0                         1560   0.087640    0.000321   \n",
       "46               74.0                        20787   0.099554    0.001684   \n",
       "47              422.0                       294146   0.180745    0.000950   \n",
       "48              473.0                       382108   0.165062    0.000952   \n",
       "49             1526.0                       306419   0.208265    0.002714   \n",
       "50              207.0                        57426   0.191353    0.001958   \n",
       "51              158.0                        27533   0.180557    0.002398   \n",
       "52               20.0                         5929   0.087390    0.001498   \n",
       "53             1291.0                       247454   0.213014    0.002665   \n",
       "54              172.0                        28055   0.234112    0.003286   \n",
       "55             1420.0                       599588   0.200825    0.001665   \n",
       "56              305.0                       152986   0.159571    0.001364   \n",
       "57               88.0                        37697   0.196759    0.001110   \n",
       "\n",
       "    vax_prop    majority  \n",
       "0   0.797302    Democrat  \n",
       "1   0.641898    Democrat  \n",
       "2   0.534686  Republican  \n",
       "3   0.527045    Democrat  \n",
       "4   0.544334  Republican  \n",
       "5   0.564157  Republican  \n",
       "6   0.806873    Democrat  \n",
       "7   0.470753  Republican  \n",
       "8   0.601285  Republican  \n",
       "9   0.578679    Democrat  \n",
       "10  0.523000  Republican  \n",
       "11  0.659025    Democrat  \n",
       "12  0.844544    Democrat  \n",
       "13  0.599848    Democrat  \n",
       "14  0.508286  Republican  \n",
       "15  0.430205  Republican  \n",
       "16  0.534846    Democrat  \n",
       "17  0.289273  Republican  \n",
       "18  0.704961    Democrat  \n",
       "19  0.521797  Republican  \n",
       "20  0.857933    Democrat  \n",
       "21  0.423265  Republican  \n",
       "22  0.663463    Democrat  \n",
       "23  0.484597    Democrat  \n",
       "24  0.385858  Republican  \n",
       "25  0.642647    Democrat  \n",
       "26  0.685937    Democrat  \n",
       "27  0.768696    Democrat  \n",
       "28  0.629349    Democrat  \n",
       "29  0.704386    Democrat  \n",
       "30  0.658096  Republican  \n",
       "31  0.537874  Republican  \n",
       "32  0.575393    Democrat  \n",
       "33  0.655902    Democrat  \n",
       "34  0.693387    Democrat  \n",
       "35  0.547714    Democrat  \n",
       "36  0.730813    Democrat  \n",
       "37  0.817835    Democrat  \n",
       "38  0.582262    Democrat  \n",
       "39  0.642623    Democrat  \n",
       "40  0.821913    Democrat  \n",
       "41  0.666043    Democrat  \n",
       "42  0.829045    Democrat  \n",
       "43  0.739846    Democrat  \n",
       "44  0.463577  Republican  \n",
       "45  0.500803  Republican  \n",
       "46  0.472905  Republican  \n",
       "47  0.662111    Democrat  \n",
       "48  0.769343    Democrat  \n",
       "49  0.544936    Democrat  \n",
       "50  0.543051  Republican  \n",
       "51  0.417895  Republican  \n",
       "52  0.443987  Republican  \n",
       "53  0.510822  Republican  \n",
       "54  0.535902  Republican  \n",
       "55  0.703125    Democrat  \n",
       "56  0.684158    Democrat  \n",
       "57  0.475432  Republican  "
      ]
     },
     "execution_count": 10,
     "metadata": {},
     "output_type": "execute_result"
    }
   ],
   "source": [
    "latest_vax_counties = vax_counties[vax_counties[\"administered_date\"] == \"2022-02-22\"].dropna()\n",
    "#set as same date\n",
    "latest_vax_counties = latest_vax_counties[[\"county\",\"cumulative_fully_vaccinated\"]] \n",
    "#drop date column as it is no longer relevant\n",
    "\n",
    "CA_vax_cases= pd.merge(CA_cases_only,latest_vax_counties, on=\"county\") #merge cases with vaccine data\n",
    "\n",
    "\n",
    "CA_vax_cases[\"case_prop\"] = CA_vax_cases[\"cumulative_cases\"]/CA_vax_cases[\"population\"]\n",
    "CA_vax_cases[\"death_prop\"] = CA_vax_cases[\"cumulative_deaths\"]/CA_vax_cases[\"population\"]\n",
    "CA_vax_cases[\"vax_prop\"] = CA_vax_cases[\"cumulative_fully_vaccinated\"]/CA_vax_cases[\"population\"]\n",
    "\n",
    "#find the proportions of cases, deaths, and fully vaccinated to populations\n",
    "\n",
    "CA_vax_cases[\"majority\"] = CA_vax_cases[\"county\"].apply(political_majority) #assign political majorities\n",
    "\n",
    "CA_vax_cases"
   ]
  },
  {
   "cell_type": "code",
   "execution_count": 22,
   "id": "c8928bab",
   "metadata": {},
   "outputs": [
    {
     "data": {
      "application/vnd.plotly.v1+json": {
       "config": {
        "plotlyServerURL": "https://plot.ly"
       },
       "data": [
        {
         "alignmentgroup": "True",
         "boxpoints": "all",
         "customdata": [
          [
           "Alameda"
          ],
          [
           "Alpine"
          ],
          [
           "Butte"
          ],
          [
           "Contra Costa"
          ],
          [
           "Fresno"
          ],
          [
           "Humboldt"
          ],
          [
           "Imperial"
          ],
          [
           "Inyo"
          ],
          [
           "Lake"
          ],
          [
           "Los Angeles"
          ],
          [
           "Marin"
          ],
          [
           "Mendocino"
          ],
          [
           "Merced"
          ],
          [
           "Mono"
          ],
          [
           "Monterey"
          ],
          [
           "Napa"
          ],
          [
           "Nevada"
          ],
          [
           "Orange"
          ],
          [
           "Riverside"
          ],
          [
           "Sacramento"
          ],
          [
           "San Benito"
          ],
          [
           "San Bernardino"
          ],
          [
           "San Diego"
          ],
          [
           "San Francisco"
          ],
          [
           "San Joaquin"
          ],
          [
           "San Luis Obispo"
          ],
          [
           "San Mateo"
          ],
          [
           "Santa Barbara"
          ],
          [
           "Santa Clara"
          ],
          [
           "Santa Cruz"
          ],
          [
           "Solano"
          ],
          [
           "Sonoma"
          ],
          [
           "Stanislaus"
          ],
          [
           "Ventura"
          ],
          [
           "Yolo"
          ]
         ],
         "hovertemplate": "Percent Fully Vaccinated: %{y} <br>County Name: %{customdata}",
         "jitter": 0.2,
         "legendgroup": "Democrat",
         "marker": {
          "color": "#636efa"
         },
         "name": "Democrat",
         "notched": false,
         "offsetgroup": "Democrat",
         "orientation": "v",
         "showlegend": true,
         "type": "box",
         "x0": " ",
         "xaxis": "x",
         "y": [
          0.7973024273290128,
          0.6418979409131602,
          0.5270447125164739,
          0.8068733789099034,
          0.5786789146185868,
          0.659025488821608,
          0.8445439318754598,
          0.5998482631550426,
          0.5348460791416811,
          0.7049606451126715,
          0.857933282208589,
          0.6634629518651274,
          0.4845974532043699,
          0.6426473748298832,
          0.6859372632217002,
          0.7686964740927448,
          0.6293485969000101,
          0.7043858190086538,
          0.57539326093078,
          0.6559020392544525,
          0.6933866483396333,
          0.5477135814138914,
          0.7308132107056158,
          0.81783520867889,
          0.5822617229680083,
          0.6426225157963437,
          0.8219128253048518,
          0.6660429078845593,
          0.8290447426667718,
          0.7398457658604594,
          0.6621107246964019,
          0.769342901092883,
          0.5449357374938423,
          0.7031253114933269,
          0.6841582741534443
         ],
         "y0": " ",
         "yaxis": "y"
        },
        {
         "alignmentgroup": "True",
         "boxpoints": "all",
         "customdata": [
          [
           "Amador"
          ],
          [
           "Calaveras"
          ],
          [
           "Colusa"
          ],
          [
           "Del Norte"
          ],
          [
           "El Dorado"
          ],
          [
           "Glenn"
          ],
          [
           "Kern"
          ],
          [
           "Kings"
          ],
          [
           "Lassen"
          ],
          [
           "Madera"
          ],
          [
           "Mariposa"
          ],
          [
           "Modoc"
          ],
          [
           "Placer"
          ],
          [
           "Plumas"
          ],
          [
           "Shasta"
          ],
          [
           "Sierra"
          ],
          [
           "Siskiyou"
          ],
          [
           "Sutter"
          ],
          [
           "Tehama"
          ],
          [
           "Trinity"
          ],
          [
           "Tulare"
          ],
          [
           "Tuolumne"
          ],
          [
           "Yuba"
          ]
         ],
         "hovertemplate": "Percent Fully Vaccinated: %{y} <br>County Name: %{customdata}",
         "jitter": 0.2,
         "legendgroup": "Republican",
         "marker": {
          "color": "#EF553B"
         },
         "name": "Republican",
         "notched": false,
         "offsetgroup": "Republican",
         "orientation": "v",
         "showlegend": true,
         "type": "box",
         "x0": " ",
         "xaxis": "x",
         "y": [
          0.5346863564402689,
          0.5443338074917022,
          0.5641570397910858,
          0.4707525945279048,
          0.6012853576940207,
          0.5229998637045113,
          0.5082863216108691,
          0.43020505740073123,
          0.2892732413104939,
          0.521797250279532,
          0.42326496206799663,
          0.3858575197889182,
          0.6580959658770235,
          0.5378744012212454,
          0.46357735000702543,
          0.5008025682182986,
          0.4729047229047229,
          0.5430508666912537,
          0.41789481672611367,
          0.4439868204283361,
          0.5108221533659633,
          0.5359018929915379,
          0.4754319586328667
         ],
         "y0": " ",
         "yaxis": "y"
        }
       ],
       "layout": {
        "boxmode": "group",
        "legend": {
         "title": {
          "text": "Majority"
         },
         "tracegroupgap": 0
        },
        "template": {
         "data": {
          "bar": [
           {
            "error_x": {
             "color": "#2a3f5f"
            },
            "error_y": {
             "color": "#2a3f5f"
            },
            "marker": {
             "line": {
              "color": "#E5ECF6",
              "width": 0.5
             },
             "pattern": {
              "fillmode": "overlay",
              "size": 10,
              "solidity": 0.2
             }
            },
            "type": "bar"
           }
          ],
          "barpolar": [
           {
            "marker": {
             "line": {
              "color": "#E5ECF6",
              "width": 0.5
             },
             "pattern": {
              "fillmode": "overlay",
              "size": 10,
              "solidity": 0.2
             }
            },
            "type": "barpolar"
           }
          ],
          "carpet": [
           {
            "aaxis": {
             "endlinecolor": "#2a3f5f",
             "gridcolor": "white",
             "linecolor": "white",
             "minorgridcolor": "white",
             "startlinecolor": "#2a3f5f"
            },
            "baxis": {
             "endlinecolor": "#2a3f5f",
             "gridcolor": "white",
             "linecolor": "white",
             "minorgridcolor": "white",
             "startlinecolor": "#2a3f5f"
            },
            "type": "carpet"
           }
          ],
          "choropleth": [
           {
            "colorbar": {
             "outlinewidth": 0,
             "ticks": ""
            },
            "type": "choropleth"
           }
          ],
          "contour": [
           {
            "colorbar": {
             "outlinewidth": 0,
             "ticks": ""
            },
            "colorscale": [
             [
              0,
              "#0d0887"
             ],
             [
              0.1111111111111111,
              "#46039f"
             ],
             [
              0.2222222222222222,
              "#7201a8"
             ],
             [
              0.3333333333333333,
              "#9c179e"
             ],
             [
              0.4444444444444444,
              "#bd3786"
             ],
             [
              0.5555555555555556,
              "#d8576b"
             ],
             [
              0.6666666666666666,
              "#ed7953"
             ],
             [
              0.7777777777777778,
              "#fb9f3a"
             ],
             [
              0.8888888888888888,
              "#fdca26"
             ],
             [
              1,
              "#f0f921"
             ]
            ],
            "type": "contour"
           }
          ],
          "contourcarpet": [
           {
            "colorbar": {
             "outlinewidth": 0,
             "ticks": ""
            },
            "type": "contourcarpet"
           }
          ],
          "heatmap": [
           {
            "colorbar": {
             "outlinewidth": 0,
             "ticks": ""
            },
            "colorscale": [
             [
              0,
              "#0d0887"
             ],
             [
              0.1111111111111111,
              "#46039f"
             ],
             [
              0.2222222222222222,
              "#7201a8"
             ],
             [
              0.3333333333333333,
              "#9c179e"
             ],
             [
              0.4444444444444444,
              "#bd3786"
             ],
             [
              0.5555555555555556,
              "#d8576b"
             ],
             [
              0.6666666666666666,
              "#ed7953"
             ],
             [
              0.7777777777777778,
              "#fb9f3a"
             ],
             [
              0.8888888888888888,
              "#fdca26"
             ],
             [
              1,
              "#f0f921"
             ]
            ],
            "type": "heatmap"
           }
          ],
          "heatmapgl": [
           {
            "colorbar": {
             "outlinewidth": 0,
             "ticks": ""
            },
            "colorscale": [
             [
              0,
              "#0d0887"
             ],
             [
              0.1111111111111111,
              "#46039f"
             ],
             [
              0.2222222222222222,
              "#7201a8"
             ],
             [
              0.3333333333333333,
              "#9c179e"
             ],
             [
              0.4444444444444444,
              "#bd3786"
             ],
             [
              0.5555555555555556,
              "#d8576b"
             ],
             [
              0.6666666666666666,
              "#ed7953"
             ],
             [
              0.7777777777777778,
              "#fb9f3a"
             ],
             [
              0.8888888888888888,
              "#fdca26"
             ],
             [
              1,
              "#f0f921"
             ]
            ],
            "type": "heatmapgl"
           }
          ],
          "histogram": [
           {
            "marker": {
             "pattern": {
              "fillmode": "overlay",
              "size": 10,
              "solidity": 0.2
             }
            },
            "type": "histogram"
           }
          ],
          "histogram2d": [
           {
            "colorbar": {
             "outlinewidth": 0,
             "ticks": ""
            },
            "colorscale": [
             [
              0,
              "#0d0887"
             ],
             [
              0.1111111111111111,
              "#46039f"
             ],
             [
              0.2222222222222222,
              "#7201a8"
             ],
             [
              0.3333333333333333,
              "#9c179e"
             ],
             [
              0.4444444444444444,
              "#bd3786"
             ],
             [
              0.5555555555555556,
              "#d8576b"
             ],
             [
              0.6666666666666666,
              "#ed7953"
             ],
             [
              0.7777777777777778,
              "#fb9f3a"
             ],
             [
              0.8888888888888888,
              "#fdca26"
             ],
             [
              1,
              "#f0f921"
             ]
            ],
            "type": "histogram2d"
           }
          ],
          "histogram2dcontour": [
           {
            "colorbar": {
             "outlinewidth": 0,
             "ticks": ""
            },
            "colorscale": [
             [
              0,
              "#0d0887"
             ],
             [
              0.1111111111111111,
              "#46039f"
             ],
             [
              0.2222222222222222,
              "#7201a8"
             ],
             [
              0.3333333333333333,
              "#9c179e"
             ],
             [
              0.4444444444444444,
              "#bd3786"
             ],
             [
              0.5555555555555556,
              "#d8576b"
             ],
             [
              0.6666666666666666,
              "#ed7953"
             ],
             [
              0.7777777777777778,
              "#fb9f3a"
             ],
             [
              0.8888888888888888,
              "#fdca26"
             ],
             [
              1,
              "#f0f921"
             ]
            ],
            "type": "histogram2dcontour"
           }
          ],
          "mesh3d": [
           {
            "colorbar": {
             "outlinewidth": 0,
             "ticks": ""
            },
            "type": "mesh3d"
           }
          ],
          "parcoords": [
           {
            "line": {
             "colorbar": {
              "outlinewidth": 0,
              "ticks": ""
             }
            },
            "type": "parcoords"
           }
          ],
          "pie": [
           {
            "automargin": true,
            "type": "pie"
           }
          ],
          "scatter": [
           {
            "marker": {
             "colorbar": {
              "outlinewidth": 0,
              "ticks": ""
             }
            },
            "type": "scatter"
           }
          ],
          "scatter3d": [
           {
            "line": {
             "colorbar": {
              "outlinewidth": 0,
              "ticks": ""
             }
            },
            "marker": {
             "colorbar": {
              "outlinewidth": 0,
              "ticks": ""
             }
            },
            "type": "scatter3d"
           }
          ],
          "scattercarpet": [
           {
            "marker": {
             "colorbar": {
              "outlinewidth": 0,
              "ticks": ""
             }
            },
            "type": "scattercarpet"
           }
          ],
          "scattergeo": [
           {
            "marker": {
             "colorbar": {
              "outlinewidth": 0,
              "ticks": ""
             }
            },
            "type": "scattergeo"
           }
          ],
          "scattergl": [
           {
            "marker": {
             "colorbar": {
              "outlinewidth": 0,
              "ticks": ""
             }
            },
            "type": "scattergl"
           }
          ],
          "scattermapbox": [
           {
            "marker": {
             "colorbar": {
              "outlinewidth": 0,
              "ticks": ""
             }
            },
            "type": "scattermapbox"
           }
          ],
          "scatterpolar": [
           {
            "marker": {
             "colorbar": {
              "outlinewidth": 0,
              "ticks": ""
             }
            },
            "type": "scatterpolar"
           }
          ],
          "scatterpolargl": [
           {
            "marker": {
             "colorbar": {
              "outlinewidth": 0,
              "ticks": ""
             }
            },
            "type": "scatterpolargl"
           }
          ],
          "scatterternary": [
           {
            "marker": {
             "colorbar": {
              "outlinewidth": 0,
              "ticks": ""
             }
            },
            "type": "scatterternary"
           }
          ],
          "surface": [
           {
            "colorbar": {
             "outlinewidth": 0,
             "ticks": ""
            },
            "colorscale": [
             [
              0,
              "#0d0887"
             ],
             [
              0.1111111111111111,
              "#46039f"
             ],
             [
              0.2222222222222222,
              "#7201a8"
             ],
             [
              0.3333333333333333,
              "#9c179e"
             ],
             [
              0.4444444444444444,
              "#bd3786"
             ],
             [
              0.5555555555555556,
              "#d8576b"
             ],
             [
              0.6666666666666666,
              "#ed7953"
             ],
             [
              0.7777777777777778,
              "#fb9f3a"
             ],
             [
              0.8888888888888888,
              "#fdca26"
             ],
             [
              1,
              "#f0f921"
             ]
            ],
            "type": "surface"
           }
          ],
          "table": [
           {
            "cells": {
             "fill": {
              "color": "#EBF0F8"
             },
             "line": {
              "color": "white"
             }
            },
            "header": {
             "fill": {
              "color": "#C8D4E3"
             },
             "line": {
              "color": "white"
             }
            },
            "type": "table"
           }
          ]
         },
         "layout": {
          "annotationdefaults": {
           "arrowcolor": "#2a3f5f",
           "arrowhead": 0,
           "arrowwidth": 1
          },
          "autotypenumbers": "strict",
          "coloraxis": {
           "colorbar": {
            "outlinewidth": 0,
            "ticks": ""
           }
          },
          "colorscale": {
           "diverging": [
            [
             0,
             "#8e0152"
            ],
            [
             0.1,
             "#c51b7d"
            ],
            [
             0.2,
             "#de77ae"
            ],
            [
             0.3,
             "#f1b6da"
            ],
            [
             0.4,
             "#fde0ef"
            ],
            [
             0.5,
             "#f7f7f7"
            ],
            [
             0.6,
             "#e6f5d0"
            ],
            [
             0.7,
             "#b8e186"
            ],
            [
             0.8,
             "#7fbc41"
            ],
            [
             0.9,
             "#4d9221"
            ],
            [
             1,
             "#276419"
            ]
           ],
           "sequential": [
            [
             0,
             "#0d0887"
            ],
            [
             0.1111111111111111,
             "#46039f"
            ],
            [
             0.2222222222222222,
             "#7201a8"
            ],
            [
             0.3333333333333333,
             "#9c179e"
            ],
            [
             0.4444444444444444,
             "#bd3786"
            ],
            [
             0.5555555555555556,
             "#d8576b"
            ],
            [
             0.6666666666666666,
             "#ed7953"
            ],
            [
             0.7777777777777778,
             "#fb9f3a"
            ],
            [
             0.8888888888888888,
             "#fdca26"
            ],
            [
             1,
             "#f0f921"
            ]
           ],
           "sequentialminus": [
            [
             0,
             "#0d0887"
            ],
            [
             0.1111111111111111,
             "#46039f"
            ],
            [
             0.2222222222222222,
             "#7201a8"
            ],
            [
             0.3333333333333333,
             "#9c179e"
            ],
            [
             0.4444444444444444,
             "#bd3786"
            ],
            [
             0.5555555555555556,
             "#d8576b"
            ],
            [
             0.6666666666666666,
             "#ed7953"
            ],
            [
             0.7777777777777778,
             "#fb9f3a"
            ],
            [
             0.8888888888888888,
             "#fdca26"
            ],
            [
             1,
             "#f0f921"
            ]
           ]
          },
          "colorway": [
           "#636efa",
           "#EF553B",
           "#00cc96",
           "#ab63fa",
           "#FFA15A",
           "#19d3f3",
           "#FF6692",
           "#B6E880",
           "#FF97FF",
           "#FECB52"
          ],
          "font": {
           "color": "#2a3f5f"
          },
          "geo": {
           "bgcolor": "white",
           "lakecolor": "white",
           "landcolor": "#E5ECF6",
           "showlakes": true,
           "showland": true,
           "subunitcolor": "white"
          },
          "hoverlabel": {
           "align": "left"
          },
          "hovermode": "closest",
          "mapbox": {
           "style": "light"
          },
          "paper_bgcolor": "white",
          "plot_bgcolor": "#E5ECF6",
          "polar": {
           "angularaxis": {
            "gridcolor": "white",
            "linecolor": "white",
            "ticks": ""
           },
           "bgcolor": "#E5ECF6",
           "radialaxis": {
            "gridcolor": "white",
            "linecolor": "white",
            "ticks": ""
           }
          },
          "scene": {
           "xaxis": {
            "backgroundcolor": "#E5ECF6",
            "gridcolor": "white",
            "gridwidth": 2,
            "linecolor": "white",
            "showbackground": true,
            "ticks": "",
            "zerolinecolor": "white"
           },
           "yaxis": {
            "backgroundcolor": "#E5ECF6",
            "gridcolor": "white",
            "gridwidth": 2,
            "linecolor": "white",
            "showbackground": true,
            "ticks": "",
            "zerolinecolor": "white"
           },
           "zaxis": {
            "backgroundcolor": "#E5ECF6",
            "gridcolor": "white",
            "gridwidth": 2,
            "linecolor": "white",
            "showbackground": true,
            "ticks": "",
            "zerolinecolor": "white"
           }
          },
          "shapedefaults": {
           "line": {
            "color": "#2a3f5f"
           }
          },
          "ternary": {
           "aaxis": {
            "gridcolor": "white",
            "linecolor": "white",
            "ticks": ""
           },
           "baxis": {
            "gridcolor": "white",
            "linecolor": "white",
            "ticks": ""
           },
           "bgcolor": "#E5ECF6",
           "caxis": {
            "gridcolor": "white",
            "linecolor": "white",
            "ticks": ""
           }
          },
          "title": {
           "x": 0.05
          },
          "xaxis": {
           "automargin": true,
           "gridcolor": "white",
           "linecolor": "white",
           "ticks": "",
           "title": {
            "standoff": 15
           },
           "zerolinecolor": "white",
           "zerolinewidth": 2
          },
          "yaxis": {
           "automargin": true,
           "gridcolor": "white",
           "linecolor": "white",
           "ticks": "",
           "title": {
            "standoff": 15
           },
           "zerolinecolor": "white",
           "zerolinewidth": 2
          }
         }
        },
        "title": {
         "text": "Proportion Fully Vaccinated by Political Majority of Counties in CA"
        },
        "xaxis": {
         "anchor": "y",
         "domain": [
          0,
          1
         ]
        },
        "yaxis": {
         "anchor": "x",
         "domain": [
          0,
          1
         ],
         "title": {
          "text": "Proportion Fully Vaccinated"
         }
        }
       }
      },
      "text/html": [
       "<div>                            <div id=\"f69989f7-d294-4abf-80ed-514db660e9cf\" class=\"plotly-graph-div\" style=\"height:525px; width:100%;\"></div>            <script type=\"text/javascript\">                require([\"plotly\"], function(Plotly) {                    window.PLOTLYENV=window.PLOTLYENV || {};                                    if (document.getElementById(\"f69989f7-d294-4abf-80ed-514db660e9cf\")) {                    Plotly.newPlot(                        \"f69989f7-d294-4abf-80ed-514db660e9cf\",                        [{\"alignmentgroup\":\"True\",\"boxpoints\":\"all\",\"customdata\":[[\"Alameda\"],[\"Alpine\"],[\"Butte\"],[\"Contra Costa\"],[\"Fresno\"],[\"Humboldt\"],[\"Imperial\"],[\"Inyo\"],[\"Lake\"],[\"Los Angeles\"],[\"Marin\"],[\"Mendocino\"],[\"Merced\"],[\"Mono\"],[\"Monterey\"],[\"Napa\"],[\"Nevada\"],[\"Orange\"],[\"Riverside\"],[\"Sacramento\"],[\"San Benito\"],[\"San Bernardino\"],[\"San Diego\"],[\"San Francisco\"],[\"San Joaquin\"],[\"San Luis Obispo\"],[\"San Mateo\"],[\"Santa Barbara\"],[\"Santa Clara\"],[\"Santa Cruz\"],[\"Solano\"],[\"Sonoma\"],[\"Stanislaus\"],[\"Ventura\"],[\"Yolo\"]],\"hovertemplate\":\"Percent Fully Vaccinated: %{y} <br>County Name: %{customdata}\",\"legendgroup\":\"Democrat\",\"marker\":{\"color\":\"#636efa\"},\"name\":\"Democrat\",\"notched\":false,\"offsetgroup\":\"Democrat\",\"orientation\":\"v\",\"showlegend\":true,\"x0\":\" \",\"xaxis\":\"x\",\"y\":[0.7973024273290128,0.6418979409131602,0.5270447125164739,0.8068733789099034,0.5786789146185868,0.659025488821608,0.8445439318754598,0.5998482631550426,0.5348460791416811,0.7049606451126715,0.857933282208589,0.6634629518651274,0.4845974532043699,0.6426473748298832,0.6859372632217002,0.7686964740927448,0.6293485969000101,0.7043858190086538,0.57539326093078,0.6559020392544525,0.6933866483396333,0.5477135814138914,0.7308132107056158,0.81783520867889,0.5822617229680083,0.6426225157963437,0.8219128253048518,0.6660429078845593,0.8290447426667718,0.7398457658604594,0.6621107246964019,0.769342901092883,0.5449357374938423,0.7031253114933269,0.6841582741534443],\"y0\":\" \",\"yaxis\":\"y\",\"type\":\"box\",\"jitter\":0.2},{\"alignmentgroup\":\"True\",\"boxpoints\":\"all\",\"customdata\":[[\"Amador\"],[\"Calaveras\"],[\"Colusa\"],[\"Del Norte\"],[\"El Dorado\"],[\"Glenn\"],[\"Kern\"],[\"Kings\"],[\"Lassen\"],[\"Madera\"],[\"Mariposa\"],[\"Modoc\"],[\"Placer\"],[\"Plumas\"],[\"Shasta\"],[\"Sierra\"],[\"Siskiyou\"],[\"Sutter\"],[\"Tehama\"],[\"Trinity\"],[\"Tulare\"],[\"Tuolumne\"],[\"Yuba\"]],\"hovertemplate\":\"Percent Fully Vaccinated: %{y} <br>County Name: %{customdata}\",\"legendgroup\":\"Republican\",\"marker\":{\"color\":\"#EF553B\"},\"name\":\"Republican\",\"notched\":false,\"offsetgroup\":\"Republican\",\"orientation\":\"v\",\"showlegend\":true,\"x0\":\" \",\"xaxis\":\"x\",\"y\":[0.5346863564402689,0.5443338074917022,0.5641570397910858,0.4707525945279048,0.6012853576940207,0.5229998637045113,0.5082863216108691,0.43020505740073123,0.2892732413104939,0.521797250279532,0.42326496206799663,0.3858575197889182,0.6580959658770235,0.5378744012212454,0.46357735000702543,0.5008025682182986,0.4729047229047229,0.5430508666912537,0.41789481672611367,0.4439868204283361,0.5108221533659633,0.5359018929915379,0.4754319586328667],\"y0\":\" \",\"yaxis\":\"y\",\"type\":\"box\",\"jitter\":0.2}],                        {\"template\":{\"data\":{\"bar\":[{\"error_x\":{\"color\":\"#2a3f5f\"},\"error_y\":{\"color\":\"#2a3f5f\"},\"marker\":{\"line\":{\"color\":\"#E5ECF6\",\"width\":0.5},\"pattern\":{\"fillmode\":\"overlay\",\"size\":10,\"solidity\":0.2}},\"type\":\"bar\"}],\"barpolar\":[{\"marker\":{\"line\":{\"color\":\"#E5ECF6\",\"width\":0.5},\"pattern\":{\"fillmode\":\"overlay\",\"size\":10,\"solidity\":0.2}},\"type\":\"barpolar\"}],\"carpet\":[{\"aaxis\":{\"endlinecolor\":\"#2a3f5f\",\"gridcolor\":\"white\",\"linecolor\":\"white\",\"minorgridcolor\":\"white\",\"startlinecolor\":\"#2a3f5f\"},\"baxis\":{\"endlinecolor\":\"#2a3f5f\",\"gridcolor\":\"white\",\"linecolor\":\"white\",\"minorgridcolor\":\"white\",\"startlinecolor\":\"#2a3f5f\"},\"type\":\"carpet\"}],\"choropleth\":[{\"colorbar\":{\"outlinewidth\":0,\"ticks\":\"\"},\"type\":\"choropleth\"}],\"contour\":[{\"colorbar\":{\"outlinewidth\":0,\"ticks\":\"\"},\"colorscale\":[[0.0,\"#0d0887\"],[0.1111111111111111,\"#46039f\"],[0.2222222222222222,\"#7201a8\"],[0.3333333333333333,\"#9c179e\"],[0.4444444444444444,\"#bd3786\"],[0.5555555555555556,\"#d8576b\"],[0.6666666666666666,\"#ed7953\"],[0.7777777777777778,\"#fb9f3a\"],[0.8888888888888888,\"#fdca26\"],[1.0,\"#f0f921\"]],\"type\":\"contour\"}],\"contourcarpet\":[{\"colorbar\":{\"outlinewidth\":0,\"ticks\":\"\"},\"type\":\"contourcarpet\"}],\"heatmap\":[{\"colorbar\":{\"outlinewidth\":0,\"ticks\":\"\"},\"colorscale\":[[0.0,\"#0d0887\"],[0.1111111111111111,\"#46039f\"],[0.2222222222222222,\"#7201a8\"],[0.3333333333333333,\"#9c179e\"],[0.4444444444444444,\"#bd3786\"],[0.5555555555555556,\"#d8576b\"],[0.6666666666666666,\"#ed7953\"],[0.7777777777777778,\"#fb9f3a\"],[0.8888888888888888,\"#fdca26\"],[1.0,\"#f0f921\"]],\"type\":\"heatmap\"}],\"heatmapgl\":[{\"colorbar\":{\"outlinewidth\":0,\"ticks\":\"\"},\"colorscale\":[[0.0,\"#0d0887\"],[0.1111111111111111,\"#46039f\"],[0.2222222222222222,\"#7201a8\"],[0.3333333333333333,\"#9c179e\"],[0.4444444444444444,\"#bd3786\"],[0.5555555555555556,\"#d8576b\"],[0.6666666666666666,\"#ed7953\"],[0.7777777777777778,\"#fb9f3a\"],[0.8888888888888888,\"#fdca26\"],[1.0,\"#f0f921\"]],\"type\":\"heatmapgl\"}],\"histogram\":[{\"marker\":{\"pattern\":{\"fillmode\":\"overlay\",\"size\":10,\"solidity\":0.2}},\"type\":\"histogram\"}],\"histogram2d\":[{\"colorbar\":{\"outlinewidth\":0,\"ticks\":\"\"},\"colorscale\":[[0.0,\"#0d0887\"],[0.1111111111111111,\"#46039f\"],[0.2222222222222222,\"#7201a8\"],[0.3333333333333333,\"#9c179e\"],[0.4444444444444444,\"#bd3786\"],[0.5555555555555556,\"#d8576b\"],[0.6666666666666666,\"#ed7953\"],[0.7777777777777778,\"#fb9f3a\"],[0.8888888888888888,\"#fdca26\"],[1.0,\"#f0f921\"]],\"type\":\"histogram2d\"}],\"histogram2dcontour\":[{\"colorbar\":{\"outlinewidth\":0,\"ticks\":\"\"},\"colorscale\":[[0.0,\"#0d0887\"],[0.1111111111111111,\"#46039f\"],[0.2222222222222222,\"#7201a8\"],[0.3333333333333333,\"#9c179e\"],[0.4444444444444444,\"#bd3786\"],[0.5555555555555556,\"#d8576b\"],[0.6666666666666666,\"#ed7953\"],[0.7777777777777778,\"#fb9f3a\"],[0.8888888888888888,\"#fdca26\"],[1.0,\"#f0f921\"]],\"type\":\"histogram2dcontour\"}],\"mesh3d\":[{\"colorbar\":{\"outlinewidth\":0,\"ticks\":\"\"},\"type\":\"mesh3d\"}],\"parcoords\":[{\"line\":{\"colorbar\":{\"outlinewidth\":0,\"ticks\":\"\"}},\"type\":\"parcoords\"}],\"pie\":[{\"automargin\":true,\"type\":\"pie\"}],\"scatter\":[{\"marker\":{\"colorbar\":{\"outlinewidth\":0,\"ticks\":\"\"}},\"type\":\"scatter\"}],\"scatter3d\":[{\"line\":{\"colorbar\":{\"outlinewidth\":0,\"ticks\":\"\"}},\"marker\":{\"colorbar\":{\"outlinewidth\":0,\"ticks\":\"\"}},\"type\":\"scatter3d\"}],\"scattercarpet\":[{\"marker\":{\"colorbar\":{\"outlinewidth\":0,\"ticks\":\"\"}},\"type\":\"scattercarpet\"}],\"scattergeo\":[{\"marker\":{\"colorbar\":{\"outlinewidth\":0,\"ticks\":\"\"}},\"type\":\"scattergeo\"}],\"scattergl\":[{\"marker\":{\"colorbar\":{\"outlinewidth\":0,\"ticks\":\"\"}},\"type\":\"scattergl\"}],\"scattermapbox\":[{\"marker\":{\"colorbar\":{\"outlinewidth\":0,\"ticks\":\"\"}},\"type\":\"scattermapbox\"}],\"scatterpolar\":[{\"marker\":{\"colorbar\":{\"outlinewidth\":0,\"ticks\":\"\"}},\"type\":\"scatterpolar\"}],\"scatterpolargl\":[{\"marker\":{\"colorbar\":{\"outlinewidth\":0,\"ticks\":\"\"}},\"type\":\"scatterpolargl\"}],\"scatterternary\":[{\"marker\":{\"colorbar\":{\"outlinewidth\":0,\"ticks\":\"\"}},\"type\":\"scatterternary\"}],\"surface\":[{\"colorbar\":{\"outlinewidth\":0,\"ticks\":\"\"},\"colorscale\":[[0.0,\"#0d0887\"],[0.1111111111111111,\"#46039f\"],[0.2222222222222222,\"#7201a8\"],[0.3333333333333333,\"#9c179e\"],[0.4444444444444444,\"#bd3786\"],[0.5555555555555556,\"#d8576b\"],[0.6666666666666666,\"#ed7953\"],[0.7777777777777778,\"#fb9f3a\"],[0.8888888888888888,\"#fdca26\"],[1.0,\"#f0f921\"]],\"type\":\"surface\"}],\"table\":[{\"cells\":{\"fill\":{\"color\":\"#EBF0F8\"},\"line\":{\"color\":\"white\"}},\"header\":{\"fill\":{\"color\":\"#C8D4E3\"},\"line\":{\"color\":\"white\"}},\"type\":\"table\"}]},\"layout\":{\"annotationdefaults\":{\"arrowcolor\":\"#2a3f5f\",\"arrowhead\":0,\"arrowwidth\":1},\"autotypenumbers\":\"strict\",\"coloraxis\":{\"colorbar\":{\"outlinewidth\":0,\"ticks\":\"\"}},\"colorscale\":{\"diverging\":[[0,\"#8e0152\"],[0.1,\"#c51b7d\"],[0.2,\"#de77ae\"],[0.3,\"#f1b6da\"],[0.4,\"#fde0ef\"],[0.5,\"#f7f7f7\"],[0.6,\"#e6f5d0\"],[0.7,\"#b8e186\"],[0.8,\"#7fbc41\"],[0.9,\"#4d9221\"],[1,\"#276419\"]],\"sequential\":[[0.0,\"#0d0887\"],[0.1111111111111111,\"#46039f\"],[0.2222222222222222,\"#7201a8\"],[0.3333333333333333,\"#9c179e\"],[0.4444444444444444,\"#bd3786\"],[0.5555555555555556,\"#d8576b\"],[0.6666666666666666,\"#ed7953\"],[0.7777777777777778,\"#fb9f3a\"],[0.8888888888888888,\"#fdca26\"],[1.0,\"#f0f921\"]],\"sequentialminus\":[[0.0,\"#0d0887\"],[0.1111111111111111,\"#46039f\"],[0.2222222222222222,\"#7201a8\"],[0.3333333333333333,\"#9c179e\"],[0.4444444444444444,\"#bd3786\"],[0.5555555555555556,\"#d8576b\"],[0.6666666666666666,\"#ed7953\"],[0.7777777777777778,\"#fb9f3a\"],[0.8888888888888888,\"#fdca26\"],[1.0,\"#f0f921\"]]},\"colorway\":[\"#636efa\",\"#EF553B\",\"#00cc96\",\"#ab63fa\",\"#FFA15A\",\"#19d3f3\",\"#FF6692\",\"#B6E880\",\"#FF97FF\",\"#FECB52\"],\"font\":{\"color\":\"#2a3f5f\"},\"geo\":{\"bgcolor\":\"white\",\"lakecolor\":\"white\",\"landcolor\":\"#E5ECF6\",\"showlakes\":true,\"showland\":true,\"subunitcolor\":\"white\"},\"hoverlabel\":{\"align\":\"left\"},\"hovermode\":\"closest\",\"mapbox\":{\"style\":\"light\"},\"paper_bgcolor\":\"white\",\"plot_bgcolor\":\"#E5ECF6\",\"polar\":{\"angularaxis\":{\"gridcolor\":\"white\",\"linecolor\":\"white\",\"ticks\":\"\"},\"bgcolor\":\"#E5ECF6\",\"radialaxis\":{\"gridcolor\":\"white\",\"linecolor\":\"white\",\"ticks\":\"\"}},\"scene\":{\"xaxis\":{\"backgroundcolor\":\"#E5ECF6\",\"gridcolor\":\"white\",\"gridwidth\":2,\"linecolor\":\"white\",\"showbackground\":true,\"ticks\":\"\",\"zerolinecolor\":\"white\"},\"yaxis\":{\"backgroundcolor\":\"#E5ECF6\",\"gridcolor\":\"white\",\"gridwidth\":2,\"linecolor\":\"white\",\"showbackground\":true,\"ticks\":\"\",\"zerolinecolor\":\"white\"},\"zaxis\":{\"backgroundcolor\":\"#E5ECF6\",\"gridcolor\":\"white\",\"gridwidth\":2,\"linecolor\":\"white\",\"showbackground\":true,\"ticks\":\"\",\"zerolinecolor\":\"white\"}},\"shapedefaults\":{\"line\":{\"color\":\"#2a3f5f\"}},\"ternary\":{\"aaxis\":{\"gridcolor\":\"white\",\"linecolor\":\"white\",\"ticks\":\"\"},\"baxis\":{\"gridcolor\":\"white\",\"linecolor\":\"white\",\"ticks\":\"\"},\"bgcolor\":\"#E5ECF6\",\"caxis\":{\"gridcolor\":\"white\",\"linecolor\":\"white\",\"ticks\":\"\"}},\"title\":{\"x\":0.05},\"xaxis\":{\"automargin\":true,\"gridcolor\":\"white\",\"linecolor\":\"white\",\"ticks\":\"\",\"title\":{\"standoff\":15},\"zerolinecolor\":\"white\",\"zerolinewidth\":2},\"yaxis\":{\"automargin\":true,\"gridcolor\":\"white\",\"linecolor\":\"white\",\"ticks\":\"\",\"title\":{\"standoff\":15},\"zerolinecolor\":\"white\",\"zerolinewidth\":2}}},\"xaxis\":{\"anchor\":\"y\",\"domain\":[0.0,1.0]},\"yaxis\":{\"anchor\":\"x\",\"domain\":[0.0,1.0],\"title\":{\"text\":\"Proportion Fully Vaccinated\"}},\"legend\":{\"title\":{\"text\":\"Majority\"},\"tracegroupgap\":0},\"title\":{\"text\":\"Proportion Fully Vaccinated by Political Majority of Counties in CA\"},\"boxmode\":\"group\"},                        {\"responsive\": true}                    ).then(function(){\n",
       "                            \n",
       "var gd = document.getElementById('f69989f7-d294-4abf-80ed-514db660e9cf');\n",
       "var x = new MutationObserver(function (mutations, observer) {{\n",
       "        var display = window.getComputedStyle(gd).display;\n",
       "        if (!display || display === 'none') {{\n",
       "            console.log([gd, 'removed!']);\n",
       "            Plotly.purge(gd);\n",
       "            observer.disconnect();\n",
       "        }}\n",
       "}});\n",
       "\n",
       "// Listen for the removal of the full notebook cells\n",
       "var notebookContainer = gd.closest('#notebook-container');\n",
       "if (notebookContainer) {{\n",
       "    x.observe(notebookContainer, {childList: true});\n",
       "}}\n",
       "\n",
       "// Listen for the clearing of the current output cell\n",
       "var outputEl = gd.closest('.output');\n",
       "if (outputEl) {{\n",
       "    x.observe(outputEl, {childList: true});\n",
       "}}\n",
       "\n",
       "                        })                };                });            </script>        </div>"
      ]
     },
     "metadata": {},
     "output_type": "display_data"
    }
   ],
   "source": [
    "fig = px.box(CA_vax_cases, y= \"vax_prop\", \n",
    "                color = \"majority\",\n",
    "                points = \"all\",\n",
    "                hover_data = [\"county\"],\n",
    "                title = \"Proportion Fully Vaccinated by Political Majority of Counties in CA\",\n",
    "                labels = {\"vax_prop\" : \"Proportion Fully Vaccinated\",\n",
    "                          \"majority\" : \"Majority\"})\n",
    "\n",
    "fig.update_traces(boxpoints='all', jitter=0.2)\n",
    "\n",
    "fig.update_traces(hovertemplate='Percent Fully Vaccinated: %{y} <br>County Name: %{customdata}')\n",
    "\n",
    "fig.show()"
   ]
  },
  {
   "cell_type": "code",
   "execution_count": 12,
   "id": "ffee111d",
   "metadata": {},
   "outputs": [
    {
     "data": {
      "application/vnd.plotly.v1+json": {
       "config": {
        "plotlyServerURL": "https://plot.ly"
       },
       "data": [
        {
         "customdata": [
          [
           "Alameda"
          ],
          [
           "Alpine"
          ],
          [
           "Butte"
          ],
          [
           "Contra Costa"
          ],
          [
           "Fresno"
          ],
          [
           "Humboldt"
          ],
          [
           "Imperial"
          ],
          [
           "Inyo"
          ],
          [
           "Lake"
          ],
          [
           "Los Angeles"
          ],
          [
           "Marin"
          ],
          [
           "Mendocino"
          ],
          [
           "Merced"
          ],
          [
           "Mono"
          ],
          [
           "Monterey"
          ],
          [
           "Napa"
          ],
          [
           "Nevada"
          ],
          [
           "Orange"
          ],
          [
           "Riverside"
          ],
          [
           "Sacramento"
          ],
          [
           "San Benito"
          ],
          [
           "San Bernardino"
          ],
          [
           "San Diego"
          ],
          [
           "San Francisco"
          ],
          [
           "San Joaquin"
          ],
          [
           "San Luis Obispo"
          ],
          [
           "San Mateo"
          ],
          [
           "Santa Barbara"
          ],
          [
           "Santa Clara"
          ],
          [
           "Santa Cruz"
          ],
          [
           "Solano"
          ],
          [
           "Sonoma"
          ],
          [
           "Stanislaus"
          ],
          [
           "Ventura"
          ],
          [
           "Yolo"
          ]
         ],
         "hovertemplate": "Percent Fully Vaccinated: %{x} <br> Proportion of Deaths %{y} <br> County: %{customdata}",
         "legendgroup": "Democrat",
         "marker": {
          "color": "#636efa",
          "symbol": "circle"
         },
         "mode": "markers",
         "name": "Democrat",
         "orientation": "v",
         "showlegend": true,
         "type": "scatter",
         "x": [
          0.7973024273290128,
          0.6418979409131602,
          0.5270447125164739,
          0.8068733789099034,
          0.5786789146185868,
          0.659025488821608,
          0.8445439318754598,
          0.5998482631550426,
          0.5348460791416811,
          0.7049606451126715,
          0.857933282208589,
          0.6634629518651274,
          0.4845974532043699,
          0.6426473748298832,
          0.6859372632217002,
          0.7686964740927448,
          0.6293485969000101,
          0.7043858190086538,
          0.57539326093078,
          0.6559020392544525,
          0.6933866483396333,
          0.5477135814138914,
          0.7308132107056158,
          0.81783520867889,
          0.5822617229680083,
          0.6426225157963437,
          0.8219128253048518,
          0.6660429078845593,
          0.8290447426667718,
          0.7398457658604594,
          0.6621107246964019,
          0.769342901092883,
          0.5449357374938423,
          0.7031253114933269,
          0.6841582741534443
         ],
         "xaxis": "x",
         "y": [
          0.0010386230148420475,
          0,
          0.0017036400956977346,
          0.0010611163357609997,
          0.002552733071310865,
          0.00099181195841847,
          0.0045917275853252565,
          0.0030347368991491897,
          0.0019885619151855222,
          0.0029760497553169823,
          0.0010429447852760736,
          0.001266409615667296,
          0.0027346739962424327,
          0.00035814053434567725,
          0.0015599511512439496,
          0.0009308853435682984,
          0.0012359436733866882,
          0.0020560510872012832,
          0.002512413168594228,
          0.0018106156029273426,
          0.001265190090906251,
          0.002963383208607566,
          0.0014947700848974815,
          0.0008943381001479356,
          0.002642659527567105,
          0.0015921853820169117,
          0.0007892020704343567,
          0.0014242735657017396,
          0.0011013501322687457,
          0.0009233610341643582,
          0.0009499048969623302,
          0.0009523464366538614,
          0.002713839335731803,
          0.0016652066791205363,
          0.0013639697332880167
         ],
         "yaxis": "y"
        },
        {
         "customdata": [
          [
           "Amador"
          ],
          [
           "Calaveras"
          ],
          [
           "Colusa"
          ],
          [
           "Del Norte"
          ],
          [
           "El Dorado"
          ],
          [
           "Glenn"
          ],
          [
           "Kern"
          ],
          [
           "Kings"
          ],
          [
           "Lassen"
          ],
          [
           "Madera"
          ],
          [
           "Mariposa"
          ],
          [
           "Modoc"
          ],
          [
           "Placer"
          ],
          [
           "Plumas"
          ],
          [
           "Shasta"
          ],
          [
           "Sierra"
          ],
          [
           "Siskiyou"
          ],
          [
           "Sutter"
          ],
          [
           "Tehama"
          ],
          [
           "Trinity"
          ],
          [
           "Tulare"
          ],
          [
           "Tuolumne"
          ],
          [
           "Yuba"
          ]
         ],
         "hovertemplate": "Percent Fully Vaccinated: %{x} <br> Proportion of Deaths %{y} <br> County: %{customdata}",
         "legendgroup": "Republican",
         "marker": {
          "color": "#EF553B",
          "symbol": "circle"
         },
         "mode": "markers",
         "name": "Republican",
         "orientation": "v",
         "showlegend": true,
         "type": "scatter",
         "x": [
          0.5346863564402689,
          0.5443338074917022,
          0.5641570397910858,
          0.4707525945279048,
          0.6012853576940207,
          0.5229998637045113,
          0.5082863216108691,
          0.43020505740073123,
          0.2892732413104939,
          0.521797250279532,
          0.42326496206799663,
          0.3858575197889182,
          0.6580959658770235,
          0.5378744012212454,
          0.46357735000702543,
          0.5008025682182986,
          0.4729047229047229,
          0.5430508666912537,
          0.41789481672611367,
          0.4439868204283361,
          0.5108221533659633,
          0.5359018929915379,
          0.4754319586328667
         ],
         "xaxis": "x",
         "y": [
          0.0021541096779216736,
          0.002596581543949965,
          0.0009294914354003453,
          0.0014877712460991364,
          0.000999492485680846,
          0.0011925855254191085,
          0.0022809357983976293,
          0.0027485873539413465,
          0.001962414768002661,
          0.0021987769303325024,
          0.00016858668165214947,
          0.000633245382585752,
          0.0014758986499647882,
          0.0006843185766173607,
          0.0027033862582548827,
          0.00032102728731942215,
          0.0016835016835016834,
          0.0019575023404919288,
          0.00239811793276163,
          0.0014976785981728321,
          0.0026650262270784004,
          0.003285515080896258,
          0.0011098499180224493
         ],
         "yaxis": "y"
        }
       ],
       "layout": {
        "legend": {
         "title": {
          "text": "Political Majority of Area"
         },
         "tracegroupgap": 0
        },
        "template": {
         "data": {
          "bar": [
           {
            "error_x": {
             "color": "#2a3f5f"
            },
            "error_y": {
             "color": "#2a3f5f"
            },
            "marker": {
             "line": {
              "color": "#E5ECF6",
              "width": 0.5
             },
             "pattern": {
              "fillmode": "overlay",
              "size": 10,
              "solidity": 0.2
             }
            },
            "type": "bar"
           }
          ],
          "barpolar": [
           {
            "marker": {
             "line": {
              "color": "#E5ECF6",
              "width": 0.5
             },
             "pattern": {
              "fillmode": "overlay",
              "size": 10,
              "solidity": 0.2
             }
            },
            "type": "barpolar"
           }
          ],
          "carpet": [
           {
            "aaxis": {
             "endlinecolor": "#2a3f5f",
             "gridcolor": "white",
             "linecolor": "white",
             "minorgridcolor": "white",
             "startlinecolor": "#2a3f5f"
            },
            "baxis": {
             "endlinecolor": "#2a3f5f",
             "gridcolor": "white",
             "linecolor": "white",
             "minorgridcolor": "white",
             "startlinecolor": "#2a3f5f"
            },
            "type": "carpet"
           }
          ],
          "choropleth": [
           {
            "colorbar": {
             "outlinewidth": 0,
             "ticks": ""
            },
            "type": "choropleth"
           }
          ],
          "contour": [
           {
            "colorbar": {
             "outlinewidth": 0,
             "ticks": ""
            },
            "colorscale": [
             [
              0,
              "#0d0887"
             ],
             [
              0.1111111111111111,
              "#46039f"
             ],
             [
              0.2222222222222222,
              "#7201a8"
             ],
             [
              0.3333333333333333,
              "#9c179e"
             ],
             [
              0.4444444444444444,
              "#bd3786"
             ],
             [
              0.5555555555555556,
              "#d8576b"
             ],
             [
              0.6666666666666666,
              "#ed7953"
             ],
             [
              0.7777777777777778,
              "#fb9f3a"
             ],
             [
              0.8888888888888888,
              "#fdca26"
             ],
             [
              1,
              "#f0f921"
             ]
            ],
            "type": "contour"
           }
          ],
          "contourcarpet": [
           {
            "colorbar": {
             "outlinewidth": 0,
             "ticks": ""
            },
            "type": "contourcarpet"
           }
          ],
          "heatmap": [
           {
            "colorbar": {
             "outlinewidth": 0,
             "ticks": ""
            },
            "colorscale": [
             [
              0,
              "#0d0887"
             ],
             [
              0.1111111111111111,
              "#46039f"
             ],
             [
              0.2222222222222222,
              "#7201a8"
             ],
             [
              0.3333333333333333,
              "#9c179e"
             ],
             [
              0.4444444444444444,
              "#bd3786"
             ],
             [
              0.5555555555555556,
              "#d8576b"
             ],
             [
              0.6666666666666666,
              "#ed7953"
             ],
             [
              0.7777777777777778,
              "#fb9f3a"
             ],
             [
              0.8888888888888888,
              "#fdca26"
             ],
             [
              1,
              "#f0f921"
             ]
            ],
            "type": "heatmap"
           }
          ],
          "heatmapgl": [
           {
            "colorbar": {
             "outlinewidth": 0,
             "ticks": ""
            },
            "colorscale": [
             [
              0,
              "#0d0887"
             ],
             [
              0.1111111111111111,
              "#46039f"
             ],
             [
              0.2222222222222222,
              "#7201a8"
             ],
             [
              0.3333333333333333,
              "#9c179e"
             ],
             [
              0.4444444444444444,
              "#bd3786"
             ],
             [
              0.5555555555555556,
              "#d8576b"
             ],
             [
              0.6666666666666666,
              "#ed7953"
             ],
             [
              0.7777777777777778,
              "#fb9f3a"
             ],
             [
              0.8888888888888888,
              "#fdca26"
             ],
             [
              1,
              "#f0f921"
             ]
            ],
            "type": "heatmapgl"
           }
          ],
          "histogram": [
           {
            "marker": {
             "pattern": {
              "fillmode": "overlay",
              "size": 10,
              "solidity": 0.2
             }
            },
            "type": "histogram"
           }
          ],
          "histogram2d": [
           {
            "colorbar": {
             "outlinewidth": 0,
             "ticks": ""
            },
            "colorscale": [
             [
              0,
              "#0d0887"
             ],
             [
              0.1111111111111111,
              "#46039f"
             ],
             [
              0.2222222222222222,
              "#7201a8"
             ],
             [
              0.3333333333333333,
              "#9c179e"
             ],
             [
              0.4444444444444444,
              "#bd3786"
             ],
             [
              0.5555555555555556,
              "#d8576b"
             ],
             [
              0.6666666666666666,
              "#ed7953"
             ],
             [
              0.7777777777777778,
              "#fb9f3a"
             ],
             [
              0.8888888888888888,
              "#fdca26"
             ],
             [
              1,
              "#f0f921"
             ]
            ],
            "type": "histogram2d"
           }
          ],
          "histogram2dcontour": [
           {
            "colorbar": {
             "outlinewidth": 0,
             "ticks": ""
            },
            "colorscale": [
             [
              0,
              "#0d0887"
             ],
             [
              0.1111111111111111,
              "#46039f"
             ],
             [
              0.2222222222222222,
              "#7201a8"
             ],
             [
              0.3333333333333333,
              "#9c179e"
             ],
             [
              0.4444444444444444,
              "#bd3786"
             ],
             [
              0.5555555555555556,
              "#d8576b"
             ],
             [
              0.6666666666666666,
              "#ed7953"
             ],
             [
              0.7777777777777778,
              "#fb9f3a"
             ],
             [
              0.8888888888888888,
              "#fdca26"
             ],
             [
              1,
              "#f0f921"
             ]
            ],
            "type": "histogram2dcontour"
           }
          ],
          "mesh3d": [
           {
            "colorbar": {
             "outlinewidth": 0,
             "ticks": ""
            },
            "type": "mesh3d"
           }
          ],
          "parcoords": [
           {
            "line": {
             "colorbar": {
              "outlinewidth": 0,
              "ticks": ""
             }
            },
            "type": "parcoords"
           }
          ],
          "pie": [
           {
            "automargin": true,
            "type": "pie"
           }
          ],
          "scatter": [
           {
            "marker": {
             "colorbar": {
              "outlinewidth": 0,
              "ticks": ""
             }
            },
            "type": "scatter"
           }
          ],
          "scatter3d": [
           {
            "line": {
             "colorbar": {
              "outlinewidth": 0,
              "ticks": ""
             }
            },
            "marker": {
             "colorbar": {
              "outlinewidth": 0,
              "ticks": ""
             }
            },
            "type": "scatter3d"
           }
          ],
          "scattercarpet": [
           {
            "marker": {
             "colorbar": {
              "outlinewidth": 0,
              "ticks": ""
             }
            },
            "type": "scattercarpet"
           }
          ],
          "scattergeo": [
           {
            "marker": {
             "colorbar": {
              "outlinewidth": 0,
              "ticks": ""
             }
            },
            "type": "scattergeo"
           }
          ],
          "scattergl": [
           {
            "marker": {
             "colorbar": {
              "outlinewidth": 0,
              "ticks": ""
             }
            },
            "type": "scattergl"
           }
          ],
          "scattermapbox": [
           {
            "marker": {
             "colorbar": {
              "outlinewidth": 0,
              "ticks": ""
             }
            },
            "type": "scattermapbox"
           }
          ],
          "scatterpolar": [
           {
            "marker": {
             "colorbar": {
              "outlinewidth": 0,
              "ticks": ""
             }
            },
            "type": "scatterpolar"
           }
          ],
          "scatterpolargl": [
           {
            "marker": {
             "colorbar": {
              "outlinewidth": 0,
              "ticks": ""
             }
            },
            "type": "scatterpolargl"
           }
          ],
          "scatterternary": [
           {
            "marker": {
             "colorbar": {
              "outlinewidth": 0,
              "ticks": ""
             }
            },
            "type": "scatterternary"
           }
          ],
          "surface": [
           {
            "colorbar": {
             "outlinewidth": 0,
             "ticks": ""
            },
            "colorscale": [
             [
              0,
              "#0d0887"
             ],
             [
              0.1111111111111111,
              "#46039f"
             ],
             [
              0.2222222222222222,
              "#7201a8"
             ],
             [
              0.3333333333333333,
              "#9c179e"
             ],
             [
              0.4444444444444444,
              "#bd3786"
             ],
             [
              0.5555555555555556,
              "#d8576b"
             ],
             [
              0.6666666666666666,
              "#ed7953"
             ],
             [
              0.7777777777777778,
              "#fb9f3a"
             ],
             [
              0.8888888888888888,
              "#fdca26"
             ],
             [
              1,
              "#f0f921"
             ]
            ],
            "type": "surface"
           }
          ],
          "table": [
           {
            "cells": {
             "fill": {
              "color": "#EBF0F8"
             },
             "line": {
              "color": "white"
             }
            },
            "header": {
             "fill": {
              "color": "#C8D4E3"
             },
             "line": {
              "color": "white"
             }
            },
            "type": "table"
           }
          ]
         },
         "layout": {
          "annotationdefaults": {
           "arrowcolor": "#2a3f5f",
           "arrowhead": 0,
           "arrowwidth": 1
          },
          "autotypenumbers": "strict",
          "coloraxis": {
           "colorbar": {
            "outlinewidth": 0,
            "ticks": ""
           }
          },
          "colorscale": {
           "diverging": [
            [
             0,
             "#8e0152"
            ],
            [
             0.1,
             "#c51b7d"
            ],
            [
             0.2,
             "#de77ae"
            ],
            [
             0.3,
             "#f1b6da"
            ],
            [
             0.4,
             "#fde0ef"
            ],
            [
             0.5,
             "#f7f7f7"
            ],
            [
             0.6,
             "#e6f5d0"
            ],
            [
             0.7,
             "#b8e186"
            ],
            [
             0.8,
             "#7fbc41"
            ],
            [
             0.9,
             "#4d9221"
            ],
            [
             1,
             "#276419"
            ]
           ],
           "sequential": [
            [
             0,
             "#0d0887"
            ],
            [
             0.1111111111111111,
             "#46039f"
            ],
            [
             0.2222222222222222,
             "#7201a8"
            ],
            [
             0.3333333333333333,
             "#9c179e"
            ],
            [
             0.4444444444444444,
             "#bd3786"
            ],
            [
             0.5555555555555556,
             "#d8576b"
            ],
            [
             0.6666666666666666,
             "#ed7953"
            ],
            [
             0.7777777777777778,
             "#fb9f3a"
            ],
            [
             0.8888888888888888,
             "#fdca26"
            ],
            [
             1,
             "#f0f921"
            ]
           ],
           "sequentialminus": [
            [
             0,
             "#0d0887"
            ],
            [
             0.1111111111111111,
             "#46039f"
            ],
            [
             0.2222222222222222,
             "#7201a8"
            ],
            [
             0.3333333333333333,
             "#9c179e"
            ],
            [
             0.4444444444444444,
             "#bd3786"
            ],
            [
             0.5555555555555556,
             "#d8576b"
            ],
            [
             0.6666666666666666,
             "#ed7953"
            ],
            [
             0.7777777777777778,
             "#fb9f3a"
            ],
            [
             0.8888888888888888,
             "#fdca26"
            ],
            [
             1,
             "#f0f921"
            ]
           ]
          },
          "colorway": [
           "#636efa",
           "#EF553B",
           "#00cc96",
           "#ab63fa",
           "#FFA15A",
           "#19d3f3",
           "#FF6692",
           "#B6E880",
           "#FF97FF",
           "#FECB52"
          ],
          "font": {
           "color": "#2a3f5f"
          },
          "geo": {
           "bgcolor": "white",
           "lakecolor": "white",
           "landcolor": "#E5ECF6",
           "showlakes": true,
           "showland": true,
           "subunitcolor": "white"
          },
          "hoverlabel": {
           "align": "left"
          },
          "hovermode": "closest",
          "mapbox": {
           "style": "light"
          },
          "paper_bgcolor": "white",
          "plot_bgcolor": "#E5ECF6",
          "polar": {
           "angularaxis": {
            "gridcolor": "white",
            "linecolor": "white",
            "ticks": ""
           },
           "bgcolor": "#E5ECF6",
           "radialaxis": {
            "gridcolor": "white",
            "linecolor": "white",
            "ticks": ""
           }
          },
          "scene": {
           "xaxis": {
            "backgroundcolor": "#E5ECF6",
            "gridcolor": "white",
            "gridwidth": 2,
            "linecolor": "white",
            "showbackground": true,
            "ticks": "",
            "zerolinecolor": "white"
           },
           "yaxis": {
            "backgroundcolor": "#E5ECF6",
            "gridcolor": "white",
            "gridwidth": 2,
            "linecolor": "white",
            "showbackground": true,
            "ticks": "",
            "zerolinecolor": "white"
           },
           "zaxis": {
            "backgroundcolor": "#E5ECF6",
            "gridcolor": "white",
            "gridwidth": 2,
            "linecolor": "white",
            "showbackground": true,
            "ticks": "",
            "zerolinecolor": "white"
           }
          },
          "shapedefaults": {
           "line": {
            "color": "#2a3f5f"
           }
          },
          "ternary": {
           "aaxis": {
            "gridcolor": "white",
            "linecolor": "white",
            "ticks": ""
           },
           "baxis": {
            "gridcolor": "white",
            "linecolor": "white",
            "ticks": ""
           },
           "bgcolor": "#E5ECF6",
           "caxis": {
            "gridcolor": "white",
            "linecolor": "white",
            "ticks": ""
           }
          },
          "title": {
           "x": 0.05
          },
          "xaxis": {
           "automargin": true,
           "gridcolor": "white",
           "linecolor": "white",
           "ticks": "",
           "title": {
            "standoff": 15
           },
           "zerolinecolor": "white",
           "zerolinewidth": 2
          },
          "yaxis": {
           "automargin": true,
           "gridcolor": "white",
           "linecolor": "white",
           "ticks": "",
           "title": {
            "standoff": 15
           },
           "zerolinecolor": "white",
           "zerolinewidth": 2
          }
         }
        },
        "title": {
         "text": "Scatter Plot of Proportions of Vaccines vs Proportions of Deaths by County"
        },
        "xaxis": {
         "anchor": "y",
         "domain": [
          0,
          1
         ],
         "title": {
          "text": "Proportion Fully Vaccinated"
         }
        },
        "yaxis": {
         "anchor": "x",
         "domain": [
          0,
          1
         ],
         "title": {
          "text": "Proportion of Deaths"
         }
        }
       }
      },
      "text/html": [
       "<div>                            <div id=\"673ebe46-8362-46e3-be5f-2e13ed4f14e5\" class=\"plotly-graph-div\" style=\"height:525px; width:100%;\"></div>            <script type=\"text/javascript\">                require([\"plotly\"], function(Plotly) {                    window.PLOTLYENV=window.PLOTLYENV || {};                                    if (document.getElementById(\"673ebe46-8362-46e3-be5f-2e13ed4f14e5\")) {                    Plotly.newPlot(                        \"673ebe46-8362-46e3-be5f-2e13ed4f14e5\",                        [{\"customdata\":[[\"Alameda\"],[\"Alpine\"],[\"Butte\"],[\"Contra Costa\"],[\"Fresno\"],[\"Humboldt\"],[\"Imperial\"],[\"Inyo\"],[\"Lake\"],[\"Los Angeles\"],[\"Marin\"],[\"Mendocino\"],[\"Merced\"],[\"Mono\"],[\"Monterey\"],[\"Napa\"],[\"Nevada\"],[\"Orange\"],[\"Riverside\"],[\"Sacramento\"],[\"San Benito\"],[\"San Bernardino\"],[\"San Diego\"],[\"San Francisco\"],[\"San Joaquin\"],[\"San Luis Obispo\"],[\"San Mateo\"],[\"Santa Barbara\"],[\"Santa Clara\"],[\"Santa Cruz\"],[\"Solano\"],[\"Sonoma\"],[\"Stanislaus\"],[\"Ventura\"],[\"Yolo\"]],\"hovertemplate\":\"Percent Fully Vaccinated: %{x} <br> Proportion of Deaths %{y} <br> County: %{customdata}\",\"legendgroup\":\"Democrat\",\"marker\":{\"color\":\"#636efa\",\"symbol\":\"circle\"},\"mode\":\"markers\",\"name\":\"Democrat\",\"orientation\":\"v\",\"showlegend\":true,\"x\":[0.7973024273290128,0.6418979409131602,0.5270447125164739,0.8068733789099034,0.5786789146185868,0.659025488821608,0.8445439318754598,0.5998482631550426,0.5348460791416811,0.7049606451126715,0.857933282208589,0.6634629518651274,0.4845974532043699,0.6426473748298832,0.6859372632217002,0.7686964740927448,0.6293485969000101,0.7043858190086538,0.57539326093078,0.6559020392544525,0.6933866483396333,0.5477135814138914,0.7308132107056158,0.81783520867889,0.5822617229680083,0.6426225157963437,0.8219128253048518,0.6660429078845593,0.8290447426667718,0.7398457658604594,0.6621107246964019,0.769342901092883,0.5449357374938423,0.7031253114933269,0.6841582741534443],\"xaxis\":\"x\",\"y\":[0.0010386230148420475,0.0,0.0017036400956977346,0.0010611163357609997,0.002552733071310865,0.00099181195841847,0.0045917275853252565,0.0030347368991491897,0.0019885619151855222,0.0029760497553169823,0.0010429447852760736,0.001266409615667296,0.0027346739962424327,0.00035814053434567725,0.0015599511512439496,0.0009308853435682984,0.0012359436733866882,0.0020560510872012832,0.002512413168594228,0.0018106156029273426,0.001265190090906251,0.002963383208607566,0.0014947700848974815,0.0008943381001479356,0.002642659527567105,0.0015921853820169117,0.0007892020704343567,0.0014242735657017396,0.0011013501322687457,0.0009233610341643582,0.0009499048969623302,0.0009523464366538614,0.002713839335731803,0.0016652066791205363,0.0013639697332880167],\"yaxis\":\"y\",\"type\":\"scatter\"},{\"customdata\":[[\"Amador\"],[\"Calaveras\"],[\"Colusa\"],[\"Del Norte\"],[\"El Dorado\"],[\"Glenn\"],[\"Kern\"],[\"Kings\"],[\"Lassen\"],[\"Madera\"],[\"Mariposa\"],[\"Modoc\"],[\"Placer\"],[\"Plumas\"],[\"Shasta\"],[\"Sierra\"],[\"Siskiyou\"],[\"Sutter\"],[\"Tehama\"],[\"Trinity\"],[\"Tulare\"],[\"Tuolumne\"],[\"Yuba\"]],\"hovertemplate\":\"Percent Fully Vaccinated: %{x} <br> Proportion of Deaths %{y} <br> County: %{customdata}\",\"legendgroup\":\"Republican\",\"marker\":{\"color\":\"#EF553B\",\"symbol\":\"circle\"},\"mode\":\"markers\",\"name\":\"Republican\",\"orientation\":\"v\",\"showlegend\":true,\"x\":[0.5346863564402689,0.5443338074917022,0.5641570397910858,0.4707525945279048,0.6012853576940207,0.5229998637045113,0.5082863216108691,0.43020505740073123,0.2892732413104939,0.521797250279532,0.42326496206799663,0.3858575197889182,0.6580959658770235,0.5378744012212454,0.46357735000702543,0.5008025682182986,0.4729047229047229,0.5430508666912537,0.41789481672611367,0.4439868204283361,0.5108221533659633,0.5359018929915379,0.4754319586328667],\"xaxis\":\"x\",\"y\":[0.0021541096779216736,0.002596581543949965,0.0009294914354003453,0.0014877712460991364,0.000999492485680846,0.0011925855254191085,0.0022809357983976293,0.0027485873539413465,0.001962414768002661,0.0021987769303325024,0.00016858668165214947,0.000633245382585752,0.0014758986499647882,0.0006843185766173607,0.0027033862582548827,0.00032102728731942215,0.0016835016835016834,0.0019575023404919288,0.00239811793276163,0.0014976785981728321,0.0026650262270784004,0.003285515080896258,0.0011098499180224493],\"yaxis\":\"y\",\"type\":\"scatter\"}],                        {\"template\":{\"data\":{\"bar\":[{\"error_x\":{\"color\":\"#2a3f5f\"},\"error_y\":{\"color\":\"#2a3f5f\"},\"marker\":{\"line\":{\"color\":\"#E5ECF6\",\"width\":0.5},\"pattern\":{\"fillmode\":\"overlay\",\"size\":10,\"solidity\":0.2}},\"type\":\"bar\"}],\"barpolar\":[{\"marker\":{\"line\":{\"color\":\"#E5ECF6\",\"width\":0.5},\"pattern\":{\"fillmode\":\"overlay\",\"size\":10,\"solidity\":0.2}},\"type\":\"barpolar\"}],\"carpet\":[{\"aaxis\":{\"endlinecolor\":\"#2a3f5f\",\"gridcolor\":\"white\",\"linecolor\":\"white\",\"minorgridcolor\":\"white\",\"startlinecolor\":\"#2a3f5f\"},\"baxis\":{\"endlinecolor\":\"#2a3f5f\",\"gridcolor\":\"white\",\"linecolor\":\"white\",\"minorgridcolor\":\"white\",\"startlinecolor\":\"#2a3f5f\"},\"type\":\"carpet\"}],\"choropleth\":[{\"colorbar\":{\"outlinewidth\":0,\"ticks\":\"\"},\"type\":\"choropleth\"}],\"contour\":[{\"colorbar\":{\"outlinewidth\":0,\"ticks\":\"\"},\"colorscale\":[[0.0,\"#0d0887\"],[0.1111111111111111,\"#46039f\"],[0.2222222222222222,\"#7201a8\"],[0.3333333333333333,\"#9c179e\"],[0.4444444444444444,\"#bd3786\"],[0.5555555555555556,\"#d8576b\"],[0.6666666666666666,\"#ed7953\"],[0.7777777777777778,\"#fb9f3a\"],[0.8888888888888888,\"#fdca26\"],[1.0,\"#f0f921\"]],\"type\":\"contour\"}],\"contourcarpet\":[{\"colorbar\":{\"outlinewidth\":0,\"ticks\":\"\"},\"type\":\"contourcarpet\"}],\"heatmap\":[{\"colorbar\":{\"outlinewidth\":0,\"ticks\":\"\"},\"colorscale\":[[0.0,\"#0d0887\"],[0.1111111111111111,\"#46039f\"],[0.2222222222222222,\"#7201a8\"],[0.3333333333333333,\"#9c179e\"],[0.4444444444444444,\"#bd3786\"],[0.5555555555555556,\"#d8576b\"],[0.6666666666666666,\"#ed7953\"],[0.7777777777777778,\"#fb9f3a\"],[0.8888888888888888,\"#fdca26\"],[1.0,\"#f0f921\"]],\"type\":\"heatmap\"}],\"heatmapgl\":[{\"colorbar\":{\"outlinewidth\":0,\"ticks\":\"\"},\"colorscale\":[[0.0,\"#0d0887\"],[0.1111111111111111,\"#46039f\"],[0.2222222222222222,\"#7201a8\"],[0.3333333333333333,\"#9c179e\"],[0.4444444444444444,\"#bd3786\"],[0.5555555555555556,\"#d8576b\"],[0.6666666666666666,\"#ed7953\"],[0.7777777777777778,\"#fb9f3a\"],[0.8888888888888888,\"#fdca26\"],[1.0,\"#f0f921\"]],\"type\":\"heatmapgl\"}],\"histogram\":[{\"marker\":{\"pattern\":{\"fillmode\":\"overlay\",\"size\":10,\"solidity\":0.2}},\"type\":\"histogram\"}],\"histogram2d\":[{\"colorbar\":{\"outlinewidth\":0,\"ticks\":\"\"},\"colorscale\":[[0.0,\"#0d0887\"],[0.1111111111111111,\"#46039f\"],[0.2222222222222222,\"#7201a8\"],[0.3333333333333333,\"#9c179e\"],[0.4444444444444444,\"#bd3786\"],[0.5555555555555556,\"#d8576b\"],[0.6666666666666666,\"#ed7953\"],[0.7777777777777778,\"#fb9f3a\"],[0.8888888888888888,\"#fdca26\"],[1.0,\"#f0f921\"]],\"type\":\"histogram2d\"}],\"histogram2dcontour\":[{\"colorbar\":{\"outlinewidth\":0,\"ticks\":\"\"},\"colorscale\":[[0.0,\"#0d0887\"],[0.1111111111111111,\"#46039f\"],[0.2222222222222222,\"#7201a8\"],[0.3333333333333333,\"#9c179e\"],[0.4444444444444444,\"#bd3786\"],[0.5555555555555556,\"#d8576b\"],[0.6666666666666666,\"#ed7953\"],[0.7777777777777778,\"#fb9f3a\"],[0.8888888888888888,\"#fdca26\"],[1.0,\"#f0f921\"]],\"type\":\"histogram2dcontour\"}],\"mesh3d\":[{\"colorbar\":{\"outlinewidth\":0,\"ticks\":\"\"},\"type\":\"mesh3d\"}],\"parcoords\":[{\"line\":{\"colorbar\":{\"outlinewidth\":0,\"ticks\":\"\"}},\"type\":\"parcoords\"}],\"pie\":[{\"automargin\":true,\"type\":\"pie\"}],\"scatter\":[{\"marker\":{\"colorbar\":{\"outlinewidth\":0,\"ticks\":\"\"}},\"type\":\"scatter\"}],\"scatter3d\":[{\"line\":{\"colorbar\":{\"outlinewidth\":0,\"ticks\":\"\"}},\"marker\":{\"colorbar\":{\"outlinewidth\":0,\"ticks\":\"\"}},\"type\":\"scatter3d\"}],\"scattercarpet\":[{\"marker\":{\"colorbar\":{\"outlinewidth\":0,\"ticks\":\"\"}},\"type\":\"scattercarpet\"}],\"scattergeo\":[{\"marker\":{\"colorbar\":{\"outlinewidth\":0,\"ticks\":\"\"}},\"type\":\"scattergeo\"}],\"scattergl\":[{\"marker\":{\"colorbar\":{\"outlinewidth\":0,\"ticks\":\"\"}},\"type\":\"scattergl\"}],\"scattermapbox\":[{\"marker\":{\"colorbar\":{\"outlinewidth\":0,\"ticks\":\"\"}},\"type\":\"scattermapbox\"}],\"scatterpolar\":[{\"marker\":{\"colorbar\":{\"outlinewidth\":0,\"ticks\":\"\"}},\"type\":\"scatterpolar\"}],\"scatterpolargl\":[{\"marker\":{\"colorbar\":{\"outlinewidth\":0,\"ticks\":\"\"}},\"type\":\"scatterpolargl\"}],\"scatterternary\":[{\"marker\":{\"colorbar\":{\"outlinewidth\":0,\"ticks\":\"\"}},\"type\":\"scatterternary\"}],\"surface\":[{\"colorbar\":{\"outlinewidth\":0,\"ticks\":\"\"},\"colorscale\":[[0.0,\"#0d0887\"],[0.1111111111111111,\"#46039f\"],[0.2222222222222222,\"#7201a8\"],[0.3333333333333333,\"#9c179e\"],[0.4444444444444444,\"#bd3786\"],[0.5555555555555556,\"#d8576b\"],[0.6666666666666666,\"#ed7953\"],[0.7777777777777778,\"#fb9f3a\"],[0.8888888888888888,\"#fdca26\"],[1.0,\"#f0f921\"]],\"type\":\"surface\"}],\"table\":[{\"cells\":{\"fill\":{\"color\":\"#EBF0F8\"},\"line\":{\"color\":\"white\"}},\"header\":{\"fill\":{\"color\":\"#C8D4E3\"},\"line\":{\"color\":\"white\"}},\"type\":\"table\"}]},\"layout\":{\"annotationdefaults\":{\"arrowcolor\":\"#2a3f5f\",\"arrowhead\":0,\"arrowwidth\":1},\"autotypenumbers\":\"strict\",\"coloraxis\":{\"colorbar\":{\"outlinewidth\":0,\"ticks\":\"\"}},\"colorscale\":{\"diverging\":[[0,\"#8e0152\"],[0.1,\"#c51b7d\"],[0.2,\"#de77ae\"],[0.3,\"#f1b6da\"],[0.4,\"#fde0ef\"],[0.5,\"#f7f7f7\"],[0.6,\"#e6f5d0\"],[0.7,\"#b8e186\"],[0.8,\"#7fbc41\"],[0.9,\"#4d9221\"],[1,\"#276419\"]],\"sequential\":[[0.0,\"#0d0887\"],[0.1111111111111111,\"#46039f\"],[0.2222222222222222,\"#7201a8\"],[0.3333333333333333,\"#9c179e\"],[0.4444444444444444,\"#bd3786\"],[0.5555555555555556,\"#d8576b\"],[0.6666666666666666,\"#ed7953\"],[0.7777777777777778,\"#fb9f3a\"],[0.8888888888888888,\"#fdca26\"],[1.0,\"#f0f921\"]],\"sequentialminus\":[[0.0,\"#0d0887\"],[0.1111111111111111,\"#46039f\"],[0.2222222222222222,\"#7201a8\"],[0.3333333333333333,\"#9c179e\"],[0.4444444444444444,\"#bd3786\"],[0.5555555555555556,\"#d8576b\"],[0.6666666666666666,\"#ed7953\"],[0.7777777777777778,\"#fb9f3a\"],[0.8888888888888888,\"#fdca26\"],[1.0,\"#f0f921\"]]},\"colorway\":[\"#636efa\",\"#EF553B\",\"#00cc96\",\"#ab63fa\",\"#FFA15A\",\"#19d3f3\",\"#FF6692\",\"#B6E880\",\"#FF97FF\",\"#FECB52\"],\"font\":{\"color\":\"#2a3f5f\"},\"geo\":{\"bgcolor\":\"white\",\"lakecolor\":\"white\",\"landcolor\":\"#E5ECF6\",\"showlakes\":true,\"showland\":true,\"subunitcolor\":\"white\"},\"hoverlabel\":{\"align\":\"left\"},\"hovermode\":\"closest\",\"mapbox\":{\"style\":\"light\"},\"paper_bgcolor\":\"white\",\"plot_bgcolor\":\"#E5ECF6\",\"polar\":{\"angularaxis\":{\"gridcolor\":\"white\",\"linecolor\":\"white\",\"ticks\":\"\"},\"bgcolor\":\"#E5ECF6\",\"radialaxis\":{\"gridcolor\":\"white\",\"linecolor\":\"white\",\"ticks\":\"\"}},\"scene\":{\"xaxis\":{\"backgroundcolor\":\"#E5ECF6\",\"gridcolor\":\"white\",\"gridwidth\":2,\"linecolor\":\"white\",\"showbackground\":true,\"ticks\":\"\",\"zerolinecolor\":\"white\"},\"yaxis\":{\"backgroundcolor\":\"#E5ECF6\",\"gridcolor\":\"white\",\"gridwidth\":2,\"linecolor\":\"white\",\"showbackground\":true,\"ticks\":\"\",\"zerolinecolor\":\"white\"},\"zaxis\":{\"backgroundcolor\":\"#E5ECF6\",\"gridcolor\":\"white\",\"gridwidth\":2,\"linecolor\":\"white\",\"showbackground\":true,\"ticks\":\"\",\"zerolinecolor\":\"white\"}},\"shapedefaults\":{\"line\":{\"color\":\"#2a3f5f\"}},\"ternary\":{\"aaxis\":{\"gridcolor\":\"white\",\"linecolor\":\"white\",\"ticks\":\"\"},\"baxis\":{\"gridcolor\":\"white\",\"linecolor\":\"white\",\"ticks\":\"\"},\"bgcolor\":\"#E5ECF6\",\"caxis\":{\"gridcolor\":\"white\",\"linecolor\":\"white\",\"ticks\":\"\"}},\"title\":{\"x\":0.05},\"xaxis\":{\"automargin\":true,\"gridcolor\":\"white\",\"linecolor\":\"white\",\"ticks\":\"\",\"title\":{\"standoff\":15},\"zerolinecolor\":\"white\",\"zerolinewidth\":2},\"yaxis\":{\"automargin\":true,\"gridcolor\":\"white\",\"linecolor\":\"white\",\"ticks\":\"\",\"title\":{\"standoff\":15},\"zerolinecolor\":\"white\",\"zerolinewidth\":2}}},\"xaxis\":{\"anchor\":\"y\",\"domain\":[0.0,1.0],\"title\":{\"text\":\"Proportion Fully Vaccinated\"}},\"yaxis\":{\"anchor\":\"x\",\"domain\":[0.0,1.0],\"title\":{\"text\":\"Proportion of Deaths\"}},\"legend\":{\"title\":{\"text\":\"Political Majority of Area\"},\"tracegroupgap\":0},\"title\":{\"text\":\"Scatter Plot of Proportions of Vaccines vs Proportions of Deaths by County\"}},                        {\"responsive\": true}                    ).then(function(){\n",
       "                            \n",
       "var gd = document.getElementById('673ebe46-8362-46e3-be5f-2e13ed4f14e5');\n",
       "var x = new MutationObserver(function (mutations, observer) {{\n",
       "        var display = window.getComputedStyle(gd).display;\n",
       "        if (!display || display === 'none') {{\n",
       "            console.log([gd, 'removed!']);\n",
       "            Plotly.purge(gd);\n",
       "            observer.disconnect();\n",
       "        }}\n",
       "}});\n",
       "\n",
       "// Listen for the removal of the full notebook cells\n",
       "var notebookContainer = gd.closest('#notebook-container');\n",
       "if (notebookContainer) {{\n",
       "    x.observe(notebookContainer, {childList: true});\n",
       "}}\n",
       "\n",
       "// Listen for the clearing of the current output cell\n",
       "var outputEl = gd.closest('.output');\n",
       "if (outputEl) {{\n",
       "    x.observe(outputEl, {childList: true});\n",
       "}}\n",
       "\n",
       "                        })                };                });            </script>        </div>"
      ]
     },
     "metadata": {},
     "output_type": "display_data"
    }
   ],
   "source": [
    "vax_death_fig = px.scatter(CA_vax_cases, x = \"vax_prop\", y = \"death_prop\",\n",
    "                           color = \"majority\",\n",
    "                           title = \"Scatter Plot of Proportions of Vaccines vs Proportions of Deaths by County\",\n",
    "                           hover_data = [\"county\"],\n",
    "                           labels = {\"vax_prop\" : \"Proportion Fully Vaccinated\",\n",
    "                                     \"death_prop\": \"Proportion of Deaths\",\n",
    "                              \"majority\" : \"Political Majority of Area\"})\n",
    "\n",
    "vax_death_fig.update_traces(hovertemplate='Percent Fully Vaccinated: %{x} <br> Proportion of Deaths %{y} <br> County: %{customdata}')\n",
    "\n",
    "vax_death_fig.show()"
   ]
  },
  {
   "cell_type": "code",
   "execution_count": 13,
   "id": "65d5e7e7",
   "metadata": {},
   "outputs": [],
   "source": [
    "#vax_death_fig.write_html(\"vaccine_vs_death_scatter.html\")"
   ]
  },
  {
   "cell_type": "markdown",
   "id": "d709d46c",
   "metadata": {},
   "source": [
    "# Miscellaneous Data - Zip Code Level"
   ]
  },
  {
   "cell_type": "markdown",
   "id": "776012e2",
   "metadata": {},
   "source": [
    "We decided to not use this data because the variance in data at the zip code level made it hard to decipher, and we could not match the number of deaths by zip code to our other data. We also did not find much information about how vaccine equity metrics were measured, even if it was included in our dataset."
   ]
  },
  {
   "cell_type": "code",
   "execution_count": 14,
   "id": "b71c0143",
   "metadata": {},
   "outputs": [],
   "source": [
    "big_table = pd.read_csv(\"vax_by_zip.csv\")"
   ]
  },
  {
   "cell_type": "code",
   "execution_count": 15,
   "id": "e1c6b073",
   "metadata": {},
   "outputs": [
    {
     "data": {
      "text/plain": [
       "str"
      ]
     },
     "execution_count": 15,
     "metadata": {},
     "output_type": "execute_result"
    }
   ],
   "source": [
    "type(big_table.loc[0,\"as_of_date\"]) # check type in"
   ]
  },
  {
   "cell_type": "code",
   "execution_count": 16,
   "id": "a9681309",
   "metadata": {},
   "outputs": [],
   "source": [
    "big_table[\"as_of_date\"] = pd.to_datetime(big_table[\"as_of_date\"]) #convert to datetime format"
   ]
  },
  {
   "cell_type": "code",
   "execution_count": 17,
   "id": "7c81fcd6",
   "metadata": {},
   "outputs": [
    {
     "data": {
      "text/plain": [
       "Timestamp('2022-02-22 00:00:00')"
      ]
     },
     "execution_count": 17,
     "metadata": {},
     "output_type": "execute_result"
    }
   ],
   "source": [
    "big_table[\"as_of_date\"].max() #find the latest date as of when we acquired the table"
   ]
  },
  {
   "cell_type": "code",
   "execution_count": 18,
   "id": "179a08e5",
   "metadata": {},
   "outputs": [
    {
     "data": {
      "text/html": [
       "<div>\n",
       "<style scoped>\n",
       "    .dataframe tbody tr th:only-of-type {\n",
       "        vertical-align: middle;\n",
       "    }\n",
       "\n",
       "    .dataframe tbody tr th {\n",
       "        vertical-align: top;\n",
       "    }\n",
       "\n",
       "    .dataframe thead th {\n",
       "        text-align: right;\n",
       "    }\n",
       "</style>\n",
       "<table border=\"1\" class=\"dataframe\">\n",
       "  <thead>\n",
       "    <tr style=\"text-align: right;\">\n",
       "      <th></th>\n",
       "      <th>as_of_date</th>\n",
       "      <th>zip_code_tabulation_area</th>\n",
       "      <th>local_health_jurisdiction</th>\n",
       "      <th>county</th>\n",
       "      <th>vaccine_equity_metric_quartile</th>\n",
       "      <th>vem_source</th>\n",
       "      <th>age12_plus_population</th>\n",
       "      <th>age5_plus_population</th>\n",
       "      <th>persons_fully_vaccinated</th>\n",
       "      <th>persons_partially_vaccinated</th>\n",
       "      <th>percent_of_population_fully_vaccinated</th>\n",
       "      <th>percent_of_population_partially_vaccinated</th>\n",
       "      <th>percent_of_population_with_1_plus_dose</th>\n",
       "      <th>booster_recip_count</th>\n",
       "      <th>redacted</th>\n",
       "    </tr>\n",
       "  </thead>\n",
       "  <tbody>\n",
       "    <tr>\n",
       "      <th>104076</th>\n",
       "      <td>2022-02-22</td>\n",
       "      <td>94582</td>\n",
       "      <td>Contra Costa</td>\n",
       "      <td>Contra Costa</td>\n",
       "      <td>4.0</td>\n",
       "      <td>Healthy Places Index Score</td>\n",
       "      <td>34809.5</td>\n",
       "      <td>40433</td>\n",
       "      <td>42744.0</td>\n",
       "      <td>2755.0</td>\n",
       "      <td>1.000000</td>\n",
       "      <td>0.068137</td>\n",
       "      <td>1.000000</td>\n",
       "      <td>27798.0</td>\n",
       "      <td>No</td>\n",
       "    </tr>\n",
       "    <tr>\n",
       "      <th>104077</th>\n",
       "      <td>2022-02-22</td>\n",
       "      <td>92108</td>\n",
       "      <td>San Diego</td>\n",
       "      <td>San Diego</td>\n",
       "      <td>3.0</td>\n",
       "      <td>Healthy Places Index Score</td>\n",
       "      <td>20384.0</td>\n",
       "      <td>21182</td>\n",
       "      <td>18074.0</td>\n",
       "      <td>7012.0</td>\n",
       "      <td>0.853272</td>\n",
       "      <td>0.331036</td>\n",
       "      <td>1.000000</td>\n",
       "      <td>7087.0</td>\n",
       "      <td>No</td>\n",
       "    </tr>\n",
       "    <tr>\n",
       "      <th>104079</th>\n",
       "      <td>2022-02-22</td>\n",
       "      <td>93461</td>\n",
       "      <td>San Luis Obispo</td>\n",
       "      <td>San Luis Obispo</td>\n",
       "      <td>3.0</td>\n",
       "      <td>Healthy Places Index Score</td>\n",
       "      <td>1202.9</td>\n",
       "      <td>1289</td>\n",
       "      <td>731.0</td>\n",
       "      <td>123.0</td>\n",
       "      <td>0.567106</td>\n",
       "      <td>0.095423</td>\n",
       "      <td>0.662529</td>\n",
       "      <td>251.0</td>\n",
       "      <td>No</td>\n",
       "    </tr>\n",
       "    <tr>\n",
       "      <th>104080</th>\n",
       "      <td>2022-02-22</td>\n",
       "      <td>96121</td>\n",
       "      <td>Lassen</td>\n",
       "      <td>Lassen</td>\n",
       "      <td>2.0</td>\n",
       "      <td>CDPH-Derived ZCTA Score</td>\n",
       "      <td>309.0</td>\n",
       "      <td>319</td>\n",
       "      <td>135.0</td>\n",
       "      <td>15.0</td>\n",
       "      <td>0.423197</td>\n",
       "      <td>0.047022</td>\n",
       "      <td>0.470219</td>\n",
       "      <td>62.0</td>\n",
       "      <td>No</td>\n",
       "    </tr>\n",
       "    <tr>\n",
       "      <th>104081</th>\n",
       "      <td>2022-02-22</td>\n",
       "      <td>92277</td>\n",
       "      <td>San Bernardino</td>\n",
       "      <td>San Bernardino</td>\n",
       "      <td>1.0</td>\n",
       "      <td>Healthy Places Index Score</td>\n",
       "      <td>17633.7</td>\n",
       "      <td>20363</td>\n",
       "      <td>7165.0</td>\n",
       "      <td>1149.0</td>\n",
       "      <td>0.351864</td>\n",
       "      <td>0.056426</td>\n",
       "      <td>0.408290</td>\n",
       "      <td>2621.0</td>\n",
       "      <td>No</td>\n",
       "    </tr>\n",
       "  </tbody>\n",
       "</table>\n",
       "</div>"
      ],
      "text/plain": [
       "       as_of_date  zip_code_tabulation_area local_health_jurisdiction  \\\n",
       "104076 2022-02-22                     94582              Contra Costa   \n",
       "104077 2022-02-22                     92108                 San Diego   \n",
       "104079 2022-02-22                     93461           San Luis Obispo   \n",
       "104080 2022-02-22                     96121                    Lassen   \n",
       "104081 2022-02-22                     92277            San Bernardino   \n",
       "\n",
       "                 county  vaccine_equity_metric_quartile  \\\n",
       "104076     Contra Costa                             4.0   \n",
       "104077        San Diego                             3.0   \n",
       "104079  San Luis Obispo                             3.0   \n",
       "104080           Lassen                             2.0   \n",
       "104081   San Bernardino                             1.0   \n",
       "\n",
       "                        vem_source  age12_plus_population  \\\n",
       "104076  Healthy Places Index Score                34809.5   \n",
       "104077  Healthy Places Index Score                20384.0   \n",
       "104079  Healthy Places Index Score                 1202.9   \n",
       "104080     CDPH-Derived ZCTA Score                  309.0   \n",
       "104081  Healthy Places Index Score                17633.7   \n",
       "\n",
       "        age5_plus_population  persons_fully_vaccinated  \\\n",
       "104076                 40433                   42744.0   \n",
       "104077                 21182                   18074.0   \n",
       "104079                  1289                     731.0   \n",
       "104080                   319                     135.0   \n",
       "104081                 20363                    7165.0   \n",
       "\n",
       "        persons_partially_vaccinated  percent_of_population_fully_vaccinated  \\\n",
       "104076                        2755.0                                1.000000   \n",
       "104077                        7012.0                                0.853272   \n",
       "104079                         123.0                                0.567106   \n",
       "104080                          15.0                                0.423197   \n",
       "104081                        1149.0                                0.351864   \n",
       "\n",
       "        percent_of_population_partially_vaccinated  \\\n",
       "104076                                    0.068137   \n",
       "104077                                    0.331036   \n",
       "104079                                    0.095423   \n",
       "104080                                    0.047022   \n",
       "104081                                    0.056426   \n",
       "\n",
       "        percent_of_population_with_1_plus_dose  booster_recip_count redacted  \n",
       "104076                                1.000000              27798.0       No  \n",
       "104077                                1.000000               7087.0       No  \n",
       "104079                                0.662529                251.0       No  \n",
       "104080                                0.470219                 62.0       No  \n",
       "104081                                0.408290               2621.0       No  "
      ]
     },
     "execution_count": 18,
     "metadata": {},
     "output_type": "execute_result"
    }
   ],
   "source": [
    "latest = big_table[big_table[\"as_of_date\"] == \"2022-02-22 00:00:00\"].dropna() #filter out the latest date\n",
    "latest.head()\n",
    "#drop na"
   ]
  },
  {
   "cell_type": "code",
   "execution_count": 19,
   "id": "c80066af",
   "metadata": {
    "scrolled": true
   },
   "outputs": [
    {
     "data": {
      "application/vnd.plotly.v1+json": {
       "config": {
        "plotlyServerURL": "https://plot.ly"
       },
       "data": [
        {
         "alignmentgroup": "True",
         "boxpoints": "all",
         "customdata": [
          [
           94582
          ],
          [
           92679
          ],
          [
           94546
          ],
          [
           94597
          ],
          [
           95254
          ],
          [
           94118
          ],
          [
           94087
          ],
          [
           94306
          ],
          [
           94526
          ],
          [
           95054
          ],
          [
           93546
          ],
          [
           92121
          ],
          [
           95728
          ],
          [
           94110
          ],
          [
           94599
          ],
          [
           94566
          ],
          [
           94552
          ],
          [
           94536
          ],
          [
           94547
          ],
          [
           95816
          ],
          [
           94074
          ],
          [
           92127
          ],
          [
           92037
          ],
          [
           92649
          ],
          [
           92106
          ],
          [
           92688
          ],
          [
           95046
          ],
          [
           90405
          ],
          [
           94957
          ],
          [
           94518
          ],
          [
           90277
          ],
          [
           90025
          ],
          [
           92618
          ],
          [
           95118
          ],
          [
           94116
          ],
          [
           92808
          ],
          [
           92887
          ],
          [
           90245
          ],
          [
           94089
          ],
          [
           94086
          ],
          [
           94508
          ],
          [
           94066
          ],
          [
           94043
          ],
          [
           90742
          ],
          [
           92625
          ],
          [
           94122
          ],
          [
           90254
          ],
          [
           90290
          ],
          [
           90703
          ],
          [
           91915
          ],
          [
           91390
          ],
          [
           90094
          ],
          [
           92007
          ],
          [
           90212
          ],
          [
           94131
          ],
          [
           94530
          ],
          [
           91008
          ],
          [
           90743
          ],
          [
           95409
          ],
          [
           90036
          ],
          [
           90275
          ],
          [
           95651
          ],
          [
           95746
          ],
          [
           92130
          ],
          [
           92126
          ],
          [
           90803
          ],
          [
           90401
          ],
          [
           92064
          ],
          [
           95618
          ],
          [
           91403
          ],
          [
           95672
          ],
          [
           95742
          ],
          [
           95035
          ],
          [
           94538
          ],
          [
           90720
          ],
          [
           90048
          ],
          [
           91436
          ],
          [
           95073
          ],
          [
           95377
          ],
          [
           95148
          ],
          [
           90064
          ],
          [
           90402
          ],
          [
           95442
          ],
          [
           90067
          ],
          [
           90210
          ],
          [
           90274
          ],
          [
           95757
          ],
          [
           90069
          ],
          [
           93621
          ],
          [
           95139
          ],
          [
           95051
          ],
          [
           96145
          ],
          [
           95033
          ],
          [
           95131
          ],
          [
           91759
          ],
          [
           93012
          ],
          [
           95125
          ],
          [
           94513
          ],
          [
           93664
          ],
          [
           91377
          ],
          [
           92610
          ],
          [
           95134
          ],
          [
           94114
          ],
          [
           90293
          ],
          [
           95070
          ],
          [
           95132
          ],
          [
           95113
          ],
          [
           94080
          ],
          [
           95864
          ],
          [
           95018
          ],
          [
           95135
          ],
          [
           94563
          ],
          [
           95124
          ],
          [
           94402
          ],
          [
           94065
          ],
          [
           95765
          ],
          [
           91326
          ],
          [
           95014
          ],
          [
           94304
          ],
          [
           95008
          ],
          [
           94061
          ],
          [
           94062
          ],
          [
           96161
          ],
          [
           95663
          ],
          [
           95065
          ],
          [
           95005
          ],
          [
           95136
          ],
          [
           91737
          ],
          [
           91739
          ],
          [
           95492
          ],
          [
           95405
          ],
          [
           92657
          ],
          [
           95452
          ],
          [
           91360
          ],
          [
           90049
          ],
          [
           95683
          ],
          [
           95630
          ],
          [
           95720
          ],
          [
           95612
          ],
          [
           95032
          ],
          [
           92660
          ],
          [
           94923
          ],
          [
           94568
          ],
          [
           94710
          ],
          [
           94510
          ],
          [
           94305
          ],
          [
           93063
          ],
          [
           94706
          ],
          [
           94583
          ],
          [
           93604
          ],
          [
           94901
          ],
          [
           94947
          ],
          [
           94117
          ],
          [
           94920
          ],
          [
           92694
          ],
          [
           95037
          ],
          [
           94506
          ],
          [
           94924
          ],
          [
           94971
          ],
          [
           94542
          ],
          [
           92835
          ],
          [
           94037
          ],
          [
           94030
          ],
          [
           95120
          ],
          [
           94523
          ],
          [
           94404
          ],
          [
           94550
          ],
          [
           92823
          ],
          [
           93517
          ],
          [
           93111
          ],
          [
           92620
          ],
          [
           95003
          ],
          [
           95123
          ],
          [
           92630
          ],
          [
           90713
          ],
          [
           94586
          ],
          [
           93109
          ],
          [
           95030
          ],
          [
           93962
          ],
          [
           94939
          ],
          [
           95747
          ],
          [
           95722
          ],
          [
           95119
          ],
          [
           90278
          ],
          [
           91362
          ],
          [
           94618
          ],
          [
           94610
          ],
          [
           95006
          ],
          [
           90263
          ],
          [
           93463
          ],
          [
           94598
          ],
          [
           93541
          ],
          [
           94705
          ],
          [
           94703
          ],
          [
           94596
          ],
          [
           93531
          ],
          [
           93065
          ],
          [
           90808
          ],
          [
           93950
          ],
          [
           90403
          ],
          [
           93105
          ],
          [
           94553
          ],
          [
           94041
          ],
          [
           91214
          ],
          [
           91208
          ],
          [
           92606
          ],
          [
           94015
          ],
          [
           91361
          ],
          [
           95138
          ],
          [
           91307
          ],
          [
           92091
          ],
          [
           95129
          ],
          [
           95130
          ],
          [
           95497
          ],
          [
           95537
          ],
          [
           92103
          ],
          [
           94564
          ],
          [
           94965
          ],
          [
           91301
          ],
          [
           90292
          ],
          [
           90505
          ],
          [
           92075
          ],
          [
           94027
          ],
          [
           94973
          ],
          [
           91354
          ],
          [
           94595
          ],
          [
           94946
          ],
          [
           94937
          ],
          [
           90291
          ],
          [
           94555
          ],
          [
           91364
          ],
          [
           90265
          ],
          [
           90272
          ],
          [
           94038
          ],
          [
           91030
          ],
          [
           94574
          ],
          [
           90266
          ],
          [
           91350
          ],
          [
           91320
          ],
          [
           90230
          ],
          [
           90077
          ],
          [
           91711
          ],
          [
           94903
          ],
          [
           93108
          ],
          [
           93908
          ],
          [
           93441
          ],
          [
           93953
          ],
          [
           91107
          ],
          [
           91914
          ],
          [
           94702
          ],
          [
           93923
          ],
          [
           91024
          ],
          [
           93244
          ],
          [
           91604
          ],
          [
           92014
          ],
          [
           93010
          ],
          [
           93460
          ],
          [
           92614
          ],
          [
           92692
          ],
          [
           92656
          ],
          [
           94954
          ],
          [
           90815
          ],
          [
           94904
          ],
          [
           94020
          ],
          [
           91784
          ],
          [
           91381
          ],
          [
           94930
          ],
          [
           91355
          ],
          [
           92009
          ],
          [
           92845
          ],
          [
           92807
          ],
          [
           92782
          ],
          [
           93623
          ],
          [
           92129
          ],
          [
           92128
          ],
          [
           92629
          ],
          [
           93449
          ],
          [
           94158
          ],
          [
           92122
          ],
          [
           92315
          ],
          [
           94963
          ],
          [
           94123
          ],
          [
           94022
          ],
          [
           94611
          ],
          [
           94588
          ],
          [
           92691
          ],
          [
           94060
          ],
          [
           92120
          ],
          [
           94551
          ],
          [
           94528
          ],
          [
           94505
          ],
          [
           92119
          ],
          [
           94534
          ],
          [
           94085
          ],
          [
           91948
          ],
          [
           94707
          ],
          [
           91423
          ],
          [
           91108
          ],
          [
           91105
          ],
          [
           94531
          ],
          [
           94521
          ],
          [
           94021
          ],
          [
           94709
          ],
          [
           93940
          ],
          [
           94025
          ],
          [
           93730
          ],
          [
           93619
          ],
          [
           92024
          ],
          [
           92646
          ],
          [
           93021
          ],
          [
           94040
          ],
          [
           92677
          ],
          [
           92010
          ],
          [
           92886
          ],
          [
           94925
          ],
          [
           93013
          ],
          [
           92662
          ],
          [
           92604
          ],
          [
           91302
          ],
          [
           91011
          ],
          [
           92067
          ],
          [
           95140
          ],
          [
           94005
          ],
          [
           94127
          ],
          [
           94002
          ],
          [
           94941
          ],
          [
           94803
          ],
          [
           92602
          ],
          [
           92673
          ],
          [
           94501
          ],
          [
           95066
          ],
          [
           94556
          ],
          [
           94507
          ],
          [
           94115
          ],
          [
           94107
          ],
          [
           94956
          ],
          [
           94945
          ],
          [
           94549
          ],
          [
           94525
          ],
          [
           94129
          ],
          [
           94960
          ],
          [
           94019
          ],
          [
           94070
          ],
          [
           94949
          ],
          [
           94938
          ],
          [
           94708
          ],
          [
           92011
          ],
          [
           94952
          ],
          [
           95819
          ],
          [
           94970
          ],
          [
           94024
          ],
          [
           94539
          ],
          [
           94502
          ],
          [
           94403
          ],
          [
           94517
          ],
          [
           92676
          ],
          [
           92653
          ],
          [
           94111
          ],
          [
           92663
          ],
          [
           94044
          ],
          [
           94301
          ],
          [
           92651
          ],
          [
           92131
          ],
          [
           92648
          ],
          [
           93432
          ],
          [
           92861
          ],
          [
           94010
          ],
          [
           94028
          ],
          [
           94121
          ],
          [
           94105
          ],
          [
           92603
          ],
          [
           95762
          ],
          [
           91902
          ]
         ],
         "hovertemplate": "Percent Fully Vaccinated: %{y} <br>Zipcode: %{customdata}",
         "jitter": 0.2,
         "legendgroup": "4.0",
         "marker": {
          "color": "#636efa"
         },
         "name": "4.0",
         "notched": false,
         "offsetgroup": "4.0",
         "orientation": "v",
         "showlegend": true,
         "type": "box",
         "x0": " ",
         "xaxis": "x",
         "y": [
          1,
          0.704095,
          0.900288,
          0.888412,
          0.312077,
          0.797886,
          0.942615,
          0.954682,
          0.915,
          0.955384,
          0.767165,
          1,
          1,
          0.901025,
          0.878808,
          0.879865,
          0.915878,
          0.853041,
          0.893913,
          0.883023,
          0.935294,
          0.852539,
          0.963867,
          0.703229,
          0.726675,
          0.727199,
          0.89519,
          0.860991,
          1,
          0.805115,
          0.843923,
          0.767685,
          1,
          0.895396,
          0.886027,
          0.754485,
          0.74925,
          0.950855,
          0.902897,
          0.89423,
          0.462718,
          0.899347,
          0.905006,
          0.95614,
          0.718388,
          0.823125,
          0.846225,
          0.824587,
          0.880983,
          0.838007,
          0.697409,
          0.849312,
          0.751588,
          0.755557,
          0.850743,
          0.960933,
          0.89265,
          1,
          0.840627,
          0.802254,
          0.830879,
          0.866987,
          0.71858,
          0.94697,
          0.751655,
          0.76087,
          1,
          0.731021,
          0.842768,
          0.859332,
          0.539624,
          1,
          0.943219,
          0.883201,
          0.766765,
          0.850119,
          0.862672,
          0.79941,
          0.834316,
          0.893814,
          0.945023,
          0.860226,
          0.731246,
          1,
          0.919865,
          0.897152,
          0.892748,
          0.863112,
          1,
          0.788275,
          0.951297,
          1,
          0.80172,
          0.909538,
          0.857143,
          0.771019,
          0.904017,
          0.828968,
          0.802632,
          0.863409,
          0.634056,
          0.917337,
          0.833288,
          0.745385,
          0.999639,
          0.919558,
          1,
          0.867575,
          0.826311,
          0.885324,
          0.908887,
          0.959674,
          0.874436,
          0.95499,
          0.92885,
          0.789099,
          0.864284,
          0.939414,
          1,
          0.907156,
          0.801945,
          0.8439,
          0.658635,
          0.706366,
          0.793637,
          0.664798,
          0.853807,
          0.677358,
          0.711591,
          0.779653,
          0.873479,
          0.894663,
          1,
          0.75897,
          0.830729,
          0.788013,
          0.761911,
          0.681319,
          0.753539,
          0.965209,
          0.747023,
          1,
          1,
          0.971371,
          0.790767,
          0.555667,
          0.721293,
          0.885444,
          1,
          0.775047,
          0.96253,
          0.851081,
          0.707752,
          0.887464,
          0.862336,
          0.863512,
          0.932002,
          1,
          1,
          0.80484,
          0.837247,
          0.969596,
          0.930781,
          0.944508,
          0.890277,
          0.912772,
          0.828897,
          0.957313,
          0.635368,
          0.890808,
          0.987579,
          0.770347,
          0.867222,
          0.83855,
          0.76748,
          1,
          0.802801,
          0.89283,
          1,
          0.999686,
          0.851945,
          0.624617,
          0.977,
          0.873534,
          0.7969,
          0.890959,
          0.83329,
          0.688043,
          0.229053,
          0.709573,
          0.924923,
          1,
          0.914961,
          0.783032,
          0.923612,
          0.896875,
          0.749775,
          0.789451,
          0.782067,
          0.887514,
          0.750571,
          0.841697,
          0.934712,
          0.830457,
          0.800066,
          0.742043,
          0.831508,
          0.801882,
          0.857744,
          0.789802,
          0.927859,
          0.948548,
          0.84225,
          0.459002,
          0.784861,
          1,
          0.875578,
          0.825266,
          0.775095,
          0.896633,
          0.845951,
          0.825491,
          0.850557,
          1,
          0.825472,
          0.896979,
          0.778287,
          1,
          0.805352,
          0.875924,
          0.796626,
          0.594219,
          0.919982,
          0.762227,
          0.91188,
          0.763937,
          0.876801,
          0.871532,
          0.782562,
          0.835577,
          0.929002,
          0.749073,
          0.92231,
          0.819263,
          0.833164,
          0.959739,
          0.84673,
          0.892758,
          0.925715,
          0.922118,
          0.718242,
          0.844451,
          0.730104,
          0.780942,
          0.849038,
          0.718826,
          0.722908,
          0.882381,
          0.769093,
          0.766432,
          0.845085,
          0.759972,
          0.898496,
          0.6975,
          0.783003,
          0.848179,
          0.865582,
          0.819635,
          0.751499,
          0.752193,
          0.773174,
          1,
          0.561404,
          0.808032,
          0.784394,
          0.684758,
          0.700971,
          1,
          0.815194,
          0.703109,
          1,
          0.768444,
          1,
          0.943573,
          0.874775,
          0.704445,
          1,
          0.799113,
          0.725017,
          1,
          0.655375,
          0.759586,
          0.829181,
          0.929647,
          0.376923,
          1,
          0.779249,
          0.876452,
          0.957375,
          0.836288,
          0.838468,
          0.238748,
          0.736681,
          0.696026,
          0.892194,
          0.791842,
          0.83011,
          0.771665,
          0.73011,
          0.749399,
          0.933611,
          0.742604,
          0.829373,
          0.733229,
          0.954796,
          0.810515,
          0.731748,
          0.808926,
          0.800147,
          0.896895,
          1,
          1,
          0.936297,
          0.882303,
          0.930795,
          0.894159,
          0.864269,
          1,
          0.664294,
          0.881661,
          0.818375,
          0.876659,
          0.911771,
          0.855836,
          0.887021,
          1,
          0.840929,
          0.91292,
          0.778553,
          0.677179,
          0.875058,
          0.678988,
          0.93996,
          0.848951,
          0.600686,
          0.951664,
          0.719577,
          0.771737,
          0.766805,
          0.655572,
          0.953162,
          0.944457,
          0.923533,
          0.904575,
          0.800797,
          0.613717,
          0.784616,
          1,
          0.63098,
          0.862406,
          0.946749,
          0.738691,
          0.914187,
          0.705455,
          0.560311,
          0.731254,
          0.935266,
          0.88119,
          0.856345,
          1,
          0.904916,
          0.859424,
          0.775103
         ],
         "y0": " ",
         "yaxis": "y"
        },
        {
         "alignmentgroup": "True",
         "boxpoints": "all",
         "customdata": [
          [
           92108
          ],
          [
           93461
          ],
          [
           92592
          ],
          [
           94577
          ],
          [
           92008
          ],
          [
           92870
          ],
          [
           95469
          ],
          [
           94515
          ],
          [
           95220
          ],
          [
           92065
          ],
          [
           93711
          ],
          [
           95410
          ],
          [
           96093
          ],
          [
           95835
          ],
          [
           93420
          ],
          [
           95320
          ],
          [
           95236
          ],
          [
           92111
          ],
          [
           96150
          ],
          [
           94519
          ],
          [
           92397
          ],
          [
           95401
          ],
          [
           94585
          ],
          [
           92549
          ],
          [
           94587
          ],
          [
           93455
          ],
          [
           95488
          ],
          [
           91504
          ],
          [
           91387
          ],
          [
           90746
          ],
          [
           95010
          ],
          [
           95311
          ],
          [
           92624
          ],
          [
           91316
          ],
          [
           90732
          ],
          [
           93110
          ],
          [
           92506
          ],
          [
           90035
          ],
          [
           95117
          ],
          [
           94401
          ],
          [
           93626
          ],
          [
           90740
          ],
          [
           96106
          ],
          [
           92382
          ],
          [
           90503
          ],
          [
           95432
          ],
          [
           92708
          ],
          [
           96073
          ],
          [
           91724
          ],
          [
           90717
          ],
          [
           96103
          ],
          [
           90601
          ],
          [
           92210
          ],
          [
           90755
          ],
          [
           93422
          ],
          [
           93667
          ],
          [
           90024
          ],
          [
           95376
          ],
          [
           95465
          ],
          [
           95366
          ],
          [
           90305
          ],
          [
           95831
          ],
          [
           95403
          ],
          [
           95758
          ],
          [
           90745
          ],
          [
           90712
          ],
          [
           95631
          ],
          [
           95658
          ],
          [
           95982
          ],
          [
           95665
          ],
          [
           95023
          ],
          [
           95829
          ],
          [
           95321
          ],
          [
           90034
          ],
          [
           95677
          ],
          [
           95547
          ],
          [
           91745
          ],
          [
           95232
          ],
          [
           95391
          ],
          [
           95616
          ],
          [
           95655
          ],
          [
           90404
          ],
          [
           95697
          ],
          [
           90807
          ],
          [
           95013
          ],
          [
           90240
          ],
          [
           95372
          ],
          [
           90068
          ],
          [
           95425
          ],
          [
           96146
          ],
          [
           90501
          ],
          [
           95421
          ],
          [
           95632
          ],
          [
           90066
          ],
          [
           90638
          ],
          [
           95549
          ],
          [
           90041
          ],
          [
           95460
          ],
          [
           90232
          ],
          [
           95318
          ],
          [
           95448
          ],
          [
           95304
          ],
          [
           90248
          ],
          [
           95219
          ],
          [
           93924
          ],
          [
           95709
          ],
          [
           96114
          ],
          [
           94559
          ],
          [
           91709
          ],
          [
           95133
          ],
          [
           95020
          ],
          [
           92591
          ],
          [
           93921
          ],
          [
           91741
          ],
          [
           95570
          ],
          [
           95620
          ],
          [
           93651
          ],
          [
           95404
          ],
          [
           96129
          ],
          [
           95525
          ],
          [
           94132
          ],
          [
           95420
          ],
          [
           91506
          ],
          [
           95379
          ],
          [
           91356
          ],
          [
           95690
          ],
          [
           91780
          ],
          [
           91325
          ],
          [
           95601
          ],
          [
           96143
          ],
          [
           91740
          ],
          [
           96092
          ],
          [
           95693
          ],
          [
           95726
          ],
          [
           95936
          ],
          [
           96128
          ],
          [
           92563
          ],
          [
           95227
          ],
          [
           96142
          ],
          [
           94112
          ],
          [
           95224
          ],
          [
           93720
          ],
          [
           95949
          ],
          [
           95691
          ],
          [
           95121
          ],
          [
           96140
          ],
          [
           95818
          ],
          [
           95713
          ],
          [
           95062
          ],
          [
           95444
          ],
          [
           91931
          ],
          [
           94580
          ],
          [
           95638
          ],
          [
           91765
          ],
          [
           95640
          ],
          [
           95126
          ],
          [
           95223
          ],
          [
           95450
          ],
          [
           91750
          ],
          [
           95957
          ],
          [
           92056
          ],
          [
           91791
          ],
          [
           95830
          ],
          [
           95060
          ],
          [
           93311
          ],
          [
           92881
          ],
          [
           95642
          ],
          [
           95701
          ],
          [
           95776
          ],
          [
           91941
          ],
          [
           95441
          ],
          [
           95667
          ],
          [
           95436
          ],
          [
           95826
          ],
          [
           95648
          ],
          [
           91789
          ],
          [
           95614
          ],
          [
           95674
          ],
          [
           95346
          ],
          [
           95624
          ],
          [
           95524
          ],
          [
           95472
          ],
          [
           95661
          ],
          [
           95682
          ],
          [
           95662
          ],
          [
           95476
          ],
          [
           91101
          ],
          [
           95973
          ],
          [
           92040
          ],
          [
           95678
          ],
          [
           95688
          ],
          [
           95629
          ],
          [
           95316
          ],
          [
           95669
          ],
          [
           92672
          ],
          [
           93312
          ],
          [
           94579
          ],
          [
           92587
          ],
          [
           92596
          ],
          [
           92880
          ],
          [
           94133
          ],
          [
           90630
          ],
          [
           92661
          ],
          [
           92780
          ],
          [
           93401
          ],
          [
           94134
          ],
          [
           92078
          ],
          [
           90623
          ],
          [
           90620
          ],
          [
           93440
          ],
          [
           93428
          ],
          [
           95017
          ],
          [
           93451
          ],
          [
           95043
          ],
          [
           95242
          ],
          [
           95258
          ],
          [
           93510
          ],
          [
           95050
          ],
          [
           94303
          ],
          [
           94572
          ],
          [
           93427
          ],
          [
           93430
          ],
          [
           93402
          ],
          [
           93446
          ],
          [
           91367
          ],
          [
           93513
          ],
          [
           93442
          ],
          [
           93453
          ],
          [
           94922
          ],
          [
           95628
          ],
          [
           93067
          ],
          [
           93271
          ],
          [
           95975
          ],
          [
           95002
          ],
          [
           94591
          ],
          [
           93514
          ],
          [
           93920
          ],
          [
           93066
          ],
          [
           94931
          ],
          [
           94609
          ],
          [
           93035
          ],
          [
           93444
          ],
          [
           93645
          ],
          [
           95687
          ],
          [
           94608
          ],
          [
           95603
          ],
          [
           95128
          ],
          [
           95602
          ],
          [
           90603
          ],
          [
           93512
          ],
          [
           90045
          ],
          [
           94602
          ],
          [
           90056
          ],
          [
           94558
          ],
          [
           92508
          ],
          [
           92104
          ],
          [
           91206
          ],
          [
           91207
          ],
          [
           91007
          ],
          [
           95470
          ],
          [
           95519
          ],
          [
           95607
          ],
          [
           92883
          ],
          [
           92321
          ],
          [
           94940
          ],
          [
           92584
          ],
          [
           91104
          ],
          [
           92118
          ],
          [
           91351
          ],
          [
           91311
          ],
          [
           91344
          ],
          [
           91202
          ],
          [
           95127
          ],
          [
           90046
          ],
          [
           92333
          ],
          [
           92116
          ],
          [
           90502
          ],
          [
           91775
          ],
          [
           90039
          ],
          [
           92705
          ],
          [
           90211
          ],
          [
           92060
          ],
          [
           91020
          ],
          [
           90504
          ],
          [
           90814
          ],
          [
           91106
          ],
          [
           91701
          ],
          [
           91001
          ],
          [
           91722
          ],
          [
           91773
          ],
          [
           93023
          ],
          [
           93551
          ],
          [
           91913
          ],
          [
           94951
          ],
          [
           91962
          ],
          [
           93117
          ],
          [
           92373
          ],
          [
           91710
          ],
          [
           91304
          ],
          [
           90631
          ],
          [
           94014
          ],
          [
           92865
          ],
          [
           93424
          ],
          [
           92339
          ],
          [
           93465
          ],
          [
           92352
          ],
          [
           93561
          ],
          [
           91942
          ],
          [
           91607
          ],
          [
           91505
          ],
          [
           93103
          ],
          [
           93003
          ],
          [
           93602
          ],
          [
           91602
          ],
          [
           91384
          ],
          [
           91935
          ],
          [
           92647
          ],
          [
           92833
          ],
          [
           93611
          ],
          [
           93426
          ],
          [
           93314
          ],
          [
           94548
          ],
          [
           94503
          ],
          [
           92109
          ],
          [
           94592
          ],
          [
           94561
          ],
          [
           92211
          ],
          [
           92251
          ],
          [
           93628
          ],
          [
           93928
          ],
          [
           94805
          ],
          [
           93601
          ],
          [
           91016
          ],
          [
           92107
          ],
          [
           92675
          ],
          [
           92071
          ],
          [
           92110
          ],
          [
           92260
          ],
          [
           92003
          ],
          [
           92626
          ],
          [
           93004
          ],
          [
           95650
          ],
          [
           92637
          ],
          [
           92867
          ],
          [
           93101
          ],
          [
           91006
          ],
          [
           95918
          ],
          [
           92617
          ],
          [
           92821
          ],
          [
           94109
          ],
          [
           92562
          ],
          [
           95228
          ],
          [
           94928
          ],
          [
           92019
          ],
          [
           94560
          ],
          [
           94619
          ],
          [
           95922
          ],
          [
           94933
          ],
          [
           92117
          ],
          [
           92123
          ],
          [
           94545
          ],
          [
           95935
          ],
          [
           92612
          ],
          [
           92869
          ],
          [
           92203
          ],
          [
           92831
          ],
          [
           95694
          ],
          [
           95843
          ],
          [
           95959
          ],
          [
           92124
          ],
          [
           93405
          ],
          [
           92029
          ],
          [
           95703
          ],
          [
           92253
          ],
          [
           95956
          ],
          [
           92860
          ],
          [
           95983
          ],
          [
           95623
          ],
          [
           95689
          ],
          [
           92082
          ],
          [
           95942
          ],
          [
           92532
          ],
          [
           95664
          ],
          [
           95938
          ],
          [
           95946
          ],
          [
           93545
          ],
          [
           93022
          ],
          [
           91901
          ]
         ],
         "hovertemplate": "Percent Fully Vaccinated: %{y} <br>Zipcode: %{customdata}",
         "jitter": 0.2,
         "legendgroup": "3.0",
         "marker": {
          "color": "#EF553B"
         },
         "name": "3.0",
         "notched": false,
         "offsetgroup": "3.0",
         "orientation": "v",
         "showlegend": true,
         "type": "box",
         "x0": " ",
         "xaxis": "x",
         "y": [
          0.853272,
          0.567106,
          0.559625,
          0.880023,
          0.737653,
          0.735084,
          0.517261,
          0.747422,
          0.53,
          0.551863,
          0.699787,
          0.674089,
          0.613926,
          0.79328,
          0.674358,
          0.551775,
          0.655992,
          0.69863,
          0.475437,
          0.782257,
          0.647101,
          0.757073,
          0.683394,
          1,
          0.837119,
          0.64786,
          0.875862,
          0.752572,
          0.801253,
          0.736967,
          0.894618,
          0.432289,
          0.692048,
          0.734471,
          0.689209,
          0.765258,
          0.670329,
          0.833948,
          0.830784,
          0.882294,
          0.503834,
          0.816601,
          1,
          0.669544,
          0.867311,
          0.444444,
          0.807119,
          0.584995,
          0.74423,
          0.756441,
          0.734443,
          0.750322,
          0.823841,
          0.74882,
          0.593785,
          0.436996,
          0.542532,
          0.666133,
          0.674101,
          0.59656,
          0.694873,
          0.811166,
          0.78361,
          0.785622,
          0.846568,
          0.794867,
          0.450502,
          0.597859,
          0.465776,
          0.591095,
          0.758146,
          0.916818,
          0.64804,
          0.851205,
          0.724014,
          0.724206,
          0.819641,
          0.913043,
          0.963973,
          0.698058,
          0.673096,
          0.781675,
          1,
          0.794159,
          1,
          0.787263,
          0.587602,
          0.841929,
          0.853799,
          0.934743,
          0.811237,
          0.607205,
          0.623293,
          0.773569,
          0.722794,
          0.564103,
          0.760979,
          0.855237,
          0.966451,
          1,
          0.861835,
          0.62153,
          0.744543,
          0.685923,
          0.789298,
          0.466429,
          0.292699,
          0.784373,
          0.765229,
          0.924129,
          0.84179,
          0.611905,
          0.772462,
          0.752407,
          0.810127,
          0.680689,
          0.502652,
          0.761005,
          0.241279,
          0.930505,
          0.69121,
          0.404661,
          0.852504,
          0.395625,
          0.803869,
          0.725676,
          0.87922,
          0.780432,
          1,
          0.636879,
          0.748411,
          0.659639,
          0.660167,
          0.554375,
          1,
          0.223358,
          0.626454,
          0.798742,
          0.586291,
          0.942434,
          1,
          0.73318,
          0.551465,
          0.747996,
          0.940255,
          0.853921,
          0.850162,
          0.394685,
          0.789368,
          1,
          0.368601,
          0.834635,
          0.593051,
          0.863325,
          0.422074,
          0.878308,
          0.919741,
          1,
          0.728282,
          0.426683,
          0.707819,
          0.802024,
          0.786104,
          0.755038,
          0.780862,
          0.607233,
          0.657629,
          0.449604,
          0.93192,
          0.752865,
          1,
          0.60136,
          0.672244,
          0.671771,
          0.71783,
          0.832971,
          0.541287,
          0.606354,
          0.446128,
          0.785673,
          0.904294,
          0.725335,
          0.746807,
          0.633796,
          0.639005,
          0.786717,
          0.801342,
          0.661246,
          0.55093,
          0.69109,
          0.685259,
          0.543617,
          0.493603,
          0.733394,
          0.661955,
          0.579776,
          0.902453,
          0.50388,
          0.54675,
          0.615171,
          0.83646,
          0.802907,
          0.623646,
          0.704355,
          0.802015,
          0.983863,
          0.709896,
          0.822376,
          0.775578,
          0.745455,
          0.772775,
          0.781297,
          0.562485,
          0.415942,
          0.670258,
          0.804115,
          0.541621,
          0.868121,
          0.876125,
          0.735059,
          0.717842,
          0.704595,
          0.676798,
          0.611644,
          0.751671,
          0.597732,
          0.726707,
          0.585034,
          0.310277,
          0.743914,
          1,
          0.516914,
          0.512563,
          0.775806,
          0.773438,
          0.599732,
          0.629959,
          0.709396,
          0.829207,
          0.789455,
          0.692346,
          0.702222,
          0.918919,
          0.584131,
          0.821934,
          0.600603,
          0.814603,
          0.632841,
          0.731151,
          0.379205,
          1,
          0.880686,
          0.87627,
          0.785297,
          0.603669,
          0.783095,
          0.690616,
          0.71764,
          0.844895,
          0.636398,
          0.659059,
          0.439589,
          0.653565,
          0.646884,
          0.487805,
          0.586421,
          0.759989,
          0.695668,
          0.778924,
          0.746736,
          0.775691,
          0.690738,
          0.824231,
          0.737593,
          0.791328,
          0.759606,
          0.825367,
          0.838782,
          0.81035,
          0.736289,
          0.89036,
          0.981928,
          0.719258,
          0.797482,
          0.734194,
          0.809376,
          0.682252,
          0.777197,
          0.797227,
          0.730872,
          0.733571,
          0.732131,
          0.819108,
          0.72495,
          0.479208,
          0.602336,
          0.752644,
          0.58971,
          0.732667,
          0.734542,
          0.815388,
          0.726317,
          1,
          0.547337,
          0.689035,
          0.58202,
          0.441657,
          0.723475,
          0.738698,
          0.874309,
          0.800821,
          0.739731,
          0.449339,
          0.771082,
          0.557767,
          0.681027,
          0.678406,
          0.784526,
          0.66284,
          0.34236,
          0.665867,
          1,
          0.926488,
          0.721954,
          0.929785,
          0.777959,
          0.874505,
          0.717124,
          1,
          0.12178,
          0.915708,
          0.568663,
          0.766423,
          0.660717,
          0.651447,
          0.640394,
          0.697661,
          0.690358,
          0.648969,
          0.703694,
          0.736085,
          0.57982,
          0.952844,
          0.687758,
          0.812923,
          0.856031,
          0.390575,
          0.659225,
          0.806111,
          0.771402,
          0.570351,
          0.548899,
          0.791081,
          0.672672,
          0.88225,
          0.891192,
          0.345865,
          0.968707,
          0.714742,
          0.771741,
          0.894806,
          1,
          0.725569,
          0.748945,
          0.686099,
          0.685043,
          0.663695,
          0.584633,
          0.656158,
          0.608919,
          0.401932,
          0.768342,
          1,
          0.694106,
          0.678899,
          0.470371,
          0.584071,
          0.678984,
          0.48041,
          0.668167,
          0.895075,
          0.627861,
          0.500321,
          0.517385,
          0.667768,
          0.597067,
          0.583787,
          0.542029
         ],
         "y0": " ",
         "yaxis": "y"
        },
        {
         "alignmentgroup": "True",
         "boxpoints": "all",
         "customdata": [
          [
           96121
          ],
          [
           92504
          ],
          [
           96087
          ],
          [
           95569
          ],
          [
           94565
          ],
          [
           92027
          ],
          [
           96088
          ],
          [
           95833
          ],
          [
           95988
          ],
          [
           95446
          ],
          [
           95666
          ],
          [
           92505
          ],
          [
           95369
          ],
          [
           95310
          ],
          [
           91103
          ],
          [
           95811
          ],
          [
           96062
          ],
          [
           92264
          ],
          [
           96014
          ],
          [
           95251
          ],
          [
           95116
          ],
          [
           94607
          ],
          [
           95252
          ],
          [
           93454
          ],
          [
           94541
          ],
          [
           95563
          ],
          [
           92586
          ],
          [
           95076
          ],
          [
           95338
          ],
          [
           96130
          ],
          [
           96069
          ],
          [
           90021
          ],
          [
           92256
          ],
          [
           90710
          ],
          [
           93526
          ],
          [
           96148
          ],
          [
           95122
          ],
          [
           96104
          ],
          [
           96137
          ],
          [
           96091
          ],
          [
           96105
          ],
          [
           90706
          ],
          [
           96032
          ],
          [
           92070
          ],
          [
           90250
          ],
          [
           92843
          ],
          [
           90606
          ],
          [
           90605
          ],
          [
           92036
          ],
          [
           91046
          ],
          [
           96013
          ],
          [
           93669
          ],
          [
           96047
          ],
          [
           95453
          ],
          [
           96022
          ],
          [
           92004
          ],
          [
           92025
          ],
          [
           93933
          ],
          [
           92020
          ],
          [
           95437
          ],
          [
           92806
          ],
          [
           95370
          ],
          [
           96051
          ],
          [
           96006
          ],
          [
           92585
          ],
          [
           96096
          ],
          [
           94108
          ],
          [
           92328
          ],
          [
           95329
          ],
          [
           90302
          ],
          [
           95468
          ],
          [
           95426
          ],
          [
           90010
          ],
          [
           96064
          ],
          [
           95368
          ],
          [
           96107
          ],
          [
           90065
          ],
          [
           90670
          ],
          [
           95461
          ],
          [
           95615
          ],
          [
           90810
          ],
          [
           95303
          ],
          [
           95834
          ],
          [
           95367
          ],
          [
           95361
          ],
          [
           95698
          ],
          [
           96027
          ],
          [
           95699
          ],
          [
           96101
          ],
          [
           95382
          ],
          [
           96009
          ],
          [
           95681
          ],
          [
           91501
          ],
          [
           95822
          ],
          [
           91746
          ],
          [
           93040
          ],
          [
           95459
          ],
          [
           90247
          ],
          [
           91752
          ],
          [
           96097
          ],
          [
           95456
          ],
          [
           95610
          ],
          [
           95075
          ],
          [
           90704
          ],
          [
           96065
          ],
          [
           90241
          ],
          [
           95645
          ],
          [
           95457
          ],
          [
           90019
          ],
          [
           96134
          ],
          [
           96038
          ],
          [
           96067
          ],
          [
           95627
          ],
          [
           96080
          ],
          [
           96035
          ],
          [
           95947
          ],
          [
           95558
          ],
          [
           90660
          ],
          [
           95249
          ],
          [
           95323
          ],
          [
           95327
          ],
          [
           95248
          ],
          [
           92069
          ],
          [
           96126
          ],
          [
           94533
          ],
          [
           95467
          ],
          [
           96094
          ],
          [
           95635
          ],
          [
           95626
          ],
          [
           96034
          ],
          [
           93925
          ],
          [
           96056
          ],
          [
           96025
          ],
          [
           95355
          ],
          [
           95589
          ],
          [
           95007
          ],
          [
           95445
          ],
          [
           96033
          ],
          [
           96003
          ],
          [
           94511
          ],
          [
           95490
          ],
          [
           96055
          ],
          [
           95212
          ],
          [
           95526
          ],
          [
           95112
          ],
          [
           96016
          ],
          [
           95407
          ],
          [
           96020
          ],
          [
           95551
          ],
          [
           91723
          ],
          [
           95222
          ],
          [
           95695
          ],
          [
           94578
          ],
          [
           93907
          ],
          [
           95111
          ],
          [
           95527
          ],
          [
           95449
          ],
          [
           96058
          ],
          [
           96057
          ],
          [
           93536
          ],
          [
           90731
          ],
          [
           96002
          ],
          [
           91945
          ],
          [
           91411
          ],
          [
           91754
          ],
          [
           96021
          ],
          [
           95692
          ],
          [
           96001
          ],
          [
           95439
          ],
          [
           95209
          ],
          [
           96120
          ],
          [
           94520
          ],
          [
           95562
          ],
          [
           91345
          ],
          [
           96124
          ],
          [
           95110
          ],
          [
           95415
          ],
          [
           91792
          ],
          [
           93030
          ],
          [
           96048
          ],
          [
           96028
          ],
          [
           95335
          ],
          [
           95943
          ],
          [
           91776
          ],
          [
           91803
          ],
          [
           95814
          ],
          [
           95560
          ],
          [
           95633
          ],
          [
           92840
          ],
          [
           95659
          ],
          [
           95330
          ],
          [
           95336
          ],
          [
           95482
          ],
          [
           91755
          ],
          [
           95608
          ],
          [
           93555
          ],
          [
           95462
          ],
          [
           93230
          ],
          [
           93265
          ],
          [
           95919
          ],
          [
           95385
          ],
          [
           95503
          ],
          [
           95521
          ],
          [
           95536
          ],
          [
           95619
          ],
          [
           91601
          ],
          [
           91911
          ],
          [
           95825
          ],
          [
           95412
          ],
          [
           95668
          ],
          [
           95501
          ],
          [
           91786
          ],
          [
           95928
          ],
          [
           95670
          ],
          [
           95540
          ],
          [
           95528
          ],
          [
           95306
          ],
          [
           95324
          ],
          [
           91040
          ],
          [
           95451
          ],
          [
           95564
          ],
          [
           95004
          ],
          [
           93238
          ],
          [
           91963
          ],
          [
           93614
          ],
          [
           93221
          ],
          [
           92590
          ],
          [
           94605
          ],
          [
           92081
          ],
          [
           92704
          ],
          [
           94804
          ],
          [
           95012
          ],
          [
           90715
          ],
          [
           90242
          ],
          [
           93631
          ],
          [
           93643
          ],
          [
           95045
          ],
          [
           94589
          ],
          [
           91801
          ],
          [
           93285
          ],
          [
           93445
          ],
          [
           95977
          ],
          [
           93527
          ],
          [
           93225
          ],
          [
           93901
          ],
          [
           90020
          ],
          [
           90260
          ],
          [
           93955
          ],
          [
           94606
          ],
          [
           90604
          ],
          [
           90621
          ],
          [
           91340
          ],
          [
           91010
          ],
          [
           90014
          ],
          [
           94576
          ],
          [
           90026
          ],
          [
           95567
          ],
          [
           93523
          ],
          [
           95514
          ],
          [
           93060
          ],
          [
           90701
          ],
          [
           93553
          ],
          [
           95019
          ],
          [
           95827
          ],
          [
           93243
          ],
          [
           90680
          ],
          [
           92054
          ],
          [
           92536
          ],
          [
           92336
          ],
          [
           92083
          ],
          [
           95641
          ],
          [
           91321
          ],
          [
           95237
          ],
          [
           92582
          ],
          [
           92802
          ],
          [
           95945
          ],
          [
           95969
          ],
          [
           91042
          ],
          [
           92557
          ],
          [
           90042
          ],
          [
           92314
          ],
          [
           92325
          ],
          [
           92084
          ],
          [
           95636
          ],
          [
           92518
          ],
          [
           95954
          ],
          [
           95971
          ],
          [
           90249
          ],
          [
           94571
          ],
          [
           95962
          ],
          [
           95986
          ],
          [
           90650
          ],
          [
           95675
          ],
          [
           91977
          ],
          [
           91790
          ],
          [
           91730
          ],
          [
           95685
          ],
          [
           90027
          ],
          [
           91303
          ],
          [
           91306
          ],
          [
           90602
          ],
          [
           90071
          ],
          [
           93277
          ],
          [
           91702
          ],
          [
           93433
          ],
          [
           92374
          ],
          [
           93603
          ],
          [
           91978
          ],
          [
           91401
          ],
          [
           91343
          ],
          [
           91916
          ],
          [
           94704
          ],
          [
           93436
          ],
          [
           93313
          ],
          [
           93532
          ],
          [
           91342
          ],
          [
           93906
          ],
          [
           93657
          ],
          [
           92503
          ],
          [
           92239
          ],
          [
           95621
          ],
          [
           92841
          ],
          [
           92707
          ],
          [
           92627
          ],
          [
           93710
          ],
          [
           91932
          ],
          [
           91748
          ],
          [
           94063
          ],
          [
           92595
          ],
          [
           92101
          ],
          [
           92320
          ],
          [
           92114
          ],
          [
           93723
          ],
          [
           93636
          ],
          [
           92059
          ],
          [
           94567
          ],
          [
           93653
          ],
          [
           92154
          ],
          [
           93015
          ],
          [
           94806
          ],
          [
           92028
          ],
          [
           91502
          ],
          [
           93452
          ],
          [
           91406
          ],
          [
           93518
          ],
          [
           91335
          ],
          [
           91324
          ],
          [
           91910
          ],
          [
           91761
          ],
          [
           92021
          ],
          [
           92270
          ],
          [
           92683
          ],
          [
           92706
          ],
          [
           92882
          ],
          [
           92115
          ],
          [
           92307
          ],
          [
           93036
          ],
          [
           92313
          ],
          [
           92804
          ],
          [
           92377
          ],
          [
           93222
          ],
          [
           93001
          ],
          [
           92378
          ],
          [
           95204
          ],
          [
           92346
          ],
          [
           92879
          ],
          [
           92354
          ],
          [
           93041
          ],
          [
           95948
          ],
          [
           91201
          ],
          [
           95926
          ],
          [
           95932
          ],
          [
           92344
          ],
          [
           92866
          ],
          [
           94544
          ],
          [
           92223
          ],
          [
           94514
          ],
          [
           94612
          ],
          [
           92139
          ],
          [
           94124
          ],
          [
           94509
          ],
          [
           95225
          ],
          [
           94103
          ],
          [
           95383
          ],
          [
           95917
          ],
          [
           95955
          ],
          [
           95230
          ],
          [
           92057
          ],
          [
           95912
          ],
          [
           92868
          ],
          [
           95987
          ],
          [
           95337
          ],
          [
           95363
          ],
          [
           92801
          ],
          [
           95817
          ],
          [
           92262
          ],
          [
           92268
          ],
          [
           92061
          ],
          [
           92555
          ],
          [
           93644
          ],
          [
           92655
          ],
          [
           92832
          ],
          [
           92561
          ],
          [
           95673
          ],
          [
           92026
          ],
          [
           92399
          ],
          [
           92347
          ],
          [
           92342
          ],
          [
           95714
          ],
          [
           95993
          ],
          [
           92391
          ],
          [
           92337
          ],
          [
           95951
          ],
          [
           95970
          ],
          [
           95356
          ],
          [
           95684
          ],
          [
           95326
          ],
          [
           95960
          ],
          [
           95634
          ],
          [
           92359
          ]
         ],
         "hovertemplate": "Percent Fully Vaccinated: %{y} <br>Zipcode: %{customdata}",
         "jitter": 0.2,
         "legendgroup": "2.0",
         "marker": {
          "color": "#00cc96"
         },
         "name": "2.0",
         "notched": false,
         "offsetgroup": "2.0",
         "orientation": "v",
         "showlegend": true,
         "type": "box",
         "x0": " ",
         "xaxis": "x",
         "y": [
          0.423197,
          0.582929,
          0.678309,
          0.272237,
          0.825743,
          0.653417,
          0.473868,
          0.698922,
          0.571225,
          0.758948,
          0.604437,
          0.594005,
          0.402427,
          0.683099,
          0.796081,
          0.999165,
          0.380488,
          0.817543,
          0.459259,
          0.5392,
          0.782111,
          0.818239,
          0.42166,
          0.707512,
          0.841076,
          0.433083,
          0.736073,
          0.809617,
          0.485714,
          0.295492,
          0.447268,
          1,
          0.590479,
          0.708474,
          0.576471,
          1,
          0.901946,
          0.385,
          0.40928,
          0.491803,
          0.298387,
          0.710034,
          0.380338,
          0.857335,
          0.726065,
          0.789585,
          0.731655,
          0.763292,
          0.740385,
          0.822785,
          0.413903,
          0.5,
          0.379475,
          0.630797,
          0.414212,
          1,
          0.632277,
          0.775503,
          0.684076,
          0.73708,
          0.740929,
          0.531467,
          0.409299,
          0.458667,
          0.650088,
          0.4,
          0.778563,
          0.414118,
          0.462276,
          0.66846,
          0.707993,
          0.682222,
          1,
          0.401342,
          0.648875,
          0.253945,
          0.79021,
          0.776311,
          0.633814,
          0.998459,
          0.732355,
          0.368116,
          0.885332,
          0.61231,
          0.524796,
          1,
          0.418769,
          1,
          0.458973,
          0.607001,
          0.584718,
          0.580734,
          0.719288,
          0.7508,
          0.792773,
          0.87566,
          0.587734,
          0.764142,
          0.677613,
          0.490229,
          0.676435,
          0.57601,
          0.864532,
          0.634735,
          0.576623,
          0.779139,
          0.550201,
          0.598299,
          0.758734,
          0.419537,
          0.406003,
          0.633611,
          0.675271,
          0.47767,
          0.389336,
          0.41202,
          0.684864,
          0.775503,
          0.379265,
          0.413366,
          0.380119,
          1,
          0.693639,
          1,
          0.671586,
          0.583804,
          0.540968,
          0.591128,
          0.519979,
          0.367647,
          0.612565,
          0.489738,
          0.568017,
          0.647099,
          0.717549,
          1,
          0.842661,
          0.353684,
          0.468395,
          0.637488,
          0.678684,
          0.493556,
          0.658495,
          1,
          0.729006,
          0.472155,
          0.774525,
          0.545892,
          0.743223,
          0.746606,
          0.526705,
          0.677955,
          0.775203,
          0.712682,
          0.865933,
          0.34433,
          0.613841,
          0.601852,
          0.546053,
          0.609096,
          0.771325,
          0.490343,
          0.70784,
          0.682817,
          0.93957,
          0.469696,
          0.442467,
          0.514659,
          0.832418,
          0.634847,
          0.51236,
          0.863504,
          0.523672,
          0.822175,
          0.405345,
          0.876647,
          0.898443,
          0.804771,
          0.782229,
          0.534582,
          0.564431,
          1,
          0.487365,
          0.863269,
          0.868099,
          0.559673,
          0.81824,
          0.399848,
          0.784344,
          0.412844,
          0.911522,
          0.642642,
          0.69834,
          0.910705,
          0.693283,
          0.47084,
          0.811439,
          0.534192,
          0.594861,
          0.550978,
          0.494737,
          0.658026,
          0.672818,
          0.651112,
          0.510591,
          0.788058,
          0.926879,
          0.607125,
          0.448101,
          0.561321,
          0.704682,
          0.66834,
          0.615233,
          0.654326,
          0.631119,
          0.370896,
          0.685524,
          0.38844,
          0.719808,
          0.606876,
          0.71466,
          0.732673,
          1,
          0.976125,
          0.541165,
          0.541366,
          0.513458,
          0.808695,
          0.673422,
          0.741011,
          0.919812,
          0.856101,
          0.752928,
          0.752697,
          0.612456,
          0.598177,
          0.687135,
          0.750733,
          0.818868,
          0.519255,
          0.635611,
          0.499254,
          0.620428,
          0.483192,
          0.820987,
          0.811313,
          0.751196,
          0.701738,
          0.837334,
          0.680654,
          0.773037,
          0.755781,
          0.790869,
          0.774733,
          1,
          0.724242,
          0.485286,
          0.256812,
          0.952381,
          0.739923,
          0.815691,
          0.552311,
          0.845373,
          0.642984,
          0.42876,
          0.753167,
          0.609702,
          0.548133,
          0.707041,
          0.665188,
          0.871847,
          0.727938,
          0.574182,
          0.68014,
          0.742365,
          0.609186,
          0.214063,
          0.688668,
          0.623599,
          0.73759,
          0.367454,
          0.654068,
          0.62613,
          0.341423,
          0.710497,
          0.343094,
          0.578984,
          0.799895,
          0.699505,
          0.682886,
          1,
          0.754137,
          0.300917,
          0.644756,
          0.796253,
          0.639022,
          0.650939,
          0.801617,
          0.713675,
          0.762996,
          0.714094,
          1,
          0.582574,
          0.700155,
          0.635784,
          0.637691,
          0.411429,
          0.672462,
          0.704779,
          0.716181,
          0.543598,
          0.468523,
          0.639894,
          0.685829,
          0.498454,
          0.771645,
          0.745754,
          0.696845,
          0.627004,
          0.599119,
          0.607568,
          0.812157,
          0.716063,
          0.653362,
          0.555182,
          0.674077,
          0.834394,
          0.85604,
          0.546764,
          0.854156,
          0.672442,
          0.720471,
          0.630455,
          0.672378,
          0.660832,
          0.616352,
          0.346505,
          0.930602,
          0.737586,
          0.838204,
          0.654705,
          0.798505,
          0.652015,
          0.739326,
          0.508685,
          0.742124,
          0.792976,
          0.926276,
          0.670758,
          0.607628,
          0.857231,
          0.82548,
          0.803079,
          0.616645,
          0.669851,
          0.522534,
          0.713962,
          0.649785,
          0.706746,
          0.670442,
          0.704068,
          0.737226,
          1,
          0.620844,
          0.56181,
          0.646079,
          0.74778,
          0.622054,
          0.580692,
          0.647252,
          0.599565,
          0.627861,
          0.490331,
          0.670872,
          0.837581,
          0.656962,
          0.583691,
          0.969428,
          0.747015,
          1,
          0.744067,
          0.897019,
          0.976807,
          0.71242,
          0.412065,
          0.49689,
          0.432763,
          0.617633,
          0.594465,
          0.65593,
          0.664342,
          0.759953,
          0.68484,
          0.677031,
          0.719246,
          0.779391,
          0.76044,
          0.810788,
          0.632027,
          0.527537,
          0.84726,
          0.74181,
          0.553571,
          0.506762,
          0.69209,
          0.565218,
          0.365777,
          0.452993,
          0.432485,
          0.686756,
          0.53818,
          0.630879,
          0.640147,
          0.448445,
          0.675369,
          0.460374,
          0.592458,
          0.928025,
          0.404996,
          0.520705
         ],
         "y0": " ",
         "yaxis": "y"
        },
        {
         "alignmentgroup": "True",
         "boxpoints": "all",
         "customdata": [
          [
           92277
          ],
          [
           93618
          ],
          [
           95556
          ],
          [
           95388
          ],
          [
           95386
          ],
          [
           92335
          ],
          [
           92701
          ],
          [
           92401
          ],
          [
           93635
          ],
          [
           93501
          ],
          [
           92363
          ],
          [
           93640
          ],
          [
           93458
          ],
          [
           93304
          ],
          [
           95357
          ],
          [
           95317
          ],
          [
           93552
          ],
          [
           95206
          ],
          [
           92509
          ],
          [
           95427
          ],
          [
           95345
          ],
          [
           95914
          ],
          [
           93274
          ],
          [
           95963
          ],
          [
           93261
          ],
          [
           90716
          ],
          [
           93212
          ],
          [
           96010
          ],
          [
           92539
          ],
          [
           95428
          ],
          [
           90018
          ],
          [
           90744
          ],
          [
           93306
          ],
          [
           93270
          ],
          [
           93252
          ],
          [
           95360
          ],
          [
           93728
          ],
          [
           93673
          ],
          [
           96041
          ],
          [
           90063
          ],
          [
           92301
          ],
          [
           93930
          ],
          [
           93263
          ],
          [
           90031
          ],
          [
           92543
          ],
          [
           96084
          ],
          [
           93660
          ],
          [
           90029
          ],
          [
           90201
          ],
          [
           93591
          ],
          [
           92356
          ],
          [
           93291
          ],
          [
           96052
          ],
          [
           92227
          ],
          [
           93646
          ],
          [
           92283
          ],
          [
           96109
          ],
          [
           90059
          ],
          [
           93218
          ],
          [
           92411
          ],
          [
           96113
          ],
          [
           96007
          ],
          [
           96090
          ],
          [
           96019
          ],
          [
           96039
          ],
          [
           96011
          ],
          [
           92282
          ],
          [
           94590
          ],
          [
           93505
          ],
          [
           92327
          ],
          [
           95573
          ],
          [
           92372
          ],
          [
           92392
          ],
          [
           92276
          ],
          [
           95354
          ],
          [
           92241
          ],
          [
           92371
          ],
          [
           96059
          ],
          [
           90280
          ],
          [
           95358
          ],
          [
           92408
          ],
          [
           95568
          ],
          [
           95245
          ],
          [
           90813
          ],
          [
           95542
          ],
          [
           90016
          ],
          [
           95494
          ],
          [
           95240
          ],
          [
           95348
          ],
          [
           95543
          ],
          [
           93627
          ],
          [
           90013
          ],
          [
           90270
          ],
          [
           95435
          ],
          [
           90001
          ],
          [
           90012
          ],
          [
           95968
          ],
          [
           95585
          ],
          [
           95374
          ],
          [
           95625
          ],
          [
           95961
          ],
          [
           90028
          ],
          [
           95319
          ],
          [
           90221
          ],
          [
           95341
          ],
          [
           92086
          ],
          [
           95565
          ],
          [
           91768
          ],
          [
           90008
          ],
          [
           95815
          ],
          [
           93612
          ],
          [
           90804
          ],
          [
           90057
          ],
          [
           90723
          ],
          [
           95545
          ],
          [
           90061
          ],
          [
           90806
          ],
          [
           95653
          ],
          [
           96044
          ],
          [
           95351
          ],
          [
           90022
          ],
          [
           90037
          ],
          [
           95458
          ],
          [
           95554
          ],
          [
           95821
          ],
          [
           90301
          ],
          [
           95605
          ],
          [
           95387
          ],
          [
           95553
          ],
          [
           96086
          ],
          [
           96118
          ],
          [
           92236
          ],
          [
           95423
          ],
          [
           90017
          ],
          [
           95422
          ],
          [
           95322
          ],
          [
           91402
          ],
          [
           95215
          ],
          [
           95207
          ],
          [
           93609
          ],
          [
           96050
          ],
          [
           96122
          ],
          [
           95555
          ],
          [
           95039
          ],
          [
           95313
          ],
          [
           95548
          ],
          [
           95660
          ],
          [
           95546
          ],
          [
           95511
          ],
          [
           91731
          ],
          [
           95333
          ],
          [
           95202
          ],
          [
           95340
          ],
          [
           92386
          ],
          [
           95312
          ],
          [
           93616
          ],
          [
           95466
          ],
          [
           95464
          ],
          [
           96024
          ],
          [
           95838
          ],
          [
           93638
          ],
          [
           96023
          ],
          [
           91744
          ],
          [
           93701
          ],
          [
           95454
          ],
          [
           93608
          ],
          [
           91763
          ],
          [
           91733
          ],
          [
           93307
          ],
          [
           95686
          ],
          [
           96049
          ],
          [
           93267
          ],
          [
           93560
          ],
          [
           91917
          ],
          [
           91605
          ],
          [
           91762
          ],
          [
           95639
          ],
          [
           92310
          ],
          [
           95823
          ],
          [
           91770
          ],
          [
           95842
          ],
          [
           95828
          ],
          [
           95380
          ],
          [
           95920
          ],
          [
           95637
          ],
          [
           95606
          ],
          [
           95307
          ],
          [
           91606
          ],
          [
           93535
          ],
          [
           93543
          ],
          [
           95559
          ],
          [
           93201
          ],
          [
           90032
          ],
          [
           90043
          ],
          [
           90006
          ],
          [
           91766
          ],
          [
           95925
          ],
          [
           95350
          ],
          [
           91732
          ],
          [
           95205
          ],
          [
           95552
          ],
          [
           95365
          ],
          [
           95485
          ],
          [
           95901
          ],
          [
           91352
          ],
          [
           91767
          ],
          [
           95531
          ],
          [
           95257
          ],
          [
           94601
          ],
          [
           94621
          ],
          [
           94801
          ],
          [
           93625
          ],
          [
           93266
          ],
          [
           93727
          ],
          [
           93254
          ],
          [
           93205
          ],
          [
           93308
          ],
          [
           95979
          ],
          [
           92173
          ],
          [
           95991
          ],
          [
           93544
          ],
          [
           93309
          ],
          [
           93251
          ],
          [
           93286
          ],
          [
           93240
          ],
          [
           93224
          ],
          [
           93272
          ],
          [
           93630
          ],
          [
           93204
          ],
          [
           93434
          ],
          [
           93926
          ],
          [
           93637
          ],
          [
           95820
          ],
          [
           93562
          ],
          [
           93257
          ],
          [
           90007
          ],
          [
           90023
          ],
          [
           90033
          ],
          [
           93301
          ],
          [
           93675
          ],
          [
           95916
          ],
          [
           93250
          ],
          [
           93927
          ],
          [
           90004
          ],
          [
           90805
          ],
          [
           93256
          ],
          [
           91203
          ],
          [
           90003
          ],
          [
           93268
          ],
          [
           90304
          ],
          [
           90011
          ],
          [
           93954
          ],
          [
           93239
          ],
          [
           90255
          ],
          [
           90038
          ],
          [
           90802
          ],
          [
           93203
          ],
          [
           93615
          ],
          [
           93722
          ],
          [
           93534
          ],
          [
           93516
          ],
          [
           93622
          ],
          [
           93620
          ],
          [
           93241
          ],
          [
           93255
          ],
          [
           93219
          ],
          [
           93280
          ],
          [
           90005
          ],
          [
           93650
          ],
          [
           93210
          ],
          [
           95903
          ],
          [
           93721
          ],
          [
           93666
          ],
          [
           93215
          ],
          [
           90262
          ],
          [
           90044
          ],
          [
           90040
          ],
          [
           95255
          ],
          [
           92571
          ],
          [
           95203
          ],
          [
           92398
          ],
          [
           95832
          ],
          [
           92113
          ],
          [
           91764
          ],
          [
           95301
          ],
          [
           95210
          ],
          [
           90047
          ],
          [
           90640
          ],
          [
           90220
          ],
          [
           90002
          ],
          [
           90222
          ],
          [
           93960
          ],
          [
           90058
          ],
          [
           92066
          ],
          [
           92501
          ],
          [
           90303
          ],
          [
           91205
          ],
          [
           90015
          ],
          [
           92365
          ],
          [
           90062
          ],
          [
           91905
          ],
          [
           91331
          ],
          [
           91906
          ],
          [
           91950
          ],
          [
           91934
          ],
          [
           93550
          ],
          [
           93610
          ],
          [
           91204
          ],
          [
           93668
          ],
          [
           93305
          ],
          [
           93606
          ],
          [
           93648
          ],
          [
           93932
          ],
          [
           91706
          ],
          [
           92309
          ],
          [
           92259
          ],
          [
           92258
          ],
          [
           93654
          ],
          [
           93656
          ],
          [
           93702
          ],
          [
           92231
          ],
          [
           93662
          ],
          [
           93665
          ],
          [
           93706
          ],
          [
           93450
          ],
          [
           92368
          ],
          [
           93905
          ],
          [
           91405
          ],
          [
           93703
          ],
          [
           92252
          ],
          [
           92583
          ],
          [
           92274
          ],
          [
           92233
          ],
          [
           92257
          ],
          [
           92308
          ],
          [
           92201
          ],
          [
           93033
          ],
          [
           92249
          ],
          [
           92105
          ],
          [
           93258
          ],
          [
           93245
          ],
          [
           92242
          ],
          [
           92530
          ],
          [
           93647
          ],
          [
           93235
          ],
          [
           93292
          ],
          [
           93652
          ],
          [
           93704
          ],
          [
           93705
          ],
          [
           93725
          ],
          [
           93624
          ],
          [
           94535
          ],
          [
           92243
          ],
          [
           92220
          ],
          [
           93283
          ],
          [
           93247
          ],
          [
           92395
          ],
          [
           95950
          ],
          [
           92376
          ],
          [
           95334
          ],
          [
           92316
          ],
          [
           92254
          ],
          [
           95824
          ],
          [
           92545
          ],
          [
           95246
          ],
          [
           93242
          ],
          [
           92250
          ],
          [
           92345
          ],
          [
           95953
          ],
          [
           92405
          ],
          [
           94130
          ],
          [
           92805
          ],
          [
           95315
          ],
          [
           94603
          ],
          [
           92058
          ],
          [
           95231
          ],
          [
           92234
          ],
          [
           92284
          ],
          [
           92225
          ],
          [
           93202
          ],
          [
           93223
          ],
          [
           92703
          ],
          [
           92407
          ],
          [
           92404
          ],
          [
           92311
          ],
          [
           92281
          ],
          [
           93726
          ],
          [
           92844
          ],
          [
           92285
          ],
          [
           92275
          ],
          [
           92544
          ],
          [
           92570
          ],
          [
           92507
          ],
          [
           92324
          ],
          [
           92240
          ],
          [
           93249
          ],
          [
           93206
          ],
          [
           95965
          ],
          [
           95966
          ],
          [
           95328
          ],
          [
           92551
          ],
          [
           92548
          ],
          [
           94102
          ],
          [
           92230
          ],
          [
           92102
          ],
          [
           92358
          ],
          [
           95937
          ],
          [
           92273
          ],
          [
           92410
          ],
          [
           92567
          ],
          [
           95939
          ],
          [
           92394
          ],
          [
           92553
          ],
          [
           95247
          ],
          [
           95841
          ],
          [
           93234
          ]
         ],
         "hovertemplate": "Percent Fully Vaccinated: %{y} <br>Zipcode: %{customdata}",
         "jitter": 0.2,
         "legendgroup": "1.0",
         "marker": {
          "color": "#ab63fa"
         },
         "name": "1.0",
         "notched": false,
         "offsetgroup": "1.0",
         "orientation": "v",
         "showlegend": true,
         "type": "box",
         "x0": " ",
         "xaxis": "x",
         "y": [
          0.351864,
          0.622114,
          0.472119,
          0.490246,
          0.476516,
          0.607226,
          0.637779,
          0.444709,
          0.70545,
          0.465886,
          0.233908,
          0.757263,
          0.696604,
          0.583275,
          0.65533,
          0.351174,
          0.721311,
          0.667395,
          0.60523,
          1,
          0.397959,
          0.5,
          0.547877,
          0.577117,
          0.683238,
          0.708195,
          0.335234,
          0.540984,
          0.358206,
          0.574009,
          0.697141,
          0.672801,
          0.610395,
          0.64007,
          0.224576,
          0.584099,
          0.598712,
          0.590071,
          0.420274,
          0.74697,
          0.499793,
          0.732784,
          0.577065,
          0.749251,
          0.531661,
          0.470472,
          0.743922,
          0.732835,
          0.703957,
          0.585746,
          0.366584,
          0.590224,
          0.445106,
          0.710154,
          0.558517,
          0.246867,
          0.244558,
          0.625685,
          0.6325,
          0.600928,
          0.096843,
          0.45641,
          0.446121,
          0.447218,
          0.384342,
          0.411168,
          0.472686,
          0.729243,
          0.392721,
          0.252322,
          0.705526,
          0.399788,
          0.577886,
          0.85076,
          0.585152,
          0.673308,
          0.352318,
          0.463654,
          0.760282,
          0.552745,
          0.593323,
          0.277778,
          0.603067,
          0.631942,
          0.666667,
          0.777938,
          1,
          0.593603,
          0.536649,
          0.513709,
          0.688259,
          0.771405,
          0.709196,
          0.712375,
          0.785786,
          0.866601,
          0.688797,
          0.569378,
          0.409866,
          1,
          0.570761,
          0.812554,
          0.670388,
          0.698803,
          0.451312,
          0.490617,
          0.60114,
          0.627136,
          0.676455,
          0.594252,
          0.612773,
          0.686749,
          0.627028,
          0.70676,
          0.872881,
          0.689214,
          0.729133,
          0.683305,
          0.382227,
          0.589604,
          0.7594,
          0.663602,
          0.509461,
          0.487342,
          0.693106,
          0.701789,
          0.613989,
          0.924528,
          0.625171,
          0.369963,
          0.427628,
          0.671575,
          0.538084,
          0.745344,
          0.495988,
          0.515183,
          0.73259,
          0.558833,
          0.554799,
          0.719364,
          0.430851,
          0.658696,
          0.442543,
          1,
          0.52278,
          0.494552,
          0.504928,
          0.433301,
          0.354962,
          0.744864,
          0.558149,
          0.53815,
          0.606894,
          0.471039,
          0.690678,
          0.616846,
          1,
          0.51542,
          0.497531,
          0.642246,
          0.607106,
          0.244109,
          0.741246,
          0.637967,
          0.840394,
          0.65636,
          0.672464,
          0.737541,
          0.576899,
          0.505111,
          1,
          0.458661,
          0.491898,
          1,
          0.71927,
          0.68214,
          0.591045,
          0.046038,
          0.709818,
          0.855141,
          0.537304,
          0.786895,
          0.55622,
          0.434783,
          0.802239,
          0.662651,
          0.587602,
          0.697526,
          0.621227,
          0.604431,
          1,
          0.441764,
          0.716113,
          0.700723,
          0.741046,
          0.684851,
          0.35,
          0.615223,
          0.74178,
          0.614304,
          0.215657,
          0.584259,
          0.534874,
          0.537934,
          0.723352,
          0.718284,
          0.464241,
          0.569554,
          0.853996,
          0.781783,
          0.897934,
          0.730494,
          0.627702,
          0.644136,
          0.594477,
          0.433505,
          0.482436,
          0.517677,
          1,
          0.610193,
          0.487973,
          0.582634,
          0.60733,
          0.594814,
          0.469874,
          0.291572,
          0.382284,
          0.690674,
          0.492809,
          0.770824,
          0.854743,
          0.622867,
          0.681885,
          0.296163,
          0.603328,
          0.82696,
          0.761634,
          0.782595,
          0.638239,
          0.414999,
          0.259623,
          0.54511,
          0.782676,
          0.792719,
          0.675993,
          0.53277,
          0.727198,
          0.682442,
          0.360129,
          0.780302,
          0.637416,
          0.358333,
          0.733333,
          0.718402,
          0.73744,
          0.740038,
          0.594118,
          0.49957,
          0.672978,
          0.617251,
          0.314705,
          0.636965,
          0.574238,
          0.588476,
          0.325615,
          0.593704,
          0.483482,
          0.747076,
          0.781843,
          0.403493,
          0.352941,
          0.490102,
          0.49866,
          0.598583,
          0.700358,
          0.628996,
          0.892488,
          0.671104,
          0.608181,
          0.595323,
          0.22085,
          0.719723,
          0.66585,
          0.618854,
          0.54303,
          0.570167,
          0.683063,
          0.767385,
          0.647328,
          0.684421,
          0.653623,
          0.537248,
          1,
          0.264234,
          0.754766,
          0.749813,
          0.640754,
          0.840675,
          0.314136,
          0.663425,
          0.525844,
          0.733818,
          0.486188,
          0.739307,
          1,
          0.661062,
          0.405096,
          0.621929,
          0.517098,
          0.514532,
          0.881427,
          0.648729,
          0.383929,
          0.778242,
          0.588595,
          1,
          0.869245,
          0.700805,
          0.658712,
          0.629803,
          1,
          0.673378,
          0.404727,
          0.57333,
          0.479199,
          0.371166,
          0.876456,
          0.674371,
          0.602421,
          0.474107,
          0.527794,
          0.834318,
          0.306012,
          0.877358,
          0.49529,
          0.687169,
          0.73828,
          0.835884,
          0.672964,
          0.937731,
          0.450762,
          0.098055,
          0.573081,
          0.587636,
          0.565143,
          0.587731,
          0.619718,
          0.617812,
          0.600689,
          0.629572,
          0.609125,
          0.240154,
          0.849555,
          0.585258,
          0.373471,
          0.534138,
          0.508046,
          1,
          0.612642,
          0.615556,
          0.690684,
          0.98197,
          0.720129,
          0.592386,
          0.740512,
          0.486789,
          0.762148,
          0.524987,
          0.645585,
          0.537123,
          0.552791,
          0.727845,
          0.476797,
          0.814596,
          0.387832,
          0.464689,
          0.721886,
          0.488556,
          0.306179,
          0.460481,
          0.542736,
          0.780468,
          0.54181,
          0.532901,
          0.411153,
          0.54359,
          0.585891,
          0.838959,
          0.437422,
          0.167335,
          0.483953,
          0.518961,
          0.621161,
          0.590616,
          0.689723,
          1,
          0.704142,
          0.468336,
          0.49228,
          0.536961,
          0.594566,
          0.462666,
          0.985962,
          0.420032,
          0.763361,
          0.621884,
          0.691528,
          0.652864,
          0.597502,
          0.498492,
          0.240484,
          0.558086,
          0.590135,
          0.767647,
          0.551909,
          0.615007
         ],
         "y0": " ",
         "yaxis": "y"
        }
       ],
       "layout": {
        "boxmode": "group",
        "legend": {
         "title": {
          "text": "Vaccine Equity Metric Quartiles"
         },
         "tracegroupgap": 0
        },
        "template": {
         "data": {
          "bar": [
           {
            "error_x": {
             "color": "#2a3f5f"
            },
            "error_y": {
             "color": "#2a3f5f"
            },
            "marker": {
             "line": {
              "color": "#E5ECF6",
              "width": 0.5
             },
             "pattern": {
              "fillmode": "overlay",
              "size": 10,
              "solidity": 0.2
             }
            },
            "type": "bar"
           }
          ],
          "barpolar": [
           {
            "marker": {
             "line": {
              "color": "#E5ECF6",
              "width": 0.5
             },
             "pattern": {
              "fillmode": "overlay",
              "size": 10,
              "solidity": 0.2
             }
            },
            "type": "barpolar"
           }
          ],
          "carpet": [
           {
            "aaxis": {
             "endlinecolor": "#2a3f5f",
             "gridcolor": "white",
             "linecolor": "white",
             "minorgridcolor": "white",
             "startlinecolor": "#2a3f5f"
            },
            "baxis": {
             "endlinecolor": "#2a3f5f",
             "gridcolor": "white",
             "linecolor": "white",
             "minorgridcolor": "white",
             "startlinecolor": "#2a3f5f"
            },
            "type": "carpet"
           }
          ],
          "choropleth": [
           {
            "colorbar": {
             "outlinewidth": 0,
             "ticks": ""
            },
            "type": "choropleth"
           }
          ],
          "contour": [
           {
            "colorbar": {
             "outlinewidth": 0,
             "ticks": ""
            },
            "colorscale": [
             [
              0,
              "#0d0887"
             ],
             [
              0.1111111111111111,
              "#46039f"
             ],
             [
              0.2222222222222222,
              "#7201a8"
             ],
             [
              0.3333333333333333,
              "#9c179e"
             ],
             [
              0.4444444444444444,
              "#bd3786"
             ],
             [
              0.5555555555555556,
              "#d8576b"
             ],
             [
              0.6666666666666666,
              "#ed7953"
             ],
             [
              0.7777777777777778,
              "#fb9f3a"
             ],
             [
              0.8888888888888888,
              "#fdca26"
             ],
             [
              1,
              "#f0f921"
             ]
            ],
            "type": "contour"
           }
          ],
          "contourcarpet": [
           {
            "colorbar": {
             "outlinewidth": 0,
             "ticks": ""
            },
            "type": "contourcarpet"
           }
          ],
          "heatmap": [
           {
            "colorbar": {
             "outlinewidth": 0,
             "ticks": ""
            },
            "colorscale": [
             [
              0,
              "#0d0887"
             ],
             [
              0.1111111111111111,
              "#46039f"
             ],
             [
              0.2222222222222222,
              "#7201a8"
             ],
             [
              0.3333333333333333,
              "#9c179e"
             ],
             [
              0.4444444444444444,
              "#bd3786"
             ],
             [
              0.5555555555555556,
              "#d8576b"
             ],
             [
              0.6666666666666666,
              "#ed7953"
             ],
             [
              0.7777777777777778,
              "#fb9f3a"
             ],
             [
              0.8888888888888888,
              "#fdca26"
             ],
             [
              1,
              "#f0f921"
             ]
            ],
            "type": "heatmap"
           }
          ],
          "heatmapgl": [
           {
            "colorbar": {
             "outlinewidth": 0,
             "ticks": ""
            },
            "colorscale": [
             [
              0,
              "#0d0887"
             ],
             [
              0.1111111111111111,
              "#46039f"
             ],
             [
              0.2222222222222222,
              "#7201a8"
             ],
             [
              0.3333333333333333,
              "#9c179e"
             ],
             [
              0.4444444444444444,
              "#bd3786"
             ],
             [
              0.5555555555555556,
              "#d8576b"
             ],
             [
              0.6666666666666666,
              "#ed7953"
             ],
             [
              0.7777777777777778,
              "#fb9f3a"
             ],
             [
              0.8888888888888888,
              "#fdca26"
             ],
             [
              1,
              "#f0f921"
             ]
            ],
            "type": "heatmapgl"
           }
          ],
          "histogram": [
           {
            "marker": {
             "pattern": {
              "fillmode": "overlay",
              "size": 10,
              "solidity": 0.2
             }
            },
            "type": "histogram"
           }
          ],
          "histogram2d": [
           {
            "colorbar": {
             "outlinewidth": 0,
             "ticks": ""
            },
            "colorscale": [
             [
              0,
              "#0d0887"
             ],
             [
              0.1111111111111111,
              "#46039f"
             ],
             [
              0.2222222222222222,
              "#7201a8"
             ],
             [
              0.3333333333333333,
              "#9c179e"
             ],
             [
              0.4444444444444444,
              "#bd3786"
             ],
             [
              0.5555555555555556,
              "#d8576b"
             ],
             [
              0.6666666666666666,
              "#ed7953"
             ],
             [
              0.7777777777777778,
              "#fb9f3a"
             ],
             [
              0.8888888888888888,
              "#fdca26"
             ],
             [
              1,
              "#f0f921"
             ]
            ],
            "type": "histogram2d"
           }
          ],
          "histogram2dcontour": [
           {
            "colorbar": {
             "outlinewidth": 0,
             "ticks": ""
            },
            "colorscale": [
             [
              0,
              "#0d0887"
             ],
             [
              0.1111111111111111,
              "#46039f"
             ],
             [
              0.2222222222222222,
              "#7201a8"
             ],
             [
              0.3333333333333333,
              "#9c179e"
             ],
             [
              0.4444444444444444,
              "#bd3786"
             ],
             [
              0.5555555555555556,
              "#d8576b"
             ],
             [
              0.6666666666666666,
              "#ed7953"
             ],
             [
              0.7777777777777778,
              "#fb9f3a"
             ],
             [
              0.8888888888888888,
              "#fdca26"
             ],
             [
              1,
              "#f0f921"
             ]
            ],
            "type": "histogram2dcontour"
           }
          ],
          "mesh3d": [
           {
            "colorbar": {
             "outlinewidth": 0,
             "ticks": ""
            },
            "type": "mesh3d"
           }
          ],
          "parcoords": [
           {
            "line": {
             "colorbar": {
              "outlinewidth": 0,
              "ticks": ""
             }
            },
            "type": "parcoords"
           }
          ],
          "pie": [
           {
            "automargin": true,
            "type": "pie"
           }
          ],
          "scatter": [
           {
            "marker": {
             "colorbar": {
              "outlinewidth": 0,
              "ticks": ""
             }
            },
            "type": "scatter"
           }
          ],
          "scatter3d": [
           {
            "line": {
             "colorbar": {
              "outlinewidth": 0,
              "ticks": ""
             }
            },
            "marker": {
             "colorbar": {
              "outlinewidth": 0,
              "ticks": ""
             }
            },
            "type": "scatter3d"
           }
          ],
          "scattercarpet": [
           {
            "marker": {
             "colorbar": {
              "outlinewidth": 0,
              "ticks": ""
             }
            },
            "type": "scattercarpet"
           }
          ],
          "scattergeo": [
           {
            "marker": {
             "colorbar": {
              "outlinewidth": 0,
              "ticks": ""
             }
            },
            "type": "scattergeo"
           }
          ],
          "scattergl": [
           {
            "marker": {
             "colorbar": {
              "outlinewidth": 0,
              "ticks": ""
             }
            },
            "type": "scattergl"
           }
          ],
          "scattermapbox": [
           {
            "marker": {
             "colorbar": {
              "outlinewidth": 0,
              "ticks": ""
             }
            },
            "type": "scattermapbox"
           }
          ],
          "scatterpolar": [
           {
            "marker": {
             "colorbar": {
              "outlinewidth": 0,
              "ticks": ""
             }
            },
            "type": "scatterpolar"
           }
          ],
          "scatterpolargl": [
           {
            "marker": {
             "colorbar": {
              "outlinewidth": 0,
              "ticks": ""
             }
            },
            "type": "scatterpolargl"
           }
          ],
          "scatterternary": [
           {
            "marker": {
             "colorbar": {
              "outlinewidth": 0,
              "ticks": ""
             }
            },
            "type": "scatterternary"
           }
          ],
          "surface": [
           {
            "colorbar": {
             "outlinewidth": 0,
             "ticks": ""
            },
            "colorscale": [
             [
              0,
              "#0d0887"
             ],
             [
              0.1111111111111111,
              "#46039f"
             ],
             [
              0.2222222222222222,
              "#7201a8"
             ],
             [
              0.3333333333333333,
              "#9c179e"
             ],
             [
              0.4444444444444444,
              "#bd3786"
             ],
             [
              0.5555555555555556,
              "#d8576b"
             ],
             [
              0.6666666666666666,
              "#ed7953"
             ],
             [
              0.7777777777777778,
              "#fb9f3a"
             ],
             [
              0.8888888888888888,
              "#fdca26"
             ],
             [
              1,
              "#f0f921"
             ]
            ],
            "type": "surface"
           }
          ],
          "table": [
           {
            "cells": {
             "fill": {
              "color": "#EBF0F8"
             },
             "line": {
              "color": "white"
             }
            },
            "header": {
             "fill": {
              "color": "#C8D4E3"
             },
             "line": {
              "color": "white"
             }
            },
            "type": "table"
           }
          ]
         },
         "layout": {
          "annotationdefaults": {
           "arrowcolor": "#2a3f5f",
           "arrowhead": 0,
           "arrowwidth": 1
          },
          "autotypenumbers": "strict",
          "coloraxis": {
           "colorbar": {
            "outlinewidth": 0,
            "ticks": ""
           }
          },
          "colorscale": {
           "diverging": [
            [
             0,
             "#8e0152"
            ],
            [
             0.1,
             "#c51b7d"
            ],
            [
             0.2,
             "#de77ae"
            ],
            [
             0.3,
             "#f1b6da"
            ],
            [
             0.4,
             "#fde0ef"
            ],
            [
             0.5,
             "#f7f7f7"
            ],
            [
             0.6,
             "#e6f5d0"
            ],
            [
             0.7,
             "#b8e186"
            ],
            [
             0.8,
             "#7fbc41"
            ],
            [
             0.9,
             "#4d9221"
            ],
            [
             1,
             "#276419"
            ]
           ],
           "sequential": [
            [
             0,
             "#0d0887"
            ],
            [
             0.1111111111111111,
             "#46039f"
            ],
            [
             0.2222222222222222,
             "#7201a8"
            ],
            [
             0.3333333333333333,
             "#9c179e"
            ],
            [
             0.4444444444444444,
             "#bd3786"
            ],
            [
             0.5555555555555556,
             "#d8576b"
            ],
            [
             0.6666666666666666,
             "#ed7953"
            ],
            [
             0.7777777777777778,
             "#fb9f3a"
            ],
            [
             0.8888888888888888,
             "#fdca26"
            ],
            [
             1,
             "#f0f921"
            ]
           ],
           "sequentialminus": [
            [
             0,
             "#0d0887"
            ],
            [
             0.1111111111111111,
             "#46039f"
            ],
            [
             0.2222222222222222,
             "#7201a8"
            ],
            [
             0.3333333333333333,
             "#9c179e"
            ],
            [
             0.4444444444444444,
             "#bd3786"
            ],
            [
             0.5555555555555556,
             "#d8576b"
            ],
            [
             0.6666666666666666,
             "#ed7953"
            ],
            [
             0.7777777777777778,
             "#fb9f3a"
            ],
            [
             0.8888888888888888,
             "#fdca26"
            ],
            [
             1,
             "#f0f921"
            ]
           ]
          },
          "colorway": [
           "#636efa",
           "#EF553B",
           "#00cc96",
           "#ab63fa",
           "#FFA15A",
           "#19d3f3",
           "#FF6692",
           "#B6E880",
           "#FF97FF",
           "#FECB52"
          ],
          "font": {
           "color": "#2a3f5f"
          },
          "geo": {
           "bgcolor": "white",
           "lakecolor": "white",
           "landcolor": "#E5ECF6",
           "showlakes": true,
           "showland": true,
           "subunitcolor": "white"
          },
          "hoverlabel": {
           "align": "left"
          },
          "hovermode": "closest",
          "mapbox": {
           "style": "light"
          },
          "paper_bgcolor": "white",
          "plot_bgcolor": "#E5ECF6",
          "polar": {
           "angularaxis": {
            "gridcolor": "white",
            "linecolor": "white",
            "ticks": ""
           },
           "bgcolor": "#E5ECF6",
           "radialaxis": {
            "gridcolor": "white",
            "linecolor": "white",
            "ticks": ""
           }
          },
          "scene": {
           "xaxis": {
            "backgroundcolor": "#E5ECF6",
            "gridcolor": "white",
            "gridwidth": 2,
            "linecolor": "white",
            "showbackground": true,
            "ticks": "",
            "zerolinecolor": "white"
           },
           "yaxis": {
            "backgroundcolor": "#E5ECF6",
            "gridcolor": "white",
            "gridwidth": 2,
            "linecolor": "white",
            "showbackground": true,
            "ticks": "",
            "zerolinecolor": "white"
           },
           "zaxis": {
            "backgroundcolor": "#E5ECF6",
            "gridcolor": "white",
            "gridwidth": 2,
            "linecolor": "white",
            "showbackground": true,
            "ticks": "",
            "zerolinecolor": "white"
           }
          },
          "shapedefaults": {
           "line": {
            "color": "#2a3f5f"
           }
          },
          "ternary": {
           "aaxis": {
            "gridcolor": "white",
            "linecolor": "white",
            "ticks": ""
           },
           "baxis": {
            "gridcolor": "white",
            "linecolor": "white",
            "ticks": ""
           },
           "bgcolor": "#E5ECF6",
           "caxis": {
            "gridcolor": "white",
            "linecolor": "white",
            "ticks": ""
           }
          },
          "title": {
           "x": 0.05
          },
          "xaxis": {
           "automargin": true,
           "gridcolor": "white",
           "linecolor": "white",
           "ticks": "",
           "title": {
            "standoff": 15
           },
           "zerolinecolor": "white",
           "zerolinewidth": 2
          },
          "yaxis": {
           "automargin": true,
           "gridcolor": "white",
           "linecolor": "white",
           "ticks": "",
           "title": {
            "standoff": 15
           },
           "zerolinecolor": "white",
           "zerolinewidth": 2
          }
         }
        },
        "title": {
         "text": "Proportion Fully Vaccinated by Vaccine Equity Metric Quartiles"
        },
        "xaxis": {
         "anchor": "y",
         "domain": [
          0,
          1
         ]
        },
        "yaxis": {
         "anchor": "x",
         "domain": [
          0,
          1
         ],
         "title": {
          "text": "Proportion Fully Vaccinated"
         }
        }
       }
      },
      "text/html": [
       "<div>                            <div id=\"ddfa670a-9414-4f71-a75e-547beda38240\" class=\"plotly-graph-div\" style=\"height:525px; width:100%;\"></div>            <script type=\"text/javascript\">                require([\"plotly\"], function(Plotly) {                    window.PLOTLYENV=window.PLOTLYENV || {};                                    if (document.getElementById(\"ddfa670a-9414-4f71-a75e-547beda38240\")) {                    Plotly.newPlot(                        \"ddfa670a-9414-4f71-a75e-547beda38240\",                        [{\"alignmentgroup\":\"True\",\"boxpoints\":\"all\",\"customdata\":[[94582],[92679],[94546],[94597],[95254],[94118],[94087],[94306],[94526],[95054],[93546],[92121],[95728],[94110],[94599],[94566],[94552],[94536],[94547],[95816],[94074],[92127],[92037],[92649],[92106],[92688],[95046],[90405],[94957],[94518],[90277],[90025],[92618],[95118],[94116],[92808],[92887],[90245],[94089],[94086],[94508],[94066],[94043],[90742],[92625],[94122],[90254],[90290],[90703],[91915],[91390],[90094],[92007],[90212],[94131],[94530],[91008],[90743],[95409],[90036],[90275],[95651],[95746],[92130],[92126],[90803],[90401],[92064],[95618],[91403],[95672],[95742],[95035],[94538],[90720],[90048],[91436],[95073],[95377],[95148],[90064],[90402],[95442],[90067],[90210],[90274],[95757],[90069],[93621],[95139],[95051],[96145],[95033],[95131],[91759],[93012],[95125],[94513],[93664],[91377],[92610],[95134],[94114],[90293],[95070],[95132],[95113],[94080],[95864],[95018],[95135],[94563],[95124],[94402],[94065],[95765],[91326],[95014],[94304],[95008],[94061],[94062],[96161],[95663],[95065],[95005],[95136],[91737],[91739],[95492],[95405],[92657],[95452],[91360],[90049],[95683],[95630],[95720],[95612],[95032],[92660],[94923],[94568],[94710],[94510],[94305],[93063],[94706],[94583],[93604],[94901],[94947],[94117],[94920],[92694],[95037],[94506],[94924],[94971],[94542],[92835],[94037],[94030],[95120],[94523],[94404],[94550],[92823],[93517],[93111],[92620],[95003],[95123],[92630],[90713],[94586],[93109],[95030],[93962],[94939],[95747],[95722],[95119],[90278],[91362],[94618],[94610],[95006],[90263],[93463],[94598],[93541],[94705],[94703],[94596],[93531],[93065],[90808],[93950],[90403],[93105],[94553],[94041],[91214],[91208],[92606],[94015],[91361],[95138],[91307],[92091],[95129],[95130],[95497],[95537],[92103],[94564],[94965],[91301],[90292],[90505],[92075],[94027],[94973],[91354],[94595],[94946],[94937],[90291],[94555],[91364],[90265],[90272],[94038],[91030],[94574],[90266],[91350],[91320],[90230],[90077],[91711],[94903],[93108],[93908],[93441],[93953],[91107],[91914],[94702],[93923],[91024],[93244],[91604],[92014],[93010],[93460],[92614],[92692],[92656],[94954],[90815],[94904],[94020],[91784],[91381],[94930],[91355],[92009],[92845],[92807],[92782],[93623],[92129],[92128],[92629],[93449],[94158],[92122],[92315],[94963],[94123],[94022],[94611],[94588],[92691],[94060],[92120],[94551],[94528],[94505],[92119],[94534],[94085],[91948],[94707],[91423],[91108],[91105],[94531],[94521],[94021],[94709],[93940],[94025],[93730],[93619],[92024],[92646],[93021],[94040],[92677],[92010],[92886],[94925],[93013],[92662],[92604],[91302],[91011],[92067],[95140],[94005],[94127],[94002],[94941],[94803],[92602],[92673],[94501],[95066],[94556],[94507],[94115],[94107],[94956],[94945],[94549],[94525],[94129],[94960],[94019],[94070],[94949],[94938],[94708],[92011],[94952],[95819],[94970],[94024],[94539],[94502],[94403],[94517],[92676],[92653],[94111],[92663],[94044],[94301],[92651],[92131],[92648],[93432],[92861],[94010],[94028],[94121],[94105],[92603],[95762],[91902]],\"hovertemplate\":\"Percent Fully Vaccinated: %{y} <br>Zipcode: %{customdata}\",\"legendgroup\":\"4.0\",\"marker\":{\"color\":\"#636efa\"},\"name\":\"4.0\",\"notched\":false,\"offsetgroup\":\"4.0\",\"orientation\":\"v\",\"showlegend\":true,\"x0\":\" \",\"xaxis\":\"x\",\"y\":[1.0,0.704095,0.900288,0.888412,0.312077,0.797886,0.942615,0.954682,0.915,0.955384,0.767165,1.0,1.0,0.901025,0.878808,0.879865,0.915878,0.853041,0.893913,0.883023,0.935294,0.852539,0.963867,0.703229,0.726675,0.727199,0.89519,0.860991,1.0,0.805115,0.843923,0.767685,1.0,0.895396,0.886027,0.754485,0.74925,0.950855,0.902897,0.89423,0.462718,0.899347,0.905006,0.95614,0.718388,0.823125,0.846225,0.824587,0.880983,0.838007,0.697409,0.849312,0.751588,0.755557,0.850743,0.960933,0.89265,1.0,0.840627,0.802254,0.830879,0.866987,0.71858,0.94697,0.751655,0.76087,1.0,0.731021,0.842768,0.859332,0.539624,1.0,0.943219,0.883201,0.766765,0.850119,0.862672,0.79941,0.834316,0.893814,0.945023,0.860226,0.731246,1.0,0.919865,0.897152,0.892748,0.863112,1.0,0.788275,0.951297,1.0,0.80172,0.909538,0.857143,0.771019,0.904017,0.828968,0.802632,0.863409,0.634056,0.917337,0.833288,0.745385,0.999639,0.919558,1.0,0.867575,0.826311,0.885324,0.908887,0.959674,0.874436,0.95499,0.92885,0.789099,0.864284,0.939414,1.0,0.907156,0.801945,0.8439,0.658635,0.706366,0.793637,0.664798,0.853807,0.677358,0.711591,0.779653,0.873479,0.894663,1.0,0.75897,0.830729,0.788013,0.761911,0.681319,0.753539,0.965209,0.747023,1.0,1.0,0.971371,0.790767,0.555667,0.721293,0.885444,1.0,0.775047,0.96253,0.851081,0.707752,0.887464,0.862336,0.863512,0.932002,1.0,1.0,0.80484,0.837247,0.969596,0.930781,0.944508,0.890277,0.912772,0.828897,0.957313,0.635368,0.890808,0.987579,0.770347,0.867222,0.83855,0.76748,1.0,0.802801,0.89283,1.0,0.999686,0.851945,0.624617,0.977,0.873534,0.7969,0.890959,0.83329,0.688043,0.229053,0.709573,0.924923,1.0,0.914961,0.783032,0.923612,0.896875,0.749775,0.789451,0.782067,0.887514,0.750571,0.841697,0.934712,0.830457,0.800066,0.742043,0.831508,0.801882,0.857744,0.789802,0.927859,0.948548,0.84225,0.459002,0.784861,1.0,0.875578,0.825266,0.775095,0.896633,0.845951,0.825491,0.850557,1.0,0.825472,0.896979,0.778287,1.0,0.805352,0.875924,0.796626,0.594219,0.919982,0.762227,0.91188,0.763937,0.876801,0.871532,0.782562,0.835577,0.929002,0.749073,0.92231,0.819263,0.833164,0.959739,0.84673,0.892758,0.925715,0.922118,0.718242,0.844451,0.730104,0.780942,0.849038,0.718826,0.722908,0.882381,0.769093,0.766432,0.845085,0.759972,0.898496,0.6975,0.783003,0.848179,0.865582,0.819635,0.751499,0.752193,0.773174,1.0,0.561404,0.808032,0.784394,0.684758,0.700971,1.0,0.815194,0.703109,1.0,0.768444,1.0,0.943573,0.874775,0.704445,1.0,0.799113,0.725017,1.0,0.655375,0.759586,0.829181,0.929647,0.376923,1.0,0.779249,0.876452,0.957375,0.836288,0.838468,0.238748,0.736681,0.696026,0.892194,0.791842,0.83011,0.771665,0.73011,0.749399,0.933611,0.742604,0.829373,0.733229,0.954796,0.810515,0.731748,0.808926,0.800147,0.896895,1.0,1.0,0.936297,0.882303,0.930795,0.894159,0.864269,1.0,0.664294,0.881661,0.818375,0.876659,0.911771,0.855836,0.887021,1.0,0.840929,0.91292,0.778553,0.677179,0.875058,0.678988,0.93996,0.848951,0.600686,0.951664,0.719577,0.771737,0.766805,0.655572,0.953162,0.944457,0.923533,0.904575,0.800797,0.613717,0.784616,1.0,0.63098,0.862406,0.946749,0.738691,0.914187,0.705455,0.560311,0.731254,0.935266,0.88119,0.856345,1.0,0.904916,0.859424,0.775103],\"y0\":\" \",\"yaxis\":\"y\",\"type\":\"box\",\"jitter\":0.2},{\"alignmentgroup\":\"True\",\"boxpoints\":\"all\",\"customdata\":[[92108],[93461],[92592],[94577],[92008],[92870],[95469],[94515],[95220],[92065],[93711],[95410],[96093],[95835],[93420],[95320],[95236],[92111],[96150],[94519],[92397],[95401],[94585],[92549],[94587],[93455],[95488],[91504],[91387],[90746],[95010],[95311],[92624],[91316],[90732],[93110],[92506],[90035],[95117],[94401],[93626],[90740],[96106],[92382],[90503],[95432],[92708],[96073],[91724],[90717],[96103],[90601],[92210],[90755],[93422],[93667],[90024],[95376],[95465],[95366],[90305],[95831],[95403],[95758],[90745],[90712],[95631],[95658],[95982],[95665],[95023],[95829],[95321],[90034],[95677],[95547],[91745],[95232],[95391],[95616],[95655],[90404],[95697],[90807],[95013],[90240],[95372],[90068],[95425],[96146],[90501],[95421],[95632],[90066],[90638],[95549],[90041],[95460],[90232],[95318],[95448],[95304],[90248],[95219],[93924],[95709],[96114],[94559],[91709],[95133],[95020],[92591],[93921],[91741],[95570],[95620],[93651],[95404],[96129],[95525],[94132],[95420],[91506],[95379],[91356],[95690],[91780],[91325],[95601],[96143],[91740],[96092],[95693],[95726],[95936],[96128],[92563],[95227],[96142],[94112],[95224],[93720],[95949],[95691],[95121],[96140],[95818],[95713],[95062],[95444],[91931],[94580],[95638],[91765],[95640],[95126],[95223],[95450],[91750],[95957],[92056],[91791],[95830],[95060],[93311],[92881],[95642],[95701],[95776],[91941],[95441],[95667],[95436],[95826],[95648],[91789],[95614],[95674],[95346],[95624],[95524],[95472],[95661],[95682],[95662],[95476],[91101],[95973],[92040],[95678],[95688],[95629],[95316],[95669],[92672],[93312],[94579],[92587],[92596],[92880],[94133],[90630],[92661],[92780],[93401],[94134],[92078],[90623],[90620],[93440],[93428],[95017],[93451],[95043],[95242],[95258],[93510],[95050],[94303],[94572],[93427],[93430],[93402],[93446],[91367],[93513],[93442],[93453],[94922],[95628],[93067],[93271],[95975],[95002],[94591],[93514],[93920],[93066],[94931],[94609],[93035],[93444],[93645],[95687],[94608],[95603],[95128],[95602],[90603],[93512],[90045],[94602],[90056],[94558],[92508],[92104],[91206],[91207],[91007],[95470],[95519],[95607],[92883],[92321],[94940],[92584],[91104],[92118],[91351],[91311],[91344],[91202],[95127],[90046],[92333],[92116],[90502],[91775],[90039],[92705],[90211],[92060],[91020],[90504],[90814],[91106],[91701],[91001],[91722],[91773],[93023],[93551],[91913],[94951],[91962],[93117],[92373],[91710],[91304],[90631],[94014],[92865],[93424],[92339],[93465],[92352],[93561],[91942],[91607],[91505],[93103],[93003],[93602],[91602],[91384],[91935],[92647],[92833],[93611],[93426],[93314],[94548],[94503],[92109],[94592],[94561],[92211],[92251],[93628],[93928],[94805],[93601],[91016],[92107],[92675],[92071],[92110],[92260],[92003],[92626],[93004],[95650],[92637],[92867],[93101],[91006],[95918],[92617],[92821],[94109],[92562],[95228],[94928],[92019],[94560],[94619],[95922],[94933],[92117],[92123],[94545],[95935],[92612],[92869],[92203],[92831],[95694],[95843],[95959],[92124],[93405],[92029],[95703],[92253],[95956],[92860],[95983],[95623],[95689],[92082],[95942],[92532],[95664],[95938],[95946],[93545],[93022],[91901]],\"hovertemplate\":\"Percent Fully Vaccinated: %{y} <br>Zipcode: %{customdata}\",\"legendgroup\":\"3.0\",\"marker\":{\"color\":\"#EF553B\"},\"name\":\"3.0\",\"notched\":false,\"offsetgroup\":\"3.0\",\"orientation\":\"v\",\"showlegend\":true,\"x0\":\" \",\"xaxis\":\"x\",\"y\":[0.853272,0.567106,0.559625,0.880023,0.737653,0.735084,0.517261,0.747422,0.53,0.551863,0.699787,0.674089,0.613926,0.79328,0.674358,0.551775,0.655992,0.69863,0.475437,0.782257,0.647101,0.757073,0.683394,1.0,0.837119,0.64786,0.875862,0.752572,0.801253,0.736967,0.894618,0.432289,0.692048,0.734471,0.689209,0.765258,0.670329,0.833948,0.830784,0.882294,0.503834,0.816601,1.0,0.669544,0.867311,0.444444,0.807119,0.584995,0.74423,0.756441,0.734443,0.750322,0.823841,0.74882,0.593785,0.436996,0.542532,0.666133,0.674101,0.59656,0.694873,0.811166,0.78361,0.785622,0.846568,0.794867,0.450502,0.597859,0.465776,0.591095,0.758146,0.916818,0.64804,0.851205,0.724014,0.724206,0.819641,0.913043,0.963973,0.698058,0.673096,0.781675,1.0,0.794159,1.0,0.787263,0.587602,0.841929,0.853799,0.934743,0.811237,0.607205,0.623293,0.773569,0.722794,0.564103,0.760979,0.855237,0.966451,1.0,0.861835,0.62153,0.744543,0.685923,0.789298,0.466429,0.292699,0.784373,0.765229,0.924129,0.84179,0.611905,0.772462,0.752407,0.810127,0.680689,0.502652,0.761005,0.241279,0.930505,0.69121,0.404661,0.852504,0.395625,0.803869,0.725676,0.87922,0.780432,1.0,0.636879,0.748411,0.659639,0.660167,0.554375,1.0,0.223358,0.626454,0.798742,0.586291,0.942434,1.0,0.73318,0.551465,0.747996,0.940255,0.853921,0.850162,0.394685,0.789368,1.0,0.368601,0.834635,0.593051,0.863325,0.422074,0.878308,0.919741,1.0,0.728282,0.426683,0.707819,0.802024,0.786104,0.755038,0.780862,0.607233,0.657629,0.449604,0.93192,0.752865,1.0,0.60136,0.672244,0.671771,0.71783,0.832971,0.541287,0.606354,0.446128,0.785673,0.904294,0.725335,0.746807,0.633796,0.639005,0.786717,0.801342,0.661246,0.55093,0.69109,0.685259,0.543617,0.493603,0.733394,0.661955,0.579776,0.902453,0.50388,0.54675,0.615171,0.83646,0.802907,0.623646,0.704355,0.802015,0.983863,0.709896,0.822376,0.775578,0.745455,0.772775,0.781297,0.562485,0.415942,0.670258,0.804115,0.541621,0.868121,0.876125,0.735059,0.717842,0.704595,0.676798,0.611644,0.751671,0.597732,0.726707,0.585034,0.310277,0.743914,1.0,0.516914,0.512563,0.775806,0.773438,0.599732,0.629959,0.709396,0.829207,0.789455,0.692346,0.702222,0.918919,0.584131,0.821934,0.600603,0.814603,0.632841,0.731151,0.379205,1.0,0.880686,0.87627,0.785297,0.603669,0.783095,0.690616,0.71764,0.844895,0.636398,0.659059,0.439589,0.653565,0.646884,0.487805,0.586421,0.759989,0.695668,0.778924,0.746736,0.775691,0.690738,0.824231,0.737593,0.791328,0.759606,0.825367,0.838782,0.81035,0.736289,0.89036,0.981928,0.719258,0.797482,0.734194,0.809376,0.682252,0.777197,0.797227,0.730872,0.733571,0.732131,0.819108,0.72495,0.479208,0.602336,0.752644,0.58971,0.732667,0.734542,0.815388,0.726317,1.0,0.547337,0.689035,0.58202,0.441657,0.723475,0.738698,0.874309,0.800821,0.739731,0.449339,0.771082,0.557767,0.681027,0.678406,0.784526,0.66284,0.34236,0.665867,1.0,0.926488,0.721954,0.929785,0.777959,0.874505,0.717124,1.0,0.12178,0.915708,0.568663,0.766423,0.660717,0.651447,0.640394,0.697661,0.690358,0.648969,0.703694,0.736085,0.57982,0.952844,0.687758,0.812923,0.856031,0.390575,0.659225,0.806111,0.771402,0.570351,0.548899,0.791081,0.672672,0.88225,0.891192,0.345865,0.968707,0.714742,0.771741,0.894806,1.0,0.725569,0.748945,0.686099,0.685043,0.663695,0.584633,0.656158,0.608919,0.401932,0.768342,1.0,0.694106,0.678899,0.470371,0.584071,0.678984,0.48041,0.668167,0.895075,0.627861,0.500321,0.517385,0.667768,0.597067,0.583787,0.542029],\"y0\":\" \",\"yaxis\":\"y\",\"type\":\"box\",\"jitter\":0.2},{\"alignmentgroup\":\"True\",\"boxpoints\":\"all\",\"customdata\":[[96121],[92504],[96087],[95569],[94565],[92027],[96088],[95833],[95988],[95446],[95666],[92505],[95369],[95310],[91103],[95811],[96062],[92264],[96014],[95251],[95116],[94607],[95252],[93454],[94541],[95563],[92586],[95076],[95338],[96130],[96069],[90021],[92256],[90710],[93526],[96148],[95122],[96104],[96137],[96091],[96105],[90706],[96032],[92070],[90250],[92843],[90606],[90605],[92036],[91046],[96013],[93669],[96047],[95453],[96022],[92004],[92025],[93933],[92020],[95437],[92806],[95370],[96051],[96006],[92585],[96096],[94108],[92328],[95329],[90302],[95468],[95426],[90010],[96064],[95368],[96107],[90065],[90670],[95461],[95615],[90810],[95303],[95834],[95367],[95361],[95698],[96027],[95699],[96101],[95382],[96009],[95681],[91501],[95822],[91746],[93040],[95459],[90247],[91752],[96097],[95456],[95610],[95075],[90704],[96065],[90241],[95645],[95457],[90019],[96134],[96038],[96067],[95627],[96080],[96035],[95947],[95558],[90660],[95249],[95323],[95327],[95248],[92069],[96126],[94533],[95467],[96094],[95635],[95626],[96034],[93925],[96056],[96025],[95355],[95589],[95007],[95445],[96033],[96003],[94511],[95490],[96055],[95212],[95526],[95112],[96016],[95407],[96020],[95551],[91723],[95222],[95695],[94578],[93907],[95111],[95527],[95449],[96058],[96057],[93536],[90731],[96002],[91945],[91411],[91754],[96021],[95692],[96001],[95439],[95209],[96120],[94520],[95562],[91345],[96124],[95110],[95415],[91792],[93030],[96048],[96028],[95335],[95943],[91776],[91803],[95814],[95560],[95633],[92840],[95659],[95330],[95336],[95482],[91755],[95608],[93555],[95462],[93230],[93265],[95919],[95385],[95503],[95521],[95536],[95619],[91601],[91911],[95825],[95412],[95668],[95501],[91786],[95928],[95670],[95540],[95528],[95306],[95324],[91040],[95451],[95564],[95004],[93238],[91963],[93614],[93221],[92590],[94605],[92081],[92704],[94804],[95012],[90715],[90242],[93631],[93643],[95045],[94589],[91801],[93285],[93445],[95977],[93527],[93225],[93901],[90020],[90260],[93955],[94606],[90604],[90621],[91340],[91010],[90014],[94576],[90026],[95567],[93523],[95514],[93060],[90701],[93553],[95019],[95827],[93243],[90680],[92054],[92536],[92336],[92083],[95641],[91321],[95237],[92582],[92802],[95945],[95969],[91042],[92557],[90042],[92314],[92325],[92084],[95636],[92518],[95954],[95971],[90249],[94571],[95962],[95986],[90650],[95675],[91977],[91790],[91730],[95685],[90027],[91303],[91306],[90602],[90071],[93277],[91702],[93433],[92374],[93603],[91978],[91401],[91343],[91916],[94704],[93436],[93313],[93532],[91342],[93906],[93657],[92503],[92239],[95621],[92841],[92707],[92627],[93710],[91932],[91748],[94063],[92595],[92101],[92320],[92114],[93723],[93636],[92059],[94567],[93653],[92154],[93015],[94806],[92028],[91502],[93452],[91406],[93518],[91335],[91324],[91910],[91761],[92021],[92270],[92683],[92706],[92882],[92115],[92307],[93036],[92313],[92804],[92377],[93222],[93001],[92378],[95204],[92346],[92879],[92354],[93041],[95948],[91201],[95926],[95932],[92344],[92866],[94544],[92223],[94514],[94612],[92139],[94124],[94509],[95225],[94103],[95383],[95917],[95955],[95230],[92057],[95912],[92868],[95987],[95337],[95363],[92801],[95817],[92262],[92268],[92061],[92555],[93644],[92655],[92832],[92561],[95673],[92026],[92399],[92347],[92342],[95714],[95993],[92391],[92337],[95951],[95970],[95356],[95684],[95326],[95960],[95634],[92359]],\"hovertemplate\":\"Percent Fully Vaccinated: %{y} <br>Zipcode: %{customdata}\",\"legendgroup\":\"2.0\",\"marker\":{\"color\":\"#00cc96\"},\"name\":\"2.0\",\"notched\":false,\"offsetgroup\":\"2.0\",\"orientation\":\"v\",\"showlegend\":true,\"x0\":\" \",\"xaxis\":\"x\",\"y\":[0.423197,0.582929,0.678309,0.272237,0.825743,0.653417,0.473868,0.698922,0.571225,0.758948,0.604437,0.594005,0.402427,0.683099,0.796081,0.999165,0.380488,0.817543,0.459259,0.5392,0.782111,0.818239,0.42166,0.707512,0.841076,0.433083,0.736073,0.809617,0.485714,0.295492,0.447268,1.0,0.590479,0.708474,0.576471,1.0,0.901946,0.385,0.40928,0.491803,0.298387,0.710034,0.380338,0.857335,0.726065,0.789585,0.731655,0.763292,0.740385,0.822785,0.413903,0.5,0.379475,0.630797,0.414212,1.0,0.632277,0.775503,0.684076,0.73708,0.740929,0.531467,0.409299,0.458667,0.650088,0.4,0.778563,0.414118,0.462276,0.66846,0.707993,0.682222,1.0,0.401342,0.648875,0.253945,0.79021,0.776311,0.633814,0.998459,0.732355,0.368116,0.885332,0.61231,0.524796,1.0,0.418769,1.0,0.458973,0.607001,0.584718,0.580734,0.719288,0.7508,0.792773,0.87566,0.587734,0.764142,0.677613,0.490229,0.676435,0.57601,0.864532,0.634735,0.576623,0.779139,0.550201,0.598299,0.758734,0.419537,0.406003,0.633611,0.675271,0.47767,0.389336,0.41202,0.684864,0.775503,0.379265,0.413366,0.380119,1.0,0.693639,1.0,0.671586,0.583804,0.540968,0.591128,0.519979,0.367647,0.612565,0.489738,0.568017,0.647099,0.717549,1.0,0.842661,0.353684,0.468395,0.637488,0.678684,0.493556,0.658495,1.0,0.729006,0.472155,0.774525,0.545892,0.743223,0.746606,0.526705,0.677955,0.775203,0.712682,0.865933,0.34433,0.613841,0.601852,0.546053,0.609096,0.771325,0.490343,0.70784,0.682817,0.93957,0.469696,0.442467,0.514659,0.832418,0.634847,0.51236,0.863504,0.523672,0.822175,0.405345,0.876647,0.898443,0.804771,0.782229,0.534582,0.564431,1.0,0.487365,0.863269,0.868099,0.559673,0.81824,0.399848,0.784344,0.412844,0.911522,0.642642,0.69834,0.910705,0.693283,0.47084,0.811439,0.534192,0.594861,0.550978,0.494737,0.658026,0.672818,0.651112,0.510591,0.788058,0.926879,0.607125,0.448101,0.561321,0.704682,0.66834,0.615233,0.654326,0.631119,0.370896,0.685524,0.38844,0.719808,0.606876,0.71466,0.732673,1.0,0.976125,0.541165,0.541366,0.513458,0.808695,0.673422,0.741011,0.919812,0.856101,0.752928,0.752697,0.612456,0.598177,0.687135,0.750733,0.818868,0.519255,0.635611,0.499254,0.620428,0.483192,0.820987,0.811313,0.751196,0.701738,0.837334,0.680654,0.773037,0.755781,0.790869,0.774733,1.0,0.724242,0.485286,0.256812,0.952381,0.739923,0.815691,0.552311,0.845373,0.642984,0.42876,0.753167,0.609702,0.548133,0.707041,0.665188,0.871847,0.727938,0.574182,0.68014,0.742365,0.609186,0.214063,0.688668,0.623599,0.73759,0.367454,0.654068,0.62613,0.341423,0.710497,0.343094,0.578984,0.799895,0.699505,0.682886,1.0,0.754137,0.300917,0.644756,0.796253,0.639022,0.650939,0.801617,0.713675,0.762996,0.714094,1.0,0.582574,0.700155,0.635784,0.637691,0.411429,0.672462,0.704779,0.716181,0.543598,0.468523,0.639894,0.685829,0.498454,0.771645,0.745754,0.696845,0.627004,0.599119,0.607568,0.812157,0.716063,0.653362,0.555182,0.674077,0.834394,0.85604,0.546764,0.854156,0.672442,0.720471,0.630455,0.672378,0.660832,0.616352,0.346505,0.930602,0.737586,0.838204,0.654705,0.798505,0.652015,0.739326,0.508685,0.742124,0.792976,0.926276,0.670758,0.607628,0.857231,0.82548,0.803079,0.616645,0.669851,0.522534,0.713962,0.649785,0.706746,0.670442,0.704068,0.737226,1.0,0.620844,0.56181,0.646079,0.74778,0.622054,0.580692,0.647252,0.599565,0.627861,0.490331,0.670872,0.837581,0.656962,0.583691,0.969428,0.747015,1.0,0.744067,0.897019,0.976807,0.71242,0.412065,0.49689,0.432763,0.617633,0.594465,0.65593,0.664342,0.759953,0.68484,0.677031,0.719246,0.779391,0.76044,0.810788,0.632027,0.527537,0.84726,0.74181,0.553571,0.506762,0.69209,0.565218,0.365777,0.452993,0.432485,0.686756,0.53818,0.630879,0.640147,0.448445,0.675369,0.460374,0.592458,0.928025,0.404996,0.520705],\"y0\":\" \",\"yaxis\":\"y\",\"type\":\"box\",\"jitter\":0.2},{\"alignmentgroup\":\"True\",\"boxpoints\":\"all\",\"customdata\":[[92277],[93618],[95556],[95388],[95386],[92335],[92701],[92401],[93635],[93501],[92363],[93640],[93458],[93304],[95357],[95317],[93552],[95206],[92509],[95427],[95345],[95914],[93274],[95963],[93261],[90716],[93212],[96010],[92539],[95428],[90018],[90744],[93306],[93270],[93252],[95360],[93728],[93673],[96041],[90063],[92301],[93930],[93263],[90031],[92543],[96084],[93660],[90029],[90201],[93591],[92356],[93291],[96052],[92227],[93646],[92283],[96109],[90059],[93218],[92411],[96113],[96007],[96090],[96019],[96039],[96011],[92282],[94590],[93505],[92327],[95573],[92372],[92392],[92276],[95354],[92241],[92371],[96059],[90280],[95358],[92408],[95568],[95245],[90813],[95542],[90016],[95494],[95240],[95348],[95543],[93627],[90013],[90270],[95435],[90001],[90012],[95968],[95585],[95374],[95625],[95961],[90028],[95319],[90221],[95341],[92086],[95565],[91768],[90008],[95815],[93612],[90804],[90057],[90723],[95545],[90061],[90806],[95653],[96044],[95351],[90022],[90037],[95458],[95554],[95821],[90301],[95605],[95387],[95553],[96086],[96118],[92236],[95423],[90017],[95422],[95322],[91402],[95215],[95207],[93609],[96050],[96122],[95555],[95039],[95313],[95548],[95660],[95546],[95511],[91731],[95333],[95202],[95340],[92386],[95312],[93616],[95466],[95464],[96024],[95838],[93638],[96023],[91744],[93701],[95454],[93608],[91763],[91733],[93307],[95686],[96049],[93267],[93560],[91917],[91605],[91762],[95639],[92310],[95823],[91770],[95842],[95828],[95380],[95920],[95637],[95606],[95307],[91606],[93535],[93543],[95559],[93201],[90032],[90043],[90006],[91766],[95925],[95350],[91732],[95205],[95552],[95365],[95485],[95901],[91352],[91767],[95531],[95257],[94601],[94621],[94801],[93625],[93266],[93727],[93254],[93205],[93308],[95979],[92173],[95991],[93544],[93309],[93251],[93286],[93240],[93224],[93272],[93630],[93204],[93434],[93926],[93637],[95820],[93562],[93257],[90007],[90023],[90033],[93301],[93675],[95916],[93250],[93927],[90004],[90805],[93256],[91203],[90003],[93268],[90304],[90011],[93954],[93239],[90255],[90038],[90802],[93203],[93615],[93722],[93534],[93516],[93622],[93620],[93241],[93255],[93219],[93280],[90005],[93650],[93210],[95903],[93721],[93666],[93215],[90262],[90044],[90040],[95255],[92571],[95203],[92398],[95832],[92113],[91764],[95301],[95210],[90047],[90640],[90220],[90002],[90222],[93960],[90058],[92066],[92501],[90303],[91205],[90015],[92365],[90062],[91905],[91331],[91906],[91950],[91934],[93550],[93610],[91204],[93668],[93305],[93606],[93648],[93932],[91706],[92309],[92259],[92258],[93654],[93656],[93702],[92231],[93662],[93665],[93706],[93450],[92368],[93905],[91405],[93703],[92252],[92583],[92274],[92233],[92257],[92308],[92201],[93033],[92249],[92105],[93258],[93245],[92242],[92530],[93647],[93235],[93292],[93652],[93704],[93705],[93725],[93624],[94535],[92243],[92220],[93283],[93247],[92395],[95950],[92376],[95334],[92316],[92254],[95824],[92545],[95246],[93242],[92250],[92345],[95953],[92405],[94130],[92805],[95315],[94603],[92058],[95231],[92234],[92284],[92225],[93202],[93223],[92703],[92407],[92404],[92311],[92281],[93726],[92844],[92285],[92275],[92544],[92570],[92507],[92324],[92240],[93249],[93206],[95965],[95966],[95328],[92551],[92548],[94102],[92230],[92102],[92358],[95937],[92273],[92410],[92567],[95939],[92394],[92553],[95247],[95841],[93234]],\"hovertemplate\":\"Percent Fully Vaccinated: %{y} <br>Zipcode: %{customdata}\",\"legendgroup\":\"1.0\",\"marker\":{\"color\":\"#ab63fa\"},\"name\":\"1.0\",\"notched\":false,\"offsetgroup\":\"1.0\",\"orientation\":\"v\",\"showlegend\":true,\"x0\":\" \",\"xaxis\":\"x\",\"y\":[0.351864,0.622114,0.472119,0.490246,0.476516,0.607226,0.637779,0.444709,0.70545,0.465886,0.233908,0.757263,0.696604,0.583275,0.65533,0.351174,0.721311,0.667395,0.60523,1.0,0.397959,0.5,0.547877,0.577117,0.683238,0.708195,0.335234,0.540984,0.358206,0.574009,0.697141,0.672801,0.610395,0.64007,0.224576,0.584099,0.598712,0.590071,0.420274,0.74697,0.499793,0.732784,0.577065,0.749251,0.531661,0.470472,0.743922,0.732835,0.703957,0.585746,0.366584,0.590224,0.445106,0.710154,0.558517,0.246867,0.244558,0.625685,0.6325,0.600928,0.096843,0.45641,0.446121,0.447218,0.384342,0.411168,0.472686,0.729243,0.392721,0.252322,0.705526,0.399788,0.577886,0.85076,0.585152,0.673308,0.352318,0.463654,0.760282,0.552745,0.593323,0.277778,0.603067,0.631942,0.666667,0.777938,1.0,0.593603,0.536649,0.513709,0.688259,0.771405,0.709196,0.712375,0.785786,0.866601,0.688797,0.569378,0.409866,1.0,0.570761,0.812554,0.670388,0.698803,0.451312,0.490617,0.60114,0.627136,0.676455,0.594252,0.612773,0.686749,0.627028,0.70676,0.872881,0.689214,0.729133,0.683305,0.382227,0.589604,0.7594,0.663602,0.509461,0.487342,0.693106,0.701789,0.613989,0.924528,0.625171,0.369963,0.427628,0.671575,0.538084,0.745344,0.495988,0.515183,0.73259,0.558833,0.554799,0.719364,0.430851,0.658696,0.442543,1.0,0.52278,0.494552,0.504928,0.433301,0.354962,0.744864,0.558149,0.53815,0.606894,0.471039,0.690678,0.616846,1.0,0.51542,0.497531,0.642246,0.607106,0.244109,0.741246,0.637967,0.840394,0.65636,0.672464,0.737541,0.576899,0.505111,1.0,0.458661,0.491898,1.0,0.71927,0.68214,0.591045,0.046038,0.709818,0.855141,0.537304,0.786895,0.55622,0.434783,0.802239,0.662651,0.587602,0.697526,0.621227,0.604431,1.0,0.441764,0.716113,0.700723,0.741046,0.684851,0.35,0.615223,0.74178,0.614304,0.215657,0.584259,0.534874,0.537934,0.723352,0.718284,0.464241,0.569554,0.853996,0.781783,0.897934,0.730494,0.627702,0.644136,0.594477,0.433505,0.482436,0.517677,1.0,0.610193,0.487973,0.582634,0.60733,0.594814,0.469874,0.291572,0.382284,0.690674,0.492809,0.770824,0.854743,0.622867,0.681885,0.296163,0.603328,0.82696,0.761634,0.782595,0.638239,0.414999,0.259623,0.54511,0.782676,0.792719,0.675993,0.53277,0.727198,0.682442,0.360129,0.780302,0.637416,0.358333,0.733333,0.718402,0.73744,0.740038,0.594118,0.49957,0.672978,0.617251,0.314705,0.636965,0.574238,0.588476,0.325615,0.593704,0.483482,0.747076,0.781843,0.403493,0.352941,0.490102,0.49866,0.598583,0.700358,0.628996,0.892488,0.671104,0.608181,0.595323,0.22085,0.719723,0.66585,0.618854,0.54303,0.570167,0.683063,0.767385,0.647328,0.684421,0.653623,0.537248,1.0,0.264234,0.754766,0.749813,0.640754,0.840675,0.314136,0.663425,0.525844,0.733818,0.486188,0.739307,1.0,0.661062,0.405096,0.621929,0.517098,0.514532,0.881427,0.648729,0.383929,0.778242,0.588595,1.0,0.869245,0.700805,0.658712,0.629803,1.0,0.673378,0.404727,0.57333,0.479199,0.371166,0.876456,0.674371,0.602421,0.474107,0.527794,0.834318,0.306012,0.877358,0.49529,0.687169,0.73828,0.835884,0.672964,0.937731,0.450762,0.098055,0.573081,0.587636,0.565143,0.587731,0.619718,0.617812,0.600689,0.629572,0.609125,0.240154,0.849555,0.585258,0.373471,0.534138,0.508046,1.0,0.612642,0.615556,0.690684,0.98197,0.720129,0.592386,0.740512,0.486789,0.762148,0.524987,0.645585,0.537123,0.552791,0.727845,0.476797,0.814596,0.387832,0.464689,0.721886,0.488556,0.306179,0.460481,0.542736,0.780468,0.54181,0.532901,0.411153,0.54359,0.585891,0.838959,0.437422,0.167335,0.483953,0.518961,0.621161,0.590616,0.689723,1.0,0.704142,0.468336,0.49228,0.536961,0.594566,0.462666,0.985962,0.420032,0.763361,0.621884,0.691528,0.652864,0.597502,0.498492,0.240484,0.558086,0.590135,0.767647,0.551909,0.615007],\"y0\":\" \",\"yaxis\":\"y\",\"type\":\"box\",\"jitter\":0.2}],                        {\"template\":{\"data\":{\"bar\":[{\"error_x\":{\"color\":\"#2a3f5f\"},\"error_y\":{\"color\":\"#2a3f5f\"},\"marker\":{\"line\":{\"color\":\"#E5ECF6\",\"width\":0.5},\"pattern\":{\"fillmode\":\"overlay\",\"size\":10,\"solidity\":0.2}},\"type\":\"bar\"}],\"barpolar\":[{\"marker\":{\"line\":{\"color\":\"#E5ECF6\",\"width\":0.5},\"pattern\":{\"fillmode\":\"overlay\",\"size\":10,\"solidity\":0.2}},\"type\":\"barpolar\"}],\"carpet\":[{\"aaxis\":{\"endlinecolor\":\"#2a3f5f\",\"gridcolor\":\"white\",\"linecolor\":\"white\",\"minorgridcolor\":\"white\",\"startlinecolor\":\"#2a3f5f\"},\"baxis\":{\"endlinecolor\":\"#2a3f5f\",\"gridcolor\":\"white\",\"linecolor\":\"white\",\"minorgridcolor\":\"white\",\"startlinecolor\":\"#2a3f5f\"},\"type\":\"carpet\"}],\"choropleth\":[{\"colorbar\":{\"outlinewidth\":0,\"ticks\":\"\"},\"type\":\"choropleth\"}],\"contour\":[{\"colorbar\":{\"outlinewidth\":0,\"ticks\":\"\"},\"colorscale\":[[0.0,\"#0d0887\"],[0.1111111111111111,\"#46039f\"],[0.2222222222222222,\"#7201a8\"],[0.3333333333333333,\"#9c179e\"],[0.4444444444444444,\"#bd3786\"],[0.5555555555555556,\"#d8576b\"],[0.6666666666666666,\"#ed7953\"],[0.7777777777777778,\"#fb9f3a\"],[0.8888888888888888,\"#fdca26\"],[1.0,\"#f0f921\"]],\"type\":\"contour\"}],\"contourcarpet\":[{\"colorbar\":{\"outlinewidth\":0,\"ticks\":\"\"},\"type\":\"contourcarpet\"}],\"heatmap\":[{\"colorbar\":{\"outlinewidth\":0,\"ticks\":\"\"},\"colorscale\":[[0.0,\"#0d0887\"],[0.1111111111111111,\"#46039f\"],[0.2222222222222222,\"#7201a8\"],[0.3333333333333333,\"#9c179e\"],[0.4444444444444444,\"#bd3786\"],[0.5555555555555556,\"#d8576b\"],[0.6666666666666666,\"#ed7953\"],[0.7777777777777778,\"#fb9f3a\"],[0.8888888888888888,\"#fdca26\"],[1.0,\"#f0f921\"]],\"type\":\"heatmap\"}],\"heatmapgl\":[{\"colorbar\":{\"outlinewidth\":0,\"ticks\":\"\"},\"colorscale\":[[0.0,\"#0d0887\"],[0.1111111111111111,\"#46039f\"],[0.2222222222222222,\"#7201a8\"],[0.3333333333333333,\"#9c179e\"],[0.4444444444444444,\"#bd3786\"],[0.5555555555555556,\"#d8576b\"],[0.6666666666666666,\"#ed7953\"],[0.7777777777777778,\"#fb9f3a\"],[0.8888888888888888,\"#fdca26\"],[1.0,\"#f0f921\"]],\"type\":\"heatmapgl\"}],\"histogram\":[{\"marker\":{\"pattern\":{\"fillmode\":\"overlay\",\"size\":10,\"solidity\":0.2}},\"type\":\"histogram\"}],\"histogram2d\":[{\"colorbar\":{\"outlinewidth\":0,\"ticks\":\"\"},\"colorscale\":[[0.0,\"#0d0887\"],[0.1111111111111111,\"#46039f\"],[0.2222222222222222,\"#7201a8\"],[0.3333333333333333,\"#9c179e\"],[0.4444444444444444,\"#bd3786\"],[0.5555555555555556,\"#d8576b\"],[0.6666666666666666,\"#ed7953\"],[0.7777777777777778,\"#fb9f3a\"],[0.8888888888888888,\"#fdca26\"],[1.0,\"#f0f921\"]],\"type\":\"histogram2d\"}],\"histogram2dcontour\":[{\"colorbar\":{\"outlinewidth\":0,\"ticks\":\"\"},\"colorscale\":[[0.0,\"#0d0887\"],[0.1111111111111111,\"#46039f\"],[0.2222222222222222,\"#7201a8\"],[0.3333333333333333,\"#9c179e\"],[0.4444444444444444,\"#bd3786\"],[0.5555555555555556,\"#d8576b\"],[0.6666666666666666,\"#ed7953\"],[0.7777777777777778,\"#fb9f3a\"],[0.8888888888888888,\"#fdca26\"],[1.0,\"#f0f921\"]],\"type\":\"histogram2dcontour\"}],\"mesh3d\":[{\"colorbar\":{\"outlinewidth\":0,\"ticks\":\"\"},\"type\":\"mesh3d\"}],\"parcoords\":[{\"line\":{\"colorbar\":{\"outlinewidth\":0,\"ticks\":\"\"}},\"type\":\"parcoords\"}],\"pie\":[{\"automargin\":true,\"type\":\"pie\"}],\"scatter\":[{\"marker\":{\"colorbar\":{\"outlinewidth\":0,\"ticks\":\"\"}},\"type\":\"scatter\"}],\"scatter3d\":[{\"line\":{\"colorbar\":{\"outlinewidth\":0,\"ticks\":\"\"}},\"marker\":{\"colorbar\":{\"outlinewidth\":0,\"ticks\":\"\"}},\"type\":\"scatter3d\"}],\"scattercarpet\":[{\"marker\":{\"colorbar\":{\"outlinewidth\":0,\"ticks\":\"\"}},\"type\":\"scattercarpet\"}],\"scattergeo\":[{\"marker\":{\"colorbar\":{\"outlinewidth\":0,\"ticks\":\"\"}},\"type\":\"scattergeo\"}],\"scattergl\":[{\"marker\":{\"colorbar\":{\"outlinewidth\":0,\"ticks\":\"\"}},\"type\":\"scattergl\"}],\"scattermapbox\":[{\"marker\":{\"colorbar\":{\"outlinewidth\":0,\"ticks\":\"\"}},\"type\":\"scattermapbox\"}],\"scatterpolar\":[{\"marker\":{\"colorbar\":{\"outlinewidth\":0,\"ticks\":\"\"}},\"type\":\"scatterpolar\"}],\"scatterpolargl\":[{\"marker\":{\"colorbar\":{\"outlinewidth\":0,\"ticks\":\"\"}},\"type\":\"scatterpolargl\"}],\"scatterternary\":[{\"marker\":{\"colorbar\":{\"outlinewidth\":0,\"ticks\":\"\"}},\"type\":\"scatterternary\"}],\"surface\":[{\"colorbar\":{\"outlinewidth\":0,\"ticks\":\"\"},\"colorscale\":[[0.0,\"#0d0887\"],[0.1111111111111111,\"#46039f\"],[0.2222222222222222,\"#7201a8\"],[0.3333333333333333,\"#9c179e\"],[0.4444444444444444,\"#bd3786\"],[0.5555555555555556,\"#d8576b\"],[0.6666666666666666,\"#ed7953\"],[0.7777777777777778,\"#fb9f3a\"],[0.8888888888888888,\"#fdca26\"],[1.0,\"#f0f921\"]],\"type\":\"surface\"}],\"table\":[{\"cells\":{\"fill\":{\"color\":\"#EBF0F8\"},\"line\":{\"color\":\"white\"}},\"header\":{\"fill\":{\"color\":\"#C8D4E3\"},\"line\":{\"color\":\"white\"}},\"type\":\"table\"}]},\"layout\":{\"annotationdefaults\":{\"arrowcolor\":\"#2a3f5f\",\"arrowhead\":0,\"arrowwidth\":1},\"autotypenumbers\":\"strict\",\"coloraxis\":{\"colorbar\":{\"outlinewidth\":0,\"ticks\":\"\"}},\"colorscale\":{\"diverging\":[[0,\"#8e0152\"],[0.1,\"#c51b7d\"],[0.2,\"#de77ae\"],[0.3,\"#f1b6da\"],[0.4,\"#fde0ef\"],[0.5,\"#f7f7f7\"],[0.6,\"#e6f5d0\"],[0.7,\"#b8e186\"],[0.8,\"#7fbc41\"],[0.9,\"#4d9221\"],[1,\"#276419\"]],\"sequential\":[[0.0,\"#0d0887\"],[0.1111111111111111,\"#46039f\"],[0.2222222222222222,\"#7201a8\"],[0.3333333333333333,\"#9c179e\"],[0.4444444444444444,\"#bd3786\"],[0.5555555555555556,\"#d8576b\"],[0.6666666666666666,\"#ed7953\"],[0.7777777777777778,\"#fb9f3a\"],[0.8888888888888888,\"#fdca26\"],[1.0,\"#f0f921\"]],\"sequentialminus\":[[0.0,\"#0d0887\"],[0.1111111111111111,\"#46039f\"],[0.2222222222222222,\"#7201a8\"],[0.3333333333333333,\"#9c179e\"],[0.4444444444444444,\"#bd3786\"],[0.5555555555555556,\"#d8576b\"],[0.6666666666666666,\"#ed7953\"],[0.7777777777777778,\"#fb9f3a\"],[0.8888888888888888,\"#fdca26\"],[1.0,\"#f0f921\"]]},\"colorway\":[\"#636efa\",\"#EF553B\",\"#00cc96\",\"#ab63fa\",\"#FFA15A\",\"#19d3f3\",\"#FF6692\",\"#B6E880\",\"#FF97FF\",\"#FECB52\"],\"font\":{\"color\":\"#2a3f5f\"},\"geo\":{\"bgcolor\":\"white\",\"lakecolor\":\"white\",\"landcolor\":\"#E5ECF6\",\"showlakes\":true,\"showland\":true,\"subunitcolor\":\"white\"},\"hoverlabel\":{\"align\":\"left\"},\"hovermode\":\"closest\",\"mapbox\":{\"style\":\"light\"},\"paper_bgcolor\":\"white\",\"plot_bgcolor\":\"#E5ECF6\",\"polar\":{\"angularaxis\":{\"gridcolor\":\"white\",\"linecolor\":\"white\",\"ticks\":\"\"},\"bgcolor\":\"#E5ECF6\",\"radialaxis\":{\"gridcolor\":\"white\",\"linecolor\":\"white\",\"ticks\":\"\"}},\"scene\":{\"xaxis\":{\"backgroundcolor\":\"#E5ECF6\",\"gridcolor\":\"white\",\"gridwidth\":2,\"linecolor\":\"white\",\"showbackground\":true,\"ticks\":\"\",\"zerolinecolor\":\"white\"},\"yaxis\":{\"backgroundcolor\":\"#E5ECF6\",\"gridcolor\":\"white\",\"gridwidth\":2,\"linecolor\":\"white\",\"showbackground\":true,\"ticks\":\"\",\"zerolinecolor\":\"white\"},\"zaxis\":{\"backgroundcolor\":\"#E5ECF6\",\"gridcolor\":\"white\",\"gridwidth\":2,\"linecolor\":\"white\",\"showbackground\":true,\"ticks\":\"\",\"zerolinecolor\":\"white\"}},\"shapedefaults\":{\"line\":{\"color\":\"#2a3f5f\"}},\"ternary\":{\"aaxis\":{\"gridcolor\":\"white\",\"linecolor\":\"white\",\"ticks\":\"\"},\"baxis\":{\"gridcolor\":\"white\",\"linecolor\":\"white\",\"ticks\":\"\"},\"bgcolor\":\"#E5ECF6\",\"caxis\":{\"gridcolor\":\"white\",\"linecolor\":\"white\",\"ticks\":\"\"}},\"title\":{\"x\":0.05},\"xaxis\":{\"automargin\":true,\"gridcolor\":\"white\",\"linecolor\":\"white\",\"ticks\":\"\",\"title\":{\"standoff\":15},\"zerolinecolor\":\"white\",\"zerolinewidth\":2},\"yaxis\":{\"automargin\":true,\"gridcolor\":\"white\",\"linecolor\":\"white\",\"ticks\":\"\",\"title\":{\"standoff\":15},\"zerolinecolor\":\"white\",\"zerolinewidth\":2}}},\"xaxis\":{\"anchor\":\"y\",\"domain\":[0.0,1.0]},\"yaxis\":{\"anchor\":\"x\",\"domain\":[0.0,1.0],\"title\":{\"text\":\"Proportion Fully Vaccinated\"}},\"legend\":{\"title\":{\"text\":\"Vaccine Equity Metric Quartiles\"},\"tracegroupgap\":0},\"title\":{\"text\":\"Proportion Fully Vaccinated by Vaccine Equity Metric Quartiles\"},\"boxmode\":\"group\"},                        {\"responsive\": true}                    ).then(function(){\n",
       "                            \n",
       "var gd = document.getElementById('ddfa670a-9414-4f71-a75e-547beda38240');\n",
       "var x = new MutationObserver(function (mutations, observer) {{\n",
       "        var display = window.getComputedStyle(gd).display;\n",
       "        if (!display || display === 'none') {{\n",
       "            console.log([gd, 'removed!']);\n",
       "            Plotly.purge(gd);\n",
       "            observer.disconnect();\n",
       "        }}\n",
       "}});\n",
       "\n",
       "// Listen for the removal of the full notebook cells\n",
       "var notebookContainer = gd.closest('#notebook-container');\n",
       "if (notebookContainer) {{\n",
       "    x.observe(notebookContainer, {childList: true});\n",
       "}}\n",
       "\n",
       "// Listen for the clearing of the current output cell\n",
       "var outputEl = gd.closest('.output');\n",
       "if (outputEl) {{\n",
       "    x.observe(outputEl, {childList: true});\n",
       "}}\n",
       "\n",
       "                        })                };                });            </script>        </div>"
      ]
     },
     "metadata": {},
     "output_type": "display_data"
    }
   ],
   "source": [
    "fig = px.box(latest, y= \"percent_of_population_fully_vaccinated\", \n",
    "                color = \"vaccine_equity_metric_quartile\",\n",
    "                points = \"all\",\n",
    "                hover_data = [\"zip_code_tabulation_area\"],\n",
    "                title = \"Proportion Fully Vaccinated by Vaccine Equity Metric Quartiles\",\n",
    "                labels = {\"percent_of_population_fully_vaccinated\" : \"Proportion Fully Vaccinated\",\n",
    "                          \"vaccine_equity_metric_quartile\" : \"Vaccine Equity Metric Quartiles\"})\n",
    "\n",
    "fig.update_traces(boxpoints='all', jitter=0.2)\n",
    "\n",
    "fig.update_traces(hovertemplate='Percent Fully Vaccinated: %{y} <br>Zipcode: %{customdata}')\n",
    "\n",
    "fig.show()"
   ]
  },
  {
   "cell_type": "code",
   "execution_count": null,
   "id": "1f2afad7",
   "metadata": {},
   "outputs": [],
   "source": []
  }
 ],
 "metadata": {
  "kernelspec": {
   "display_name": "Python 3 (ipykernel)",
   "language": "python",
   "name": "python3"
  },
  "language_info": {
   "codemirror_mode": {
    "name": "ipython",
    "version": 3
   },
   "file_extension": ".py",
   "mimetype": "text/x-python",
   "name": "python",
   "nbconvert_exporter": "python",
   "pygments_lexer": "ipython3",
   "version": "3.9.6"
  }
 },
 "nbformat": 4,
 "nbformat_minor": 5
}
